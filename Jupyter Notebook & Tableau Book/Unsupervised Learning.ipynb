{
 "cells": [
  {
   "cell_type": "code",
   "execution_count": 1,
   "id": "occupational-centre",
   "metadata": {
    "execution": {
     "iopub.status.idle": "2021-08-23T09:12:57.799608Z",
     "shell.execute_reply": "2021-08-23T09:12:57.799608Z",
     "shell.execute_reply.started": "2021-08-23T09:12:57.422523Z"
    }
   },
   "outputs": [
    {
     "name": "stdout",
     "output_type": "stream",
     "text": [
      "[('7bc2406110b926393aa56f80a40eba40', '73fc7af87114b39712e6da79b0a377eb', 4, datetime.datetime(2018, 1, 18, 0, 0), datetime.datetime(2018, 1, 18, 21, 46, 59)), ('80e641a11e56f04c1ad469d5645fdfde', 'a548910a1c6147796b98fdf73dbeba33', 5, datetime.datetime(2018, 3, 10, 0, 0), datetime.datetime(2018, 3, 11, 3, 5, 13)), ('228ce5500dc1d8e020d8d1322874b6f0', 'f9e4b658b201a9f2ecdecbb34bed034b', 5, datetime.datetime(2018, 2, 17, 0, 0), datetime.datetime(2018, 2, 18, 14, 36, 24)), ('e64fb393e7b32834bb789ff8bb30750e', '658677c97b385a9be170737859d3511b', 5, datetime.datetime(2017, 4, 21, 0, 0), datetime.datetime(2017, 4, 21, 22, 2, 6)), ('f7c4243c7fe1938f181bec41a392bdeb', '8e6bfb81e283fa7e4f11123a3fb894f1', 5, datetime.datetime(2018, 3, 1, 0, 0), datetime.datetime(2018, 3, 2, 10, 26, 53))]\n"
     ]
    }
   ],
   "source": [
    "# This gist contains a direct connection to a local PostgreSQL database\n",
    "# called \"suppliers\" where the username and password parameters are \"postgres\"\n",
    "\n",
    "# This code is adapted from the tutorial hosted below:\n",
    "# http://www.postgresqltutorial.com/postgresql-python/connect/\n",
    "\n",
    "import psycopg2\n",
    "import pandas as pd\n",
    "# Establish a connection to the database by creating a cursor object\n",
    "# The PostgreSQL server must be accessed through the PostgreSQL APP or Terminal Shell\n",
    "\n",
    "# conn = psycopg2.connect(\"dbname=suppliers port=5432 user=postgres password=postgres\")\n",
    "\n",
    "# Or:\n",
    "conn = psycopg2.connect(host=\"localhost\", port = 5432, database=\"ecommerce\", user=\"postgres\", password=\"b197eas\")\n",
    "\n",
    "# Create a cursor object\n",
    "cur = conn.cursor()\n",
    "\n",
    "# A sample query of all data from the \"vendors\" table in the \"suppliers\" database\n",
    "cur.execute(\"\"\"SELECT * FROM public.feedback LIMIT 5\"\"\")\n",
    "query_results = cur.fetchall()\n",
    "print(query_results)\n",
    "\n",
    "# # Close the cursor and connection to so the server can allocate\n",
    "# # bandwidth to other requests\n",
    "# cur.close()\n",
    "# conn.close()"
   ]
  },
  {
   "cell_type": "code",
   "execution_count": 2,
   "id": "hispanic-immune",
   "metadata": {
    "execution": {
     "iopub.execute_input": "2021-08-23T09:12:57.801608Z",
     "iopub.status.busy": "2021-08-23T09:12:57.800607Z",
     "iopub.status.idle": "2021-08-23T09:12:58.208700Z",
     "shell.execute_reply": "2021-08-23T09:12:58.208700Z",
     "shell.execute_reply.started": "2021-08-23T09:12:57.801608Z"
    }
   },
   "outputs": [
    {
     "data": {
      "text/html": [
       "<div>\n",
       "<style scoped>\n",
       "    .dataframe tbody tr th:only-of-type {\n",
       "        vertical-align: middle;\n",
       "    }\n",
       "\n",
       "    .dataframe tbody tr th {\n",
       "        vertical-align: top;\n",
       "    }\n",
       "\n",
       "    .dataframe thead th {\n",
       "        text-align: right;\n",
       "    }\n",
       "</style>\n",
       "<table border=\"1\" class=\"dataframe\">\n",
       "  <thead>\n",
       "    <tr style=\"text-align: right;\">\n",
       "      <th></th>\n",
       "      <th>feedback_id</th>\n",
       "      <th>order_id</th>\n",
       "      <th>score</th>\n",
       "      <th>sent_date</th>\n",
       "      <th>ans_date</th>\n",
       "    </tr>\n",
       "  </thead>\n",
       "  <tbody>\n",
       "    <tr>\n",
       "      <th>0</th>\n",
       "      <td>7bc2406110b926393aa56f80a40eba40</td>\n",
       "      <td>73fc7af87114b39712e6da79b0a377eb</td>\n",
       "      <td>4</td>\n",
       "      <td>2018-01-18</td>\n",
       "      <td>2018-01-18 21:46:59</td>\n",
       "    </tr>\n",
       "    <tr>\n",
       "      <th>1</th>\n",
       "      <td>80e641a11e56f04c1ad469d5645fdfde</td>\n",
       "      <td>a548910a1c6147796b98fdf73dbeba33</td>\n",
       "      <td>5</td>\n",
       "      <td>2018-03-10</td>\n",
       "      <td>2018-03-11 03:05:13</td>\n",
       "    </tr>\n",
       "    <tr>\n",
       "      <th>2</th>\n",
       "      <td>228ce5500dc1d8e020d8d1322874b6f0</td>\n",
       "      <td>f9e4b658b201a9f2ecdecbb34bed034b</td>\n",
       "      <td>5</td>\n",
       "      <td>2018-02-17</td>\n",
       "      <td>2018-02-18 14:36:24</td>\n",
       "    </tr>\n",
       "    <tr>\n",
       "      <th>3</th>\n",
       "      <td>e64fb393e7b32834bb789ff8bb30750e</td>\n",
       "      <td>658677c97b385a9be170737859d3511b</td>\n",
       "      <td>5</td>\n",
       "      <td>2017-04-21</td>\n",
       "      <td>2017-04-21 22:02:06</td>\n",
       "    </tr>\n",
       "    <tr>\n",
       "      <th>4</th>\n",
       "      <td>f7c4243c7fe1938f181bec41a392bdeb</td>\n",
       "      <td>8e6bfb81e283fa7e4f11123a3fb894f1</td>\n",
       "      <td>5</td>\n",
       "      <td>2018-03-01</td>\n",
       "      <td>2018-03-02 10:26:53</td>\n",
       "    </tr>\n",
       "  </tbody>\n",
       "</table>\n",
       "</div>"
      ],
      "text/plain": [
       "                        feedback_id                          order_id  score  \\\n",
       "0  7bc2406110b926393aa56f80a40eba40  73fc7af87114b39712e6da79b0a377eb      4   \n",
       "1  80e641a11e56f04c1ad469d5645fdfde  a548910a1c6147796b98fdf73dbeba33      5   \n",
       "2  228ce5500dc1d8e020d8d1322874b6f0  f9e4b658b201a9f2ecdecbb34bed034b      5   \n",
       "3  e64fb393e7b32834bb789ff8bb30750e  658677c97b385a9be170737859d3511b      5   \n",
       "4  f7c4243c7fe1938f181bec41a392bdeb  8e6bfb81e283fa7e4f11123a3fb894f1      5   \n",
       "\n",
       "   sent_date            ans_date  \n",
       "0 2018-01-18 2018-01-18 21:46:59  \n",
       "1 2018-03-10 2018-03-11 03:05:13  \n",
       "2 2018-02-17 2018-02-18 14:36:24  \n",
       "3 2017-04-21 2017-04-21 22:02:06  \n",
       "4 2018-03-01 2018-03-02 10:26:53  "
      ]
     },
     "execution_count": 2,
     "metadata": {},
     "output_type": "execute_result"
    }
   ],
   "source": [
    "#Example to use put query results into pandas df\n",
    "import pandas as pd\n",
    "cur.execute(\"\"\"SELECT * FROM public.feedback\"\"\")\n",
    "query_results = cur.fetchall()\n",
    "df = pd.DataFrame (query_results, columns =['feedback_id','order_id','score','sent_date','ans_date'])\n",
    "df.head()"
   ]
  },
  {
   "cell_type": "markdown",
   "id": "attached-karma",
   "metadata": {},
   "source": [
    "## RFM Analysis"
   ]
  },
  {
   "cell_type": "code",
   "execution_count": 3,
   "id": "adult-official",
   "metadata": {
    "execution": {
     "iopub.execute_input": "2021-08-23T09:12:58.209701Z",
     "iopub.status.busy": "2021-08-23T09:12:58.209701Z",
     "iopub.status.idle": "2021-08-23T09:12:58.472759Z",
     "shell.execute_reply": "2021-08-23T09:12:58.472759Z",
     "shell.execute_reply.started": "2021-08-23T09:12:58.209701Z"
    }
   },
   "outputs": [
    {
     "data": {
      "text/html": [
       "<div>\n",
       "<style scoped>\n",
       "    .dataframe tbody tr th:only-of-type {\n",
       "        vertical-align: middle;\n",
       "    }\n",
       "\n",
       "    .dataframe tbody tr th {\n",
       "        vertical-align: top;\n",
       "    }\n",
       "\n",
       "    .dataframe thead th {\n",
       "        text-align: right;\n",
       "    }\n",
       "</style>\n",
       "<table border=\"1\" class=\"dataframe\">\n",
       "  <thead>\n",
       "    <tr style=\"text-align: right;\">\n",
       "      <th></th>\n",
       "      <th>user_name</th>\n",
       "      <th>order_frequency</th>\n",
       "      <th>order_recency</th>\n",
       "      <th>order_monetary</th>\n",
       "      <th>date_key</th>\n",
       "    </tr>\n",
       "  </thead>\n",
       "  <tbody>\n",
       "    <tr>\n",
       "      <th>0</th>\n",
       "      <td>0037eb1ff742ee2e71ba887f65f3c6f3</td>\n",
       "      <td>1</td>\n",
       "      <td>2017-07-13</td>\n",
       "      <td>199000</td>\n",
       "      <td>20170713</td>\n",
       "    </tr>\n",
       "    <tr>\n",
       "      <th>1</th>\n",
       "      <td>003800162424b7b5b3d75c9cf22a66e7</td>\n",
       "      <td>1</td>\n",
       "      <td>2018-04-01</td>\n",
       "      <td>85500</td>\n",
       "      <td>20180401</td>\n",
       "    </tr>\n",
       "    <tr>\n",
       "      <th>2</th>\n",
       "      <td>00391594070baf8603f5fdc1d0c6a48c</td>\n",
       "      <td>1</td>\n",
       "      <td>2018-08-05</td>\n",
       "      <td>105000</td>\n",
       "      <td>20180805</td>\n",
       "    </tr>\n",
       "    <tr>\n",
       "      <th>3</th>\n",
       "      <td>003c457932a554e4df13834237b1ed00</td>\n",
       "      <td>1</td>\n",
       "      <td>2018-01-05</td>\n",
       "      <td>129900</td>\n",
       "      <td>20180105</td>\n",
       "    </tr>\n",
       "    <tr>\n",
       "      <th>4</th>\n",
       "      <td>003db7adfcdc49857b095a50191b6c9d</td>\n",
       "      <td>1</td>\n",
       "      <td>2018-05-02</td>\n",
       "      <td>524900</td>\n",
       "      <td>20180502</td>\n",
       "    </tr>\n",
       "    <tr>\n",
       "      <th>...</th>\n",
       "      <td>...</td>\n",
       "      <td>...</td>\n",
       "      <td>...</td>\n",
       "      <td>...</td>\n",
       "      <td>...</td>\n",
       "    </tr>\n",
       "    <tr>\n",
       "      <th>95415</th>\n",
       "      <td>ffe9e41fbd14db4a7361347c56af5447</td>\n",
       "      <td>1</td>\n",
       "      <td>2018-02-11</td>\n",
       "      <td>199000</td>\n",
       "      <td>20180211</td>\n",
       "    </tr>\n",
       "    <tr>\n",
       "      <th>95416</th>\n",
       "      <td>ffebb6424578e7bb153322da9d65634f</td>\n",
       "      <td>1</td>\n",
       "      <td>2017-01-16</td>\n",
       "      <td>629000</td>\n",
       "      <td>20170116</td>\n",
       "    </tr>\n",
       "    <tr>\n",
       "      <th>95417</th>\n",
       "      <td>fff3a9369e4b7102fab406a334a678c3</td>\n",
       "      <td>1</td>\n",
       "      <td>2017-08-11</td>\n",
       "      <td>84900</td>\n",
       "      <td>20170811</td>\n",
       "    </tr>\n",
       "    <tr>\n",
       "      <th>95418</th>\n",
       "      <td>fffcf5a5ff07b0908bd4e2dbc735a684</td>\n",
       "      <td>1</td>\n",
       "      <td>2017-06-08</td>\n",
       "      <td>1570000</td>\n",
       "      <td>20170608</td>\n",
       "    </tr>\n",
       "    <tr>\n",
       "      <th>95419</th>\n",
       "      <td>ffffd2657e2aad2907e67c3e9daecbeb</td>\n",
       "      <td>1</td>\n",
       "      <td>2017-05-02</td>\n",
       "      <td>56990</td>\n",
       "      <td>20170502</td>\n",
       "    </tr>\n",
       "  </tbody>\n",
       "</table>\n",
       "<p>95420 rows × 5 columns</p>\n",
       "</div>"
      ],
      "text/plain": [
       "                              user_name  order_frequency order_recency  \\\n",
       "0      0037eb1ff742ee2e71ba887f65f3c6f3                1    2017-07-13   \n",
       "1      003800162424b7b5b3d75c9cf22a66e7                1    2018-04-01   \n",
       "2      00391594070baf8603f5fdc1d0c6a48c                1    2018-08-05   \n",
       "3      003c457932a554e4df13834237b1ed00                1    2018-01-05   \n",
       "4      003db7adfcdc49857b095a50191b6c9d                1    2018-05-02   \n",
       "...                                 ...              ...           ...   \n",
       "95415  ffe9e41fbd14db4a7361347c56af5447                1    2018-02-11   \n",
       "95416  ffebb6424578e7bb153322da9d65634f                1    2017-01-16   \n",
       "95417  fff3a9369e4b7102fab406a334a678c3                1    2017-08-11   \n",
       "95418  fffcf5a5ff07b0908bd4e2dbc735a684                1    2017-06-08   \n",
       "95419  ffffd2657e2aad2907e67c3e9daecbeb                1    2017-05-02   \n",
       "\n",
       "       order_monetary  date_key  \n",
       "0              199000  20170713  \n",
       "1               85500  20180401  \n",
       "2              105000  20180805  \n",
       "3              129900  20180105  \n",
       "4              524900  20180502  \n",
       "...               ...       ...  \n",
       "95415          199000  20180211  \n",
       "95416          629000  20170116  \n",
       "95417           84900  20170811  \n",
       "95418         1570000  20170608  \n",
       "95419           56990  20170502  \n",
       "\n",
       "[95420 rows x 5 columns]"
      ]
     },
     "execution_count": 3,
     "metadata": {},
     "output_type": "execute_result"
    }
   ],
   "source": [
    "# Recency Analysis\n",
    "cur.execute(\"\"\"SELECT * FROM datamarts.rfm\"\"\")\n",
    "query_results = cur.fetchall()\n",
    "df = pd.DataFrame (query_results, columns =['user_name','order_frequency','order_recency','order_monetary','date_key'])\n",
    "df"
   ]
  },
  {
   "cell_type": "code",
   "execution_count": 4,
   "id": "royal-regard",
   "metadata": {
    "execution": {
     "iopub.execute_input": "2021-08-23T09:12:58.473760Z",
     "iopub.status.busy": "2021-08-23T09:12:58.473760Z",
     "iopub.status.idle": "2021-08-23T09:12:58.494765Z",
     "shell.execute_reply": "2021-08-23T09:12:58.494765Z",
     "shell.execute_reply.started": "2021-08-23T09:12:58.473760Z"
    }
   },
   "outputs": [
    {
     "name": "stdout",
     "output_type": "stream",
     "text": [
      "Max order date:\n",
      "[(datetime.date(2018, 9, 3),)]\n"
     ]
    }
   ],
   "source": [
    "cur.execute(\"\"\"select max(order_recency) \n",
    "from datamarts.rfm r \"\"\")\n",
    "query_results = cur.fetchall()\n",
    "print(\"Max order date:\")\n",
    "print(query_results)"
   ]
  },
  {
   "cell_type": "code",
   "execution_count": 5,
   "id": "mighty-nancy",
   "metadata": {
    "execution": {
     "iopub.execute_input": "2021-08-23T09:12:58.495765Z",
     "iopub.status.busy": "2021-08-23T09:12:58.495765Z",
     "iopub.status.idle": "2021-08-23T09:12:58.508767Z",
     "shell.execute_reply": "2021-08-23T09:12:58.508767Z",
     "shell.execute_reply.started": "2021-08-23T09:12:58.495765Z"
    }
   },
   "outputs": [
    {
     "name": "stdout",
     "output_type": "stream",
     "text": [
      "Min order date:\n",
      "[(datetime.date(2016, 9, 4),)]\n"
     ]
    }
   ],
   "source": [
    "cur.execute(\"\"\"select min(order_recency) \n",
    "from datamarts.rfm r \"\"\")\n",
    "query_results = cur.fetchall()\n",
    "print(\"Min order date:\")\n",
    "print(query_results)"
   ]
  },
  {
   "cell_type": "code",
   "execution_count": 6,
   "id": "bright-bolivia",
   "metadata": {
    "execution": {
     "iopub.execute_input": "2021-08-23T09:12:58.509767Z",
     "iopub.status.busy": "2021-08-23T09:12:58.509767Z",
     "iopub.status.idle": "2021-08-23T09:12:58.531773Z",
     "shell.execute_reply": "2021-08-23T09:12:58.531773Z",
     "shell.execute_reply.started": "2021-08-23T09:12:58.509767Z"
    }
   },
   "outputs": [
    {
     "data": {
      "text/html": [
       "<div>\n",
       "<style scoped>\n",
       "    .dataframe tbody tr th:only-of-type {\n",
       "        vertical-align: middle;\n",
       "    }\n",
       "\n",
       "    .dataframe tbody tr th {\n",
       "        vertical-align: top;\n",
       "    }\n",
       "\n",
       "    .dataframe thead th {\n",
       "        text-align: right;\n",
       "    }\n",
       "</style>\n",
       "<table border=\"1\" class=\"dataframe\">\n",
       "  <thead>\n",
       "    <tr style=\"text-align: right;\">\n",
       "      <th></th>\n",
       "      <th>user_name</th>\n",
       "      <th>order_frequency</th>\n",
       "      <th>order_recency</th>\n",
       "      <th>order_monetary</th>\n",
       "      <th>date_key</th>\n",
       "    </tr>\n",
       "  </thead>\n",
       "  <tbody>\n",
       "    <tr>\n",
       "      <th>0</th>\n",
       "      <td>0829f7df6577d5a4b65439bea701405f</td>\n",
       "      <td>1</td>\n",
       "      <td>2016-10-04</td>\n",
       "      <td>249900</td>\n",
       "      <td>20161004</td>\n",
       "    </tr>\n",
       "    <tr>\n",
       "      <th>1</th>\n",
       "      <td>0922f37485310929b1b94e8f0c984ca5</td>\n",
       "      <td>1</td>\n",
       "      <td>2016-10-06</td>\n",
       "      <td>139990</td>\n",
       "      <td>20161006</td>\n",
       "    </tr>\n",
       "    <tr>\n",
       "      <th>2</th>\n",
       "      <td>0d527a050dc34913c5c4746cefae5995</td>\n",
       "      <td>1</td>\n",
       "      <td>2016-10-07</td>\n",
       "      <td>58000</td>\n",
       "      <td>20161007</td>\n",
       "    </tr>\n",
       "    <tr>\n",
       "      <th>3</th>\n",
       "      <td>0ecf7f65b5ff3b9e61b637e59f495e0a</td>\n",
       "      <td>2</td>\n",
       "      <td>2016-10-10</td>\n",
       "      <td>126690</td>\n",
       "      <td>20161010</td>\n",
       "    </tr>\n",
       "    <tr>\n",
       "      <th>4</th>\n",
       "      <td>1c5aefec1a2943edd15e52f9e2900e41</td>\n",
       "      <td>1</td>\n",
       "      <td>2016-10-09</td>\n",
       "      <td>129970</td>\n",
       "      <td>20161009</td>\n",
       "    </tr>\n",
       "    <tr>\n",
       "      <th>...</th>\n",
       "      <td>...</td>\n",
       "      <td>...</td>\n",
       "      <td>...</td>\n",
       "      <td>...</td>\n",
       "      <td>...</td>\n",
       "    </tr>\n",
       "    <tr>\n",
       "      <th>294</th>\n",
       "      <td>fdaa290acb9eeacb66fa7f979baa6803</td>\n",
       "      <td>1</td>\n",
       "      <td>2016-10-08</td>\n",
       "      <td>1399000</td>\n",
       "      <td>20161008</td>\n",
       "    </tr>\n",
       "    <tr>\n",
       "      <th>295</th>\n",
       "      <td>ff39ae410be7f9b3a2457c546c6f67de</td>\n",
       "      <td>1</td>\n",
       "      <td>2016-10-05</td>\n",
       "      <td>79900</td>\n",
       "      <td>20161005</td>\n",
       "    </tr>\n",
       "    <tr>\n",
       "      <th>296</th>\n",
       "      <td>ff68ad2883e793597f1c343dd6505f5d</td>\n",
       "      <td>1</td>\n",
       "      <td>2016-10-06</td>\n",
       "      <td>499800</td>\n",
       "      <td>20161006</td>\n",
       "    </tr>\n",
       "    <tr>\n",
       "      <th>297</th>\n",
       "      <td>ff822e5e1322cef6c211ad8a0591999e</td>\n",
       "      <td>1</td>\n",
       "      <td>2016-10-08</td>\n",
       "      <td>15900</td>\n",
       "      <td>20161008</td>\n",
       "    </tr>\n",
       "    <tr>\n",
       "      <th>298</th>\n",
       "      <td>ffb973f2bb1c0cb807a99341a9b20dcd</td>\n",
       "      <td>1</td>\n",
       "      <td>2016-10-09</td>\n",
       "      <td>87300</td>\n",
       "      <td>20161009</td>\n",
       "    </tr>\n",
       "  </tbody>\n",
       "</table>\n",
       "<p>299 rows × 5 columns</p>\n",
       "</div>"
      ],
      "text/plain": [
       "                            user_name  order_frequency order_recency  \\\n",
       "0    0829f7df6577d5a4b65439bea701405f                1    2016-10-04   \n",
       "1    0922f37485310929b1b94e8f0c984ca5                1    2016-10-06   \n",
       "2    0d527a050dc34913c5c4746cefae5995                1    2016-10-07   \n",
       "3    0ecf7f65b5ff3b9e61b637e59f495e0a                2    2016-10-10   \n",
       "4    1c5aefec1a2943edd15e52f9e2900e41                1    2016-10-09   \n",
       "..                                ...              ...           ...   \n",
       "294  fdaa290acb9eeacb66fa7f979baa6803                1    2016-10-08   \n",
       "295  ff39ae410be7f9b3a2457c546c6f67de                1    2016-10-05   \n",
       "296  ff68ad2883e793597f1c343dd6505f5d                1    2016-10-06   \n",
       "297  ff822e5e1322cef6c211ad8a0591999e                1    2016-10-08   \n",
       "298  ffb973f2bb1c0cb807a99341a9b20dcd                1    2016-10-09   \n",
       "\n",
       "     order_monetary  date_key  \n",
       "0            249900  20161004  \n",
       "1            139990  20161006  \n",
       "2             58000  20161007  \n",
       "3            126690  20161010  \n",
       "4            129970  20161009  \n",
       "..              ...       ...  \n",
       "294         1399000  20161008  \n",
       "295           79900  20161005  \n",
       "296          499800  20161006  \n",
       "297           15900  20161008  \n",
       "298           87300  20161009  \n",
       "\n",
       "[299 rows x 5 columns]"
      ]
     },
     "execution_count": 6,
     "metadata": {},
     "output_type": "execute_result"
    }
   ],
   "source": [
    "# Recency Analysis where order is 2018\n",
    "cur.execute(\"\"\"select * \n",
    "from datamarts.rfm r \n",
    "where order_recency < '2017-01-01' and order_recency >= '2016-01-01'\n",
    "\"\"\")\n",
    "query_results = cur.fetchall()\n",
    "df1 = pd.DataFrame (query_results, columns =['user_name','order_frequency','order_recency','order_monetary', 'date_key'])\n",
    "df1"
   ]
  },
  {
   "cell_type": "code",
   "execution_count": 7,
   "id": "measured-market",
   "metadata": {
    "execution": {
     "iopub.execute_input": "2021-08-23T09:12:58.532773Z",
     "iopub.status.busy": "2021-08-23T09:12:58.532773Z",
     "iopub.status.idle": "2021-08-23T09:12:58.547777Z",
     "shell.execute_reply": "2021-08-23T09:12:58.547777Z",
     "shell.execute_reply.started": "2021-08-23T09:12:58.532773Z"
    }
   },
   "outputs": [
    {
     "name": "stdout",
     "output_type": "stream",
     "text": [
      "Average order value: \n",
      "[(Decimal('142440.198071683085'),)]\n"
     ]
    }
   ],
   "source": [
    "cur.execute(\"\"\"select avg(order_monetary_value) from datamarts.rfm r \"\"\")\n",
    "query_results = cur.fetchall()\n",
    "print(\"Average order value: \")\n",
    "print(query_results)"
   ]
  },
  {
   "cell_type": "code",
   "execution_count": 8,
   "id": "acute-cholesterol",
   "metadata": {
    "execution": {
     "iopub.execute_input": "2021-08-23T09:12:58.549776Z",
     "iopub.status.busy": "2021-08-23T09:12:58.549776Z",
     "iopub.status.idle": "2021-08-23T09:12:58.565780Z",
     "shell.execute_reply": "2021-08-23T09:12:58.565780Z",
     "shell.execute_reply.started": "2021-08-23T09:12:58.549776Z"
    }
   },
   "outputs": [
    {
     "name": "stdout",
     "output_type": "stream",
     "text": [
      "Number of User with 1 Order only : \n",
      "[(92507,)]\n"
     ]
    }
   ],
   "source": [
    "# Order Frequency Analysis\n",
    "cur.execute(\"\"\"select count(user_name) from datamarts.rfm r where order_frequency = 1 \"\"\")\n",
    "query_results = cur.fetchall()\n",
    "print(\"Number of User with 1 Order only : \")\n",
    "print(query_results)"
   ]
  },
  {
   "cell_type": "code",
   "execution_count": 9,
   "id": "eleven-national",
   "metadata": {
    "execution": {
     "iopub.execute_input": "2021-08-23T09:12:58.566781Z",
     "iopub.status.busy": "2021-08-23T09:12:58.566781Z",
     "iopub.status.idle": "2021-08-23T09:12:58.577783Z",
     "shell.execute_reply": "2021-08-23T09:12:58.577783Z",
     "shell.execute_reply.started": "2021-08-23T09:12:58.566781Z"
    }
   },
   "outputs": [
    {
     "name": "stdout",
     "output_type": "stream",
     "text": [
      "Number of User with > 1 Order : \n",
      "[(2913,)]\n"
     ]
    }
   ],
   "source": [
    "# Order Frequency Analysis\n",
    "cur.execute(\"\"\"select count(user_name) from datamarts.rfm r where order_frequency > 1 \"\"\")\n",
    "query_results = cur.fetchall()\n",
    "print(\"Number of User with > 1 Order : \")\n",
    "print(query_results)"
   ]
  },
  {
   "cell_type": "code",
   "execution_count": 10,
   "id": "selected-organization",
   "metadata": {
    "execution": {
     "iopub.execute_input": "2021-08-23T09:12:58.578783Z",
     "iopub.status.busy": "2021-08-23T09:12:58.578783Z",
     "iopub.status.idle": "2021-08-23T09:12:58.591786Z",
     "shell.execute_reply": "2021-08-23T09:12:58.591786Z",
     "shell.execute_reply.started": "2021-08-23T09:12:58.578783Z"
    }
   },
   "outputs": [
    {
     "name": "stdout",
     "output_type": "stream",
     "text": [
      "Number of User with > 1 Order : \n",
      "[(95420,)]\n"
     ]
    }
   ],
   "source": [
    "# Order Frequency Analysis\n",
    "cur.execute(\"\"\"select count(user_name) from datamarts.rfm r \"\"\")\n",
    "query_results = cur.fetchall()\n",
    "print(\"Number of User with > 1 Order : \")\n",
    "print(query_results)"
   ]
  },
  {
   "cell_type": "code",
   "execution_count": 11,
   "id": "loved-utilization",
   "metadata": {
    "execution": {
     "iopub.execute_input": "2021-08-23T09:12:58.592787Z",
     "iopub.status.busy": "2021-08-23T09:12:58.592787Z",
     "iopub.status.idle": "2021-08-23T09:12:58.596788Z",
     "shell.execute_reply": "2021-08-23T09:12:58.596788Z",
     "shell.execute_reply.started": "2021-08-23T09:12:58.592787Z"
    }
   },
   "outputs": [
    {
     "name": "stdout",
     "output_type": "stream",
     "text": [
      "% of user with > 1 order: 0.030528191154894153 %\n",
      "% of user with 1 order: 0.9694718088451059 %\n"
     ]
    }
   ],
   "source": [
    "print (\"% of user with > 1 order:\",2913/95420,\"%\")\n",
    "print (\"% of user with 1 order:\",92507/95420,\"%\")"
   ]
  },
  {
   "cell_type": "code",
   "execution_count": 12,
   "id": "falling-shore",
   "metadata": {
    "execution": {
     "iopub.execute_input": "2021-08-23T09:12:58.597788Z",
     "iopub.status.busy": "2021-08-23T09:12:58.597788Z",
     "iopub.status.idle": "2021-08-23T09:12:58.965873Z",
     "shell.execute_reply": "2021-08-23T09:12:58.965873Z",
     "shell.execute_reply.started": "2021-08-23T09:12:58.597788Z"
    }
   },
   "outputs": [
    {
     "data": {
      "image/png": "[encoded data removed]",
      "text/plain": [
       "<Figure size 432x216 with 1 Axes>"
      ]
     },
     "metadata": {},
     "output_type": "display_data"
    }
   ],
   "source": [
    "import numpy as np\n",
    "import matplotlib.pyplot as plt\n",
    "\n",
    "fig, ax = plt.subplots(figsize=(6, 3), subplot_kw=dict(aspect=\"equal\"))\n",
    "\n",
    "recipe = [\"95420 user with 1 order\",\n",
    "          \"2913 user with >1 order\",\n",
    "          ]\n",
    "\n",
    "data = [float(x.split()[0]) for x in recipe]\n",
    "ingredients = ['user with 1 order',\"user with >1 order\" ]\n",
    "\n",
    "\n",
    "def func(pct, allvals):\n",
    "    absolute = int(pct/100.*np.sum(allvals))\n",
    "    return \"{:.2f}%\\n({:d})\".format(pct, absolute)\n",
    "\n",
    "\n",
    "wedges, texts, autotexts = ax.pie(data, autopct=lambda pct: func(pct, data),\n",
    "                                  textprops=dict(color=\"w\"))\n",
    "\n",
    "ax.legend(wedges, ingredients,\n",
    "          loc=\"center left\",\n",
    "          bbox_to_anchor=(1, 0, 0.5, 1))\n",
    "\n",
    "plt.setp(autotexts, size=8, weight=\"bold\")\n",
    "\n",
    "plt.show()"
   ]
  },
  {
   "cell_type": "code",
   "execution_count": 13,
   "id": "applied-america",
   "metadata": {
    "execution": {
     "iopub.execute_input": "2021-08-23T09:12:59.028864Z",
     "iopub.status.busy": "2021-08-23T09:12:59.028864Z",
     "iopub.status.idle": "2021-08-23T09:12:59.046564Z",
     "shell.execute_reply": "2021-08-23T09:12:59.046564Z",
     "shell.execute_reply.started": "2021-08-23T09:12:59.028864Z"
    }
   },
   "outputs": [
    {
     "data": {
      "text/html": [
       "<div>\n",
       "<style scoped>\n",
       "    .dataframe tbody tr th:only-of-type {\n",
       "        vertical-align: middle;\n",
       "    }\n",
       "\n",
       "    .dataframe tbody tr th {\n",
       "        vertical-align: top;\n",
       "    }\n",
       "\n",
       "    .dataframe thead th {\n",
       "        text-align: right;\n",
       "    }\n",
       "</style>\n",
       "<table border=\"1\" class=\"dataframe\">\n",
       "  <thead>\n",
       "    <tr style=\"text-align: right;\">\n",
       "      <th></th>\n",
       "      <th>user_name</th>\n",
       "    </tr>\n",
       "  </thead>\n",
       "  <tbody>\n",
       "    <tr>\n",
       "      <th>0</th>\n",
       "      <td>012452d40dafae4df401bced74cdb490</td>\n",
       "    </tr>\n",
       "    <tr>\n",
       "      <th>1</th>\n",
       "      <td>01f2285f85a1c603eb7ef755ad311769</td>\n",
       "    </tr>\n",
       "    <tr>\n",
       "      <th>2</th>\n",
       "      <td>02b20b7c813efede140142ac610e36dc</td>\n",
       "    </tr>\n",
       "    <tr>\n",
       "      <th>3</th>\n",
       "      <td>02fbe4db886eb98774c8ba300d39fa79</td>\n",
       "    </tr>\n",
       "    <tr>\n",
       "      <th>4</th>\n",
       "      <td>035e7cd88b7450fd33efeca817081a53</td>\n",
       "    </tr>\n",
       "    <tr>\n",
       "      <th>...</th>\n",
       "      <td>...</td>\n",
       "    </tr>\n",
       "    <tr>\n",
       "      <th>1739</th>\n",
       "      <td>fc2261ae2c583aa2e68241456a6467c8</td>\n",
       "    </tr>\n",
       "    <tr>\n",
       "      <th>1740</th>\n",
       "      <td>fc24db02becd484accefaa5af59c18b1</td>\n",
       "    </tr>\n",
       "    <tr>\n",
       "      <th>1741</th>\n",
       "      <td>fcd0ab79592faab19e2bf386cf69fbcd</td>\n",
       "    </tr>\n",
       "    <tr>\n",
       "      <th>1742</th>\n",
       "      <td>fde381fe79993303957d1fcf9cd6bf4a</td>\n",
       "    </tr>\n",
       "    <tr>\n",
       "      <th>1743</th>\n",
       "      <td>fed519569d16e690df6f89cb99d4e682</td>\n",
       "    </tr>\n",
       "  </tbody>\n",
       "</table>\n",
       "<p>1744 rows × 1 columns</p>\n",
       "</div>"
      ],
      "text/plain": [
       "                             user_name\n",
       "0     012452d40dafae4df401bced74cdb490\n",
       "1     01f2285f85a1c603eb7ef755ad311769\n",
       "2     02b20b7c813efede140142ac610e36dc\n",
       "3     02fbe4db886eb98774c8ba300d39fa79\n",
       "4     035e7cd88b7450fd33efeca817081a53\n",
       "...                                ...\n",
       "1739  fc2261ae2c583aa2e68241456a6467c8\n",
       "1740  fc24db02becd484accefaa5af59c18b1\n",
       "1741  fcd0ab79592faab19e2bf386cf69fbcd\n",
       "1742  fde381fe79993303957d1fcf9cd6bf4a\n",
       "1743  fed519569d16e690df6f89cb99d4e682\n",
       "\n",
       "[1744 rows x 1 columns]"
      ]
     },
     "execution_count": 13,
     "metadata": {},
     "output_type": "execute_result"
    }
   ],
   "source": [
    "\n",
    "cur.execute(\"\"\"select user_name from datamarts.rfm r where order_frequency > 1 and order_recency >= '2018-01-01'\"\"\")\n",
    "query_results = cur.fetchall()\n",
    "tempdf = pd.DataFrame (query_results, columns =['user_name'])\n",
    "tempdf"
   ]
  },
  {
   "cell_type": "code",
   "execution_count": null,
   "id": "sonic-series",
   "metadata": {},
   "outputs": [],
   "source": [
    "# Average order value \n",
    "cur.execute(\"\"\"select avg(order_monetary_value) from datamarts.rfm r where order_frequency > 1 \"\"\")\n",
    "query_results = cur.fetchall()\n",
    "print(\"Average Order Value for User with > 1 order : \")\n",
    "print(query_results)"
   ]
  },
  {
   "cell_type": "code",
   "execution_count": 13,
   "id": "emotional-sheffield",
   "metadata": {
    "execution": {
     "iopub.execute_input": "2021-08-20T07:13:08.209299Z",
     "iopub.status.busy": "2021-08-20T07:13:08.209299Z",
     "iopub.status.idle": "2021-08-20T07:13:08.228304Z",
     "shell.execute_reply": "2021-08-20T07:13:08.228304Z",
     "shell.execute_reply.started": "2021-08-20T07:13:08.209299Z"
    }
   },
   "outputs": [
    {
     "name": "stdout",
     "output_type": "stream",
     "text": [
      "Average Order Value for User with 1 order : \n",
      "[(Decimal('138674.390478558379'),)]\n"
     ]
    }
   ],
   "source": [
    "# Average order value \n",
    "cur.execute(\"\"\"select avg(order_monetary_value) from datamarts.rfm r where order_frequency = 1 \"\"\")\n",
    "query_results = cur.fetchall()\n",
    "print(\"Average Order Value for User with 1 order : \")\n",
    "print(query_results)"
   ]
  },
  {
   "cell_type": "code",
   "execution_count": 14,
   "id": "continental-radical",
   "metadata": {
    "execution": {
     "iopub.execute_input": "2021-08-20T07:13:08.230304Z",
     "iopub.status.busy": "2021-08-20T07:13:08.230304Z",
     "iopub.status.idle": "2021-08-20T07:13:08.481359Z",
     "shell.execute_reply": "2021-08-20T07:13:08.481359Z",
     "shell.execute_reply.started": "2021-08-20T07:13:08.230304Z"
    }
   },
   "outputs": [
    {
     "data": {
      "text/html": [
       "<div>\n",
       "<style scoped>\n",
       "    .dataframe tbody tr th:only-of-type {\n",
       "        vertical-align: middle;\n",
       "    }\n",
       "\n",
       "    .dataframe tbody tr th {\n",
       "        vertical-align: top;\n",
       "    }\n",
       "\n",
       "    .dataframe thead th {\n",
       "        text-align: right;\n",
       "    }\n",
       "</style>\n",
       "<table border=\"1\" class=\"dataframe\">\n",
       "  <thead>\n",
       "    <tr style=\"text-align: right;\">\n",
       "      <th></th>\n",
       "      <th>user_name</th>\n",
       "      <th>order_frequency</th>\n",
       "      <th>order_recency</th>\n",
       "      <th>order_monetary</th>\n",
       "      <th>date_key</th>\n",
       "    </tr>\n",
       "  </thead>\n",
       "  <tbody>\n",
       "    <tr>\n",
       "      <th>0</th>\n",
       "      <td>0a0a92112bd4c708ca5fde585afaa872</td>\n",
       "      <td>1</td>\n",
       "      <td>2017-09-29</td>\n",
       "      <td>13440000</td>\n",
       "      <td>20170929</td>\n",
       "    </tr>\n",
       "    <tr>\n",
       "      <th>1</th>\n",
       "      <td>da122df9eeddfedc1dc1f5349a1a690c</td>\n",
       "      <td>2</td>\n",
       "      <td>2017-04-01</td>\n",
       "      <td>7388000</td>\n",
       "      <td>20170401</td>\n",
       "    </tr>\n",
       "    <tr>\n",
       "      <th>2</th>\n",
       "      <td>763c8b1c9c68a0229c42c9fc6f662b93</td>\n",
       "      <td>1</td>\n",
       "      <td>2018-07-15</td>\n",
       "      <td>7160000</td>\n",
       "      <td>20180715</td>\n",
       "    </tr>\n",
       "    <tr>\n",
       "      <th>3</th>\n",
       "      <td>dc4802a71eae9be1dd28f5d788ceb526</td>\n",
       "      <td>1</td>\n",
       "      <td>2017-02-12</td>\n",
       "      <td>6735000</td>\n",
       "      <td>20170212</td>\n",
       "    </tr>\n",
       "    <tr>\n",
       "      <th>4</th>\n",
       "      <td>459bef486812aa25204be022145caa62</td>\n",
       "      <td>1</td>\n",
       "      <td>2018-07-25</td>\n",
       "      <td>6729000</td>\n",
       "      <td>20180725</td>\n",
       "    </tr>\n",
       "    <tr>\n",
       "      <th>...</th>\n",
       "      <td>...</td>\n",
       "      <td>...</td>\n",
       "      <td>...</td>\n",
       "      <td>...</td>\n",
       "      <td>...</td>\n",
       "    </tr>\n",
       "    <tr>\n",
       "      <th>19079</th>\n",
       "      <td>3e96f7cfd9c043c89aecca562c25b303</td>\n",
       "      <td>1</td>\n",
       "      <td>2018-06-11</td>\n",
       "      <td>179900</td>\n",
       "      <td>20180611</td>\n",
       "    </tr>\n",
       "    <tr>\n",
       "      <th>19080</th>\n",
       "      <td>5950eb8fef0ee900da7fb4809ed0dd4a</td>\n",
       "      <td>1</td>\n",
       "      <td>2018-05-22</td>\n",
       "      <td>179900</td>\n",
       "      <td>20180522</td>\n",
       "    </tr>\n",
       "    <tr>\n",
       "      <th>19081</th>\n",
       "      <td>7b9d5dcb4899a5d6a40c657824131ba2</td>\n",
       "      <td>1</td>\n",
       "      <td>2018-04-04</td>\n",
       "      <td>179900</td>\n",
       "      <td>20180404</td>\n",
       "    </tr>\n",
       "    <tr>\n",
       "      <th>19082</th>\n",
       "      <td>338793650dd90ba06a20bb0793d0f3de</td>\n",
       "      <td>1</td>\n",
       "      <td>2018-08-07</td>\n",
       "      <td>179900</td>\n",
       "      <td>20180807</td>\n",
       "    </tr>\n",
       "    <tr>\n",
       "      <th>19083</th>\n",
       "      <td>55670eb40d8c326eea6c05ce30ed0fcf</td>\n",
       "      <td>1</td>\n",
       "      <td>2018-08-14</td>\n",
       "      <td>179900</td>\n",
       "      <td>20180814</td>\n",
       "    </tr>\n",
       "  </tbody>\n",
       "</table>\n",
       "<p>19084 rows × 5 columns</p>\n",
       "</div>"
      ],
      "text/plain": [
       "                              user_name  order_frequency order_recency  \\\n",
       "0      0a0a92112bd4c708ca5fde585afaa872                1    2017-09-29   \n",
       "1      da122df9eeddfedc1dc1f5349a1a690c                2    2017-04-01   \n",
       "2      763c8b1c9c68a0229c42c9fc6f662b93                1    2018-07-15   \n",
       "3      dc4802a71eae9be1dd28f5d788ceb526                1    2017-02-12   \n",
       "4      459bef486812aa25204be022145caa62                1    2018-07-25   \n",
       "...                                 ...              ...           ...   \n",
       "19079  3e96f7cfd9c043c89aecca562c25b303                1    2018-06-11   \n",
       "19080  5950eb8fef0ee900da7fb4809ed0dd4a                1    2018-05-22   \n",
       "19081  7b9d5dcb4899a5d6a40c657824131ba2                1    2018-04-04   \n",
       "19082  338793650dd90ba06a20bb0793d0f3de                1    2018-08-07   \n",
       "19083  55670eb40d8c326eea6c05ce30ed0fcf                1    2018-08-14   \n",
       "\n",
       "       order_monetary  date_key  \n",
       "0            13440000  20170929  \n",
       "1             7388000  20170401  \n",
       "2             7160000  20180715  \n",
       "3             6735000  20170212  \n",
       "4             6729000  20180725  \n",
       "...               ...       ...  \n",
       "19079          179900  20180611  \n",
       "19080          179900  20180522  \n",
       "19081          179900  20180404  \n",
       "19082          179900  20180807  \n",
       "19083          179900  20180814  \n",
       "\n",
       "[19084 rows x 5 columns]"
      ]
     },
     "execution_count": 14,
     "metadata": {},
     "output_type": "execute_result"
    }
   ],
   "source": [
    "# Average order value \n",
    "cur.execute(\"\"\"\n",
    "select *\n",
    "from datamarts.rfm r\n",
    "order by order_monetary_value desc\n",
    "limit 19084\n",
    "\"\"\")\n",
    "query_results = cur.fetchall()\n",
    "top20df = pd.DataFrame (query_results, columns =['user_name','order_frequency','order_recency','order_monetary', 'date_key'])\n",
    "top20df"
   ]
  },
  {
   "cell_type": "code",
   "execution_count": 15,
   "id": "annoying-missouri",
   "metadata": {
    "execution": {
     "iopub.execute_input": "2021-08-20T07:13:08.482361Z",
     "iopub.status.busy": "2021-08-20T07:13:08.482361Z",
     "iopub.status.idle": "2021-08-20T07:13:09.055489Z",
     "shell.execute_reply": "2021-08-20T07:13:09.055489Z",
     "shell.execute_reply.started": "2021-08-20T07:13:08.482361Z"
    }
   },
   "outputs": [
    {
     "name": "stdout",
     "output_type": "stream",
     "text": [
      "Number of user with 1 order (in top 20$): \n"
     ]
    },
    {
     "data": {
      "text/html": [
       "<div>\n",
       "<style scoped>\n",
       "    .dataframe tbody tr th:only-of-type {\n",
       "        vertical-align: middle;\n",
       "    }\n",
       "\n",
       "    .dataframe tbody tr th {\n",
       "        vertical-align: top;\n",
       "    }\n",
       "\n",
       "    .dataframe thead th {\n",
       "        text-align: right;\n",
       "    }\n",
       "</style>\n",
       "<table border=\"1\" class=\"dataframe\">\n",
       "  <thead>\n",
       "    <tr style=\"text-align: right;\">\n",
       "      <th></th>\n",
       "      <th>count(user_name)</th>\n",
       "    </tr>\n",
       "  </thead>\n",
       "  <tbody>\n",
       "    <tr>\n",
       "      <th>0</th>\n",
       "      <td>17611</td>\n",
       "    </tr>\n",
       "  </tbody>\n",
       "</table>\n",
       "</div>"
      ],
      "text/plain": [
       "   count(user_name)\n",
       "0             17611"
      ]
     },
     "execution_count": 15,
     "metadata": {},
     "output_type": "execute_result"
    }
   ],
   "source": [
    "from pandasql import sqldf\n",
    "output = sqldf(\"select count(user_name) from top20df where order_frequency = 1\")\n",
    "print(\"Number of user with 1 order (in top 20$): \")\n",
    "output"
   ]
  },
  {
   "cell_type": "code",
   "execution_count": 16,
   "id": "earned-yukon",
   "metadata": {
    "execution": {
     "iopub.execute_input": "2021-08-20T07:13:09.056489Z",
     "iopub.status.busy": "2021-08-20T07:13:09.056489Z",
     "iopub.status.idle": "2021-08-20T07:13:09.242531Z",
     "shell.execute_reply": "2021-08-20T07:13:09.242531Z",
     "shell.execute_reply.started": "2021-08-20T07:13:09.056489Z"
    }
   },
   "outputs": [
    {
     "name": "stdout",
     "output_type": "stream",
     "text": [
      "Number of user with > 1 order (in top 20$): \n"
     ]
    },
    {
     "data": {
      "text/html": [
       "<div>\n",
       "<style scoped>\n",
       "    .dataframe tbody tr th:only-of-type {\n",
       "        vertical-align: middle;\n",
       "    }\n",
       "\n",
       "    .dataframe tbody tr th {\n",
       "        vertical-align: top;\n",
       "    }\n",
       "\n",
       "    .dataframe thead th {\n",
       "        text-align: right;\n",
       "    }\n",
       "</style>\n",
       "<table border=\"1\" class=\"dataframe\">\n",
       "  <thead>\n",
       "    <tr style=\"text-align: right;\">\n",
       "      <th></th>\n",
       "      <th>count(user_name)</th>\n",
       "    </tr>\n",
       "  </thead>\n",
       "  <tbody>\n",
       "    <tr>\n",
       "      <th>0</th>\n",
       "      <td>1473</td>\n",
       "    </tr>\n",
       "  </tbody>\n",
       "</table>\n",
       "</div>"
      ],
      "text/plain": [
       "   count(user_name)\n",
       "0              1473"
      ]
     },
     "execution_count": 16,
     "metadata": {},
     "output_type": "execute_result"
    }
   ],
   "source": [
    "output2 = sqldf(\"select count(user_name) from top20df where order_frequency > 1\")\n",
    "print(\"Number of user with > 1 order (in top 20$): \")\n",
    "output2"
   ]
  },
  {
   "cell_type": "markdown",
   "id": "coated-commissioner",
   "metadata": {},
   "source": [
    "### RFM Analysis"
   ]
  },
  {
   "cell_type": "code",
   "execution_count": 17,
   "id": "accomplished-arnold",
   "metadata": {
    "execution": {
     "iopub.execute_input": "2021-08-20T07:13:09.243535Z",
     "iopub.status.busy": "2021-08-20T07:13:09.243535Z",
     "iopub.status.idle": "2021-08-20T07:13:09.255533Z",
     "shell.execute_reply": "2021-08-20T07:13:09.255533Z",
     "shell.execute_reply.started": "2021-08-20T07:13:09.243535Z"
    }
   },
   "outputs": [
    {
     "data": {
      "text/html": [
       "<div>\n",
       "<style scoped>\n",
       "    .dataframe tbody tr th:only-of-type {\n",
       "        vertical-align: middle;\n",
       "    }\n",
       "\n",
       "    .dataframe tbody tr th {\n",
       "        vertical-align: top;\n",
       "    }\n",
       "\n",
       "    .dataframe thead th {\n",
       "        text-align: right;\n",
       "    }\n",
       "</style>\n",
       "<table border=\"1\" class=\"dataframe\">\n",
       "  <thead>\n",
       "    <tr style=\"text-align: right;\">\n",
       "      <th></th>\n",
       "      <th>user_name</th>\n",
       "      <th>order_frequency</th>\n",
       "      <th>order_recency</th>\n",
       "      <th>order_monetary</th>\n",
       "      <th>date_key</th>\n",
       "    </tr>\n",
       "  </thead>\n",
       "  <tbody>\n",
       "    <tr>\n",
       "      <th>0</th>\n",
       "      <td>0037eb1ff742ee2e71ba887f65f3c6f3</td>\n",
       "      <td>1</td>\n",
       "      <td>2017-07-13</td>\n",
       "      <td>199000</td>\n",
       "      <td>20170713</td>\n",
       "    </tr>\n",
       "    <tr>\n",
       "      <th>1</th>\n",
       "      <td>003800162424b7b5b3d75c9cf22a66e7</td>\n",
       "      <td>1</td>\n",
       "      <td>2018-04-01</td>\n",
       "      <td>85500</td>\n",
       "      <td>20180401</td>\n",
       "    </tr>\n",
       "    <tr>\n",
       "      <th>2</th>\n",
       "      <td>00391594070baf8603f5fdc1d0c6a48c</td>\n",
       "      <td>1</td>\n",
       "      <td>2018-08-05</td>\n",
       "      <td>105000</td>\n",
       "      <td>20180805</td>\n",
       "    </tr>\n",
       "    <tr>\n",
       "      <th>3</th>\n",
       "      <td>003c457932a554e4df13834237b1ed00</td>\n",
       "      <td>1</td>\n",
       "      <td>2018-01-05</td>\n",
       "      <td>129900</td>\n",
       "      <td>20180105</td>\n",
       "    </tr>\n",
       "    <tr>\n",
       "      <th>4</th>\n",
       "      <td>003db7adfcdc49857b095a50191b6c9d</td>\n",
       "      <td>1</td>\n",
       "      <td>2018-05-02</td>\n",
       "      <td>524900</td>\n",
       "      <td>20180502</td>\n",
       "    </tr>\n",
       "    <tr>\n",
       "      <th>...</th>\n",
       "      <td>...</td>\n",
       "      <td>...</td>\n",
       "      <td>...</td>\n",
       "      <td>...</td>\n",
       "      <td>...</td>\n",
       "    </tr>\n",
       "    <tr>\n",
       "      <th>95415</th>\n",
       "      <td>ffe9e41fbd14db4a7361347c56af5447</td>\n",
       "      <td>1</td>\n",
       "      <td>2018-02-11</td>\n",
       "      <td>199000</td>\n",
       "      <td>20180211</td>\n",
       "    </tr>\n",
       "    <tr>\n",
       "      <th>95416</th>\n",
       "      <td>ffebb6424578e7bb153322da9d65634f</td>\n",
       "      <td>1</td>\n",
       "      <td>2017-01-16</td>\n",
       "      <td>629000</td>\n",
       "      <td>20170116</td>\n",
       "    </tr>\n",
       "    <tr>\n",
       "      <th>95417</th>\n",
       "      <td>fff3a9369e4b7102fab406a334a678c3</td>\n",
       "      <td>1</td>\n",
       "      <td>2017-08-11</td>\n",
       "      <td>84900</td>\n",
       "      <td>20170811</td>\n",
       "    </tr>\n",
       "    <tr>\n",
       "      <th>95418</th>\n",
       "      <td>fffcf5a5ff07b0908bd4e2dbc735a684</td>\n",
       "      <td>1</td>\n",
       "      <td>2017-06-08</td>\n",
       "      <td>1570000</td>\n",
       "      <td>20170608</td>\n",
       "    </tr>\n",
       "    <tr>\n",
       "      <th>95419</th>\n",
       "      <td>ffffd2657e2aad2907e67c3e9daecbeb</td>\n",
       "      <td>1</td>\n",
       "      <td>2017-05-02</td>\n",
       "      <td>56990</td>\n",
       "      <td>20170502</td>\n",
       "    </tr>\n",
       "  </tbody>\n",
       "</table>\n",
       "<p>95420 rows × 5 columns</p>\n",
       "</div>"
      ],
      "text/plain": [
       "                              user_name  order_frequency order_recency  \\\n",
       "0      0037eb1ff742ee2e71ba887f65f3c6f3                1    2017-07-13   \n",
       "1      003800162424b7b5b3d75c9cf22a66e7                1    2018-04-01   \n",
       "2      00391594070baf8603f5fdc1d0c6a48c                1    2018-08-05   \n",
       "3      003c457932a554e4df13834237b1ed00                1    2018-01-05   \n",
       "4      003db7adfcdc49857b095a50191b6c9d                1    2018-05-02   \n",
       "...                                 ...              ...           ...   \n",
       "95415  ffe9e41fbd14db4a7361347c56af5447                1    2018-02-11   \n",
       "95416  ffebb6424578e7bb153322da9d65634f                1    2017-01-16   \n",
       "95417  fff3a9369e4b7102fab406a334a678c3                1    2017-08-11   \n",
       "95418  fffcf5a5ff07b0908bd4e2dbc735a684                1    2017-06-08   \n",
       "95419  ffffd2657e2aad2907e67c3e9daecbeb                1    2017-05-02   \n",
       "\n",
       "       order_monetary  date_key  \n",
       "0              199000  20170713  \n",
       "1               85500  20180401  \n",
       "2              105000  20180805  \n",
       "3              129900  20180105  \n",
       "4              524900  20180502  \n",
       "...               ...       ...  \n",
       "95415          199000  20180211  \n",
       "95416          629000  20170116  \n",
       "95417           84900  20170811  \n",
       "95418         1570000  20170608  \n",
       "95419           56990  20170502  \n",
       "\n",
       "[95420 rows x 5 columns]"
      ]
     },
     "execution_count": 17,
     "metadata": {},
     "output_type": "execute_result"
    }
   ],
   "source": [
    "# copy dataframe\n",
    "segment_df = df\n",
    "segment_df"
   ]
  },
  {
   "cell_type": "code",
   "execution_count": 18,
   "id": "insured-encounter",
   "metadata": {
    "execution": {
     "iopub.execute_input": "2021-08-20T07:13:09.256534Z",
     "iopub.status.busy": "2021-08-20T07:13:09.256534Z",
     "iopub.status.idle": "2021-08-20T07:13:09.261534Z",
     "shell.execute_reply": "2021-08-20T07:13:09.261534Z",
     "shell.execute_reply.started": "2021-08-20T07:13:09.256534Z"
    }
   },
   "outputs": [],
   "source": [
    "f_labels = [1,2]\n",
    "f_groups = segment_df.order_frequency.quantile([0.25,0.5,0.75])"
   ]
  },
  {
   "cell_type": "code",
   "execution_count": 19,
   "id": "impaired-release",
   "metadata": {
    "execution": {
     "iopub.execute_input": "2021-08-20T07:13:09.262557Z",
     "iopub.status.busy": "2021-08-20T07:13:09.262557Z",
     "iopub.status.idle": "2021-08-20T07:13:09.267536Z",
     "shell.execute_reply": "2021-08-20T07:13:09.267536Z",
     "shell.execute_reply.started": "2021-08-20T07:13:09.262557Z"
    }
   },
   "outputs": [
    {
     "data": {
      "text/plain": [
       "0.25    1.0\n",
       "0.50    1.0\n",
       "0.75    1.0\n",
       "Name: order_frequency, dtype: float64"
      ]
     },
     "execution_count": 19,
     "metadata": {},
     "output_type": "execute_result"
    }
   ],
   "source": [
    "f_groups"
   ]
  },
  {
   "cell_type": "markdown",
   "id": "needed-triumph",
   "metadata": {},
   "source": [
    "#### Ranking them based on each RFM attribute separately\n",
    "Ranked based on each attribute from 1 - 5 "
   ]
  },
  {
   "cell_type": "markdown",
   "id": "automatic-semester",
   "metadata": {},
   "source": [
    "### Frequency"
   ]
  },
  {
   "cell_type": "code",
   "execution_count": 20,
   "id": "overhead-tyler",
   "metadata": {
    "execution": {
     "iopub.execute_input": "2021-08-20T07:13:09.268536Z",
     "iopub.status.busy": "2021-08-20T07:13:09.268536Z",
     "iopub.status.idle": "2021-08-20T07:13:09.278538Z",
     "shell.execute_reply": "2021-08-20T07:13:09.278538Z",
     "shell.execute_reply.started": "2021-08-20T07:13:09.268536Z"
    }
   },
   "outputs": [
    {
     "data": {
      "text/plain": [
       "1     92507\n",
       "2      2673\n",
       "3       192\n",
       "4        29\n",
       "5         9\n",
       "6         5\n",
       "7         3\n",
       "9         1\n",
       "16        1\n",
       "Name: order_frequency, dtype: int64"
      ]
     },
     "execution_count": 20,
     "metadata": {},
     "output_type": "execute_result"
    }
   ],
   "source": [
    "segment_df['order_frequency'].value_counts()"
   ]
  },
  {
   "cell_type": "code",
   "execution_count": 21,
   "id": "previous-boutique",
   "metadata": {
    "execution": {
     "iopub.execute_input": "2021-08-20T07:13:09.279541Z",
     "iopub.status.busy": "2021-08-20T07:13:09.279541Z",
     "iopub.status.idle": "2021-08-20T07:13:09.887460Z",
     "shell.execute_reply": "2021-08-20T07:13:09.887460Z",
     "shell.execute_reply.started": "2021-08-20T07:13:09.279541Z"
    }
   },
   "outputs": [
    {
     "data": {
      "text/plain": [
       "<AxesSubplot:>"
      ]
     },
     "execution_count": 21,
     "metadata": {},
     "output_type": "execute_result"
    },
    {
     "data": {
      "image/png": "[encoded data removed]",
      "text/plain": [
       "<Figure size 432x288 with 1 Axes>"
      ]
     },
     "metadata": {
      "needs_background": "light"
     },
     "output_type": "display_data"
    }
   ],
   "source": [
    "segment_df['order_frequency'].hist()"
   ]
  },
  {
   "cell_type": "code",
   "execution_count": 22,
   "id": "raising-prophet",
   "metadata": {
    "execution": {
     "iopub.execute_input": "2021-08-20T07:13:09.888459Z",
     "iopub.status.busy": "2021-08-20T07:13:09.888459Z",
     "iopub.status.idle": "2021-08-20T07:13:09.891460Z",
     "shell.execute_reply": "2021-08-20T07:13:09.891460Z",
     "shell.execute_reply.started": "2021-08-20T07:13:09.888459Z"
    }
   },
   "outputs": [],
   "source": [
    "new_segment_df = segment_df"
   ]
  },
  {
   "cell_type": "code",
   "execution_count": 23,
   "id": "human-checklist",
   "metadata": {
    "execution": {
     "iopub.execute_input": "2021-08-20T07:13:09.892460Z",
     "iopub.status.busy": "2021-08-20T07:13:09.892460Z",
     "iopub.status.idle": "2021-08-20T07:13:09.898462Z",
     "shell.execute_reply": "2021-08-20T07:13:09.898462Z",
     "shell.execute_reply.started": "2021-08-20T07:13:09.892460Z"
    }
   },
   "outputs": [
    {
     "data": {
      "text/plain": [
       "1     92507\n",
       "2      2673\n",
       "3       192\n",
       "4        29\n",
       "5         9\n",
       "6         5\n",
       "7         3\n",
       "9         1\n",
       "16        1\n",
       "Name: order_frequency, dtype: int64"
      ]
     },
     "execution_count": 23,
     "metadata": {},
     "output_type": "execute_result"
    }
   ],
   "source": [
    "new_segment_df['order_frequency'].value_counts()"
   ]
  },
  {
   "cell_type": "code",
   "execution_count": 24,
   "id": "sealed-resource",
   "metadata": {
    "execution": {
     "iopub.execute_input": "2021-08-20T07:13:09.899462Z",
     "iopub.status.busy": "2021-08-20T07:13:09.899462Z",
     "iopub.status.idle": "2021-08-20T07:13:09.910465Z",
     "shell.execute_reply": "2021-08-20T07:13:09.910465Z",
     "shell.execute_reply.started": "2021-08-20T07:13:09.899462Z"
    }
   },
   "outputs": [],
   "source": [
    "# Freq - score\n",
    "#   1 - 1\n",
    "#   2 - 2\n",
    "#   3 - 3\n",
    "# >=4 - 4\n",
    "\n",
    "new_segment_df.loc[new_segment_df['order_frequency'] >= 1, 'frequency_score'] = 1\n",
    "new_segment_df.loc[new_segment_df['order_frequency'] > 1, 'frequency_score'] = 2\n",
    "new_segment_df.loc[new_segment_df['order_frequency'] > 2, 'frequency_score'] = 3\n",
    "new_segment_df.loc[new_segment_df['order_frequency'] > 3, 'frequency_score'] = 4"
   ]
  },
  {
   "cell_type": "code",
   "execution_count": 25,
   "id": "pending-burke",
   "metadata": {
    "execution": {
     "iopub.execute_input": "2021-08-20T07:13:09.912466Z",
     "iopub.status.busy": "2021-08-20T07:13:09.911465Z",
     "iopub.status.idle": "2021-08-20T07:13:09.927469Z",
     "shell.execute_reply": "2021-08-20T07:13:09.927469Z",
     "shell.execute_reply.started": "2021-08-20T07:13:09.912466Z"
    }
   },
   "outputs": [
    {
     "data": {
      "text/html": [
       "<div>\n",
       "<style scoped>\n",
       "    .dataframe tbody tr th:only-of-type {\n",
       "        vertical-align: middle;\n",
       "    }\n",
       "\n",
       "    .dataframe tbody tr th {\n",
       "        vertical-align: top;\n",
       "    }\n",
       "\n",
       "    .dataframe thead th {\n",
       "        text-align: right;\n",
       "    }\n",
       "</style>\n",
       "<table border=\"1\" class=\"dataframe\">\n",
       "  <thead>\n",
       "    <tr style=\"text-align: right;\">\n",
       "      <th></th>\n",
       "      <th>user_name</th>\n",
       "      <th>order_frequency</th>\n",
       "      <th>order_recency</th>\n",
       "      <th>order_monetary</th>\n",
       "      <th>date_key</th>\n",
       "      <th>frequency_score</th>\n",
       "    </tr>\n",
       "  </thead>\n",
       "  <tbody>\n",
       "    <tr>\n",
       "      <th>0</th>\n",
       "      <td>0037eb1ff742ee2e71ba887f65f3c6f3</td>\n",
       "      <td>1</td>\n",
       "      <td>2017-07-13</td>\n",
       "      <td>199000</td>\n",
       "      <td>20170713</td>\n",
       "      <td>1.0</td>\n",
       "    </tr>\n",
       "    <tr>\n",
       "      <th>1</th>\n",
       "      <td>003800162424b7b5b3d75c9cf22a66e7</td>\n",
       "      <td>1</td>\n",
       "      <td>2018-04-01</td>\n",
       "      <td>85500</td>\n",
       "      <td>20180401</td>\n",
       "      <td>1.0</td>\n",
       "    </tr>\n",
       "    <tr>\n",
       "      <th>2</th>\n",
       "      <td>00391594070baf8603f5fdc1d0c6a48c</td>\n",
       "      <td>1</td>\n",
       "      <td>2018-08-05</td>\n",
       "      <td>105000</td>\n",
       "      <td>20180805</td>\n",
       "      <td>1.0</td>\n",
       "    </tr>\n",
       "    <tr>\n",
       "      <th>3</th>\n",
       "      <td>003c457932a554e4df13834237b1ed00</td>\n",
       "      <td>1</td>\n",
       "      <td>2018-01-05</td>\n",
       "      <td>129900</td>\n",
       "      <td>20180105</td>\n",
       "      <td>1.0</td>\n",
       "    </tr>\n",
       "    <tr>\n",
       "      <th>4</th>\n",
       "      <td>003db7adfcdc49857b095a50191b6c9d</td>\n",
       "      <td>1</td>\n",
       "      <td>2018-05-02</td>\n",
       "      <td>524900</td>\n",
       "      <td>20180502</td>\n",
       "      <td>1.0</td>\n",
       "    </tr>\n",
       "    <tr>\n",
       "      <th>...</th>\n",
       "      <td>...</td>\n",
       "      <td>...</td>\n",
       "      <td>...</td>\n",
       "      <td>...</td>\n",
       "      <td>...</td>\n",
       "      <td>...</td>\n",
       "    </tr>\n",
       "    <tr>\n",
       "      <th>95415</th>\n",
       "      <td>ffe9e41fbd14db4a7361347c56af5447</td>\n",
       "      <td>1</td>\n",
       "      <td>2018-02-11</td>\n",
       "      <td>199000</td>\n",
       "      <td>20180211</td>\n",
       "      <td>1.0</td>\n",
       "    </tr>\n",
       "    <tr>\n",
       "      <th>95416</th>\n",
       "      <td>ffebb6424578e7bb153322da9d65634f</td>\n",
       "      <td>1</td>\n",
       "      <td>2017-01-16</td>\n",
       "      <td>629000</td>\n",
       "      <td>20170116</td>\n",
       "      <td>1.0</td>\n",
       "    </tr>\n",
       "    <tr>\n",
       "      <th>95417</th>\n",
       "      <td>fff3a9369e4b7102fab406a334a678c3</td>\n",
       "      <td>1</td>\n",
       "      <td>2017-08-11</td>\n",
       "      <td>84900</td>\n",
       "      <td>20170811</td>\n",
       "      <td>1.0</td>\n",
       "    </tr>\n",
       "    <tr>\n",
       "      <th>95418</th>\n",
       "      <td>fffcf5a5ff07b0908bd4e2dbc735a684</td>\n",
       "      <td>1</td>\n",
       "      <td>2017-06-08</td>\n",
       "      <td>1570000</td>\n",
       "      <td>20170608</td>\n",
       "      <td>1.0</td>\n",
       "    </tr>\n",
       "    <tr>\n",
       "      <th>95419</th>\n",
       "      <td>ffffd2657e2aad2907e67c3e9daecbeb</td>\n",
       "      <td>1</td>\n",
       "      <td>2017-05-02</td>\n",
       "      <td>56990</td>\n",
       "      <td>20170502</td>\n",
       "      <td>1.0</td>\n",
       "    </tr>\n",
       "  </tbody>\n",
       "</table>\n",
       "<p>95420 rows × 6 columns</p>\n",
       "</div>"
      ],
      "text/plain": [
       "                              user_name  order_frequency order_recency  \\\n",
       "0      0037eb1ff742ee2e71ba887f65f3c6f3                1    2017-07-13   \n",
       "1      003800162424b7b5b3d75c9cf22a66e7                1    2018-04-01   \n",
       "2      00391594070baf8603f5fdc1d0c6a48c                1    2018-08-05   \n",
       "3      003c457932a554e4df13834237b1ed00                1    2018-01-05   \n",
       "4      003db7adfcdc49857b095a50191b6c9d                1    2018-05-02   \n",
       "...                                 ...              ...           ...   \n",
       "95415  ffe9e41fbd14db4a7361347c56af5447                1    2018-02-11   \n",
       "95416  ffebb6424578e7bb153322da9d65634f                1    2017-01-16   \n",
       "95417  fff3a9369e4b7102fab406a334a678c3                1    2017-08-11   \n",
       "95418  fffcf5a5ff07b0908bd4e2dbc735a684                1    2017-06-08   \n",
       "95419  ffffd2657e2aad2907e67c3e9daecbeb                1    2017-05-02   \n",
       "\n",
       "       order_monetary  date_key  frequency_score  \n",
       "0              199000  20170713              1.0  \n",
       "1               85500  20180401              1.0  \n",
       "2              105000  20180805              1.0  \n",
       "3              129900  20180105              1.0  \n",
       "4              524900  20180502              1.0  \n",
       "...               ...       ...              ...  \n",
       "95415          199000  20180211              1.0  \n",
       "95416          629000  20170116              1.0  \n",
       "95417           84900  20170811              1.0  \n",
       "95418         1570000  20170608              1.0  \n",
       "95419           56990  20170502              1.0  \n",
       "\n",
       "[95420 rows x 6 columns]"
      ]
     },
     "execution_count": 25,
     "metadata": {},
     "output_type": "execute_result"
    }
   ],
   "source": [
    "new_segment_df"
   ]
  },
  {
   "cell_type": "markdown",
   "id": "copyrighted-prairie",
   "metadata": {},
   "source": [
    "### Recency Rank\n"
   ]
  },
  {
   "cell_type": "code",
   "execution_count": 26,
   "id": "demanding-march",
   "metadata": {
    "execution": {
     "iopub.execute_input": "2021-08-20T07:13:09.928468Z",
     "iopub.status.busy": "2021-08-20T07:13:09.928468Z",
     "iopub.status.idle": "2021-08-20T07:13:09.941472Z",
     "shell.execute_reply": "2021-08-20T07:13:09.941472Z",
     "shell.execute_reply.started": "2021-08-20T07:13:09.928468Z"
    }
   },
   "outputs": [
    {
     "data": {
      "text/html": [
       "<div>\n",
       "<style scoped>\n",
       "    .dataframe tbody tr th:only-of-type {\n",
       "        vertical-align: middle;\n",
       "    }\n",
       "\n",
       "    .dataframe tbody tr th {\n",
       "        vertical-align: top;\n",
       "    }\n",
       "\n",
       "    .dataframe thead th {\n",
       "        text-align: right;\n",
       "    }\n",
       "</style>\n",
       "<table border=\"1\" class=\"dataframe\">\n",
       "  <thead>\n",
       "    <tr style=\"text-align: right;\">\n",
       "      <th></th>\n",
       "      <th>user_name</th>\n",
       "      <th>order_frequency</th>\n",
       "      <th>order_recency</th>\n",
       "      <th>order_monetary</th>\n",
       "      <th>date_key</th>\n",
       "      <th>frequency_score</th>\n",
       "    </tr>\n",
       "  </thead>\n",
       "  <tbody>\n",
       "    <tr>\n",
       "      <th>0</th>\n",
       "      <td>0037eb1ff742ee2e71ba887f65f3c6f3</td>\n",
       "      <td>1</td>\n",
       "      <td>2017-07-13</td>\n",
       "      <td>199000</td>\n",
       "      <td>20170713</td>\n",
       "      <td>1.0</td>\n",
       "    </tr>\n",
       "    <tr>\n",
       "      <th>1</th>\n",
       "      <td>003800162424b7b5b3d75c9cf22a66e7</td>\n",
       "      <td>1</td>\n",
       "      <td>2018-04-01</td>\n",
       "      <td>85500</td>\n",
       "      <td>20180401</td>\n",
       "      <td>1.0</td>\n",
       "    </tr>\n",
       "    <tr>\n",
       "      <th>2</th>\n",
       "      <td>00391594070baf8603f5fdc1d0c6a48c</td>\n",
       "      <td>1</td>\n",
       "      <td>2018-08-05</td>\n",
       "      <td>105000</td>\n",
       "      <td>20180805</td>\n",
       "      <td>1.0</td>\n",
       "    </tr>\n",
       "    <tr>\n",
       "      <th>3</th>\n",
       "      <td>003c457932a554e4df13834237b1ed00</td>\n",
       "      <td>1</td>\n",
       "      <td>2018-01-05</td>\n",
       "      <td>129900</td>\n",
       "      <td>20180105</td>\n",
       "      <td>1.0</td>\n",
       "    </tr>\n",
       "    <tr>\n",
       "      <th>4</th>\n",
       "      <td>003db7adfcdc49857b095a50191b6c9d</td>\n",
       "      <td>1</td>\n",
       "      <td>2018-05-02</td>\n",
       "      <td>524900</td>\n",
       "      <td>20180502</td>\n",
       "      <td>1.0</td>\n",
       "    </tr>\n",
       "    <tr>\n",
       "      <th>...</th>\n",
       "      <td>...</td>\n",
       "      <td>...</td>\n",
       "      <td>...</td>\n",
       "      <td>...</td>\n",
       "      <td>...</td>\n",
       "      <td>...</td>\n",
       "    </tr>\n",
       "    <tr>\n",
       "      <th>95415</th>\n",
       "      <td>ffe9e41fbd14db4a7361347c56af5447</td>\n",
       "      <td>1</td>\n",
       "      <td>2018-02-11</td>\n",
       "      <td>199000</td>\n",
       "      <td>20180211</td>\n",
       "      <td>1.0</td>\n",
       "    </tr>\n",
       "    <tr>\n",
       "      <th>95416</th>\n",
       "      <td>ffebb6424578e7bb153322da9d65634f</td>\n",
       "      <td>1</td>\n",
       "      <td>2017-01-16</td>\n",
       "      <td>629000</td>\n",
       "      <td>20170116</td>\n",
       "      <td>1.0</td>\n",
       "    </tr>\n",
       "    <tr>\n",
       "      <th>95417</th>\n",
       "      <td>fff3a9369e4b7102fab406a334a678c3</td>\n",
       "      <td>1</td>\n",
       "      <td>2017-08-11</td>\n",
       "      <td>84900</td>\n",
       "      <td>20170811</td>\n",
       "      <td>1.0</td>\n",
       "    </tr>\n",
       "    <tr>\n",
       "      <th>95418</th>\n",
       "      <td>fffcf5a5ff07b0908bd4e2dbc735a684</td>\n",
       "      <td>1</td>\n",
       "      <td>2017-06-08</td>\n",
       "      <td>1570000</td>\n",
       "      <td>20170608</td>\n",
       "      <td>1.0</td>\n",
       "    </tr>\n",
       "    <tr>\n",
       "      <th>95419</th>\n",
       "      <td>ffffd2657e2aad2907e67c3e9daecbeb</td>\n",
       "      <td>1</td>\n",
       "      <td>2017-05-02</td>\n",
       "      <td>56990</td>\n",
       "      <td>20170502</td>\n",
       "      <td>1.0</td>\n",
       "    </tr>\n",
       "  </tbody>\n",
       "</table>\n",
       "<p>95420 rows × 6 columns</p>\n",
       "</div>"
      ],
      "text/plain": [
       "                              user_name  order_frequency order_recency  \\\n",
       "0      0037eb1ff742ee2e71ba887f65f3c6f3                1    2017-07-13   \n",
       "1      003800162424b7b5b3d75c9cf22a66e7                1    2018-04-01   \n",
       "2      00391594070baf8603f5fdc1d0c6a48c                1    2018-08-05   \n",
       "3      003c457932a554e4df13834237b1ed00                1    2018-01-05   \n",
       "4      003db7adfcdc49857b095a50191b6c9d                1    2018-05-02   \n",
       "...                                 ...              ...           ...   \n",
       "95415  ffe9e41fbd14db4a7361347c56af5447                1    2018-02-11   \n",
       "95416  ffebb6424578e7bb153322da9d65634f                1    2017-01-16   \n",
       "95417  fff3a9369e4b7102fab406a334a678c3                1    2017-08-11   \n",
       "95418  fffcf5a5ff07b0908bd4e2dbc735a684                1    2017-06-08   \n",
       "95419  ffffd2657e2aad2907e67c3e9daecbeb                1    2017-05-02   \n",
       "\n",
       "       order_monetary  date_key  frequency_score  \n",
       "0              199000  20170713              1.0  \n",
       "1               85500  20180401              1.0  \n",
       "2              105000  20180805              1.0  \n",
       "3              129900  20180105              1.0  \n",
       "4              524900  20180502              1.0  \n",
       "...               ...       ...              ...  \n",
       "95415          199000  20180211              1.0  \n",
       "95416          629000  20170116              1.0  \n",
       "95417           84900  20170811              1.0  \n",
       "95418         1570000  20170608              1.0  \n",
       "95419           56990  20170502              1.0  \n",
       "\n",
       "[95420 rows x 6 columns]"
      ]
     },
     "execution_count": 26,
     "metadata": {},
     "output_type": "execute_result"
    }
   ],
   "source": [
    "# Recency Rank \n",
    "# the top 20% of customers receive a recency score of 5, the next 20% a score of 4, and so on\n",
    "\n",
    "recency_rank = new_segment_df\n",
    "recency_rank"
   ]
  },
  {
   "cell_type": "code",
   "execution_count": 27,
   "id": "exterior-passage",
   "metadata": {
    "execution": {
     "iopub.execute_input": "2021-08-20T07:13:09.946472Z",
     "iopub.status.busy": "2021-08-20T07:13:09.945472Z",
     "iopub.status.idle": "2021-08-20T07:13:10.242487Z",
     "shell.execute_reply": "2021-08-20T07:13:10.242487Z",
     "shell.execute_reply.started": "2021-08-20T07:13:09.945472Z"
    }
   },
   "outputs": [
    {
     "data": {
      "text/html": [
       "<div>\n",
       "<style scoped>\n",
       "    .dataframe tbody tr th:only-of-type {\n",
       "        vertical-align: middle;\n",
       "    }\n",
       "\n",
       "    .dataframe tbody tr th {\n",
       "        vertical-align: top;\n",
       "    }\n",
       "\n",
       "    .dataframe thead th {\n",
       "        text-align: right;\n",
       "    }\n",
       "</style>\n",
       "<table border=\"1\" class=\"dataframe\">\n",
       "  <thead>\n",
       "    <tr style=\"text-align: right;\">\n",
       "      <th></th>\n",
       "      <th>user_name</th>\n",
       "      <th>order_frequency</th>\n",
       "      <th>order_recency</th>\n",
       "      <th>order_monetary</th>\n",
       "      <th>date_key</th>\n",
       "      <th>frequency_score</th>\n",
       "      <th>recency</th>\n",
       "    </tr>\n",
       "  </thead>\n",
       "  <tbody>\n",
       "    <tr>\n",
       "      <th>0</th>\n",
       "      <td>0037eb1ff742ee2e71ba887f65f3c6f3</td>\n",
       "      <td>1</td>\n",
       "      <td>2017-07-13</td>\n",
       "      <td>199000</td>\n",
       "      <td>20170713</td>\n",
       "      <td>1.0</td>\n",
       "      <td>417</td>\n",
       "    </tr>\n",
       "    <tr>\n",
       "      <th>1</th>\n",
       "      <td>003800162424b7b5b3d75c9cf22a66e7</td>\n",
       "      <td>1</td>\n",
       "      <td>2018-04-01</td>\n",
       "      <td>85500</td>\n",
       "      <td>20180401</td>\n",
       "      <td>1.0</td>\n",
       "      <td>155</td>\n",
       "    </tr>\n",
       "    <tr>\n",
       "      <th>2</th>\n",
       "      <td>00391594070baf8603f5fdc1d0c6a48c</td>\n",
       "      <td>1</td>\n",
       "      <td>2018-08-05</td>\n",
       "      <td>105000</td>\n",
       "      <td>20180805</td>\n",
       "      <td>1.0</td>\n",
       "      <td>29</td>\n",
       "    </tr>\n",
       "    <tr>\n",
       "      <th>3</th>\n",
       "      <td>003c457932a554e4df13834237b1ed00</td>\n",
       "      <td>1</td>\n",
       "      <td>2018-01-05</td>\n",
       "      <td>129900</td>\n",
       "      <td>20180105</td>\n",
       "      <td>1.0</td>\n",
       "      <td>241</td>\n",
       "    </tr>\n",
       "    <tr>\n",
       "      <th>4</th>\n",
       "      <td>003db7adfcdc49857b095a50191b6c9d</td>\n",
       "      <td>1</td>\n",
       "      <td>2018-05-02</td>\n",
       "      <td>524900</td>\n",
       "      <td>20180502</td>\n",
       "      <td>1.0</td>\n",
       "      <td>124</td>\n",
       "    </tr>\n",
       "    <tr>\n",
       "      <th>...</th>\n",
       "      <td>...</td>\n",
       "      <td>...</td>\n",
       "      <td>...</td>\n",
       "      <td>...</td>\n",
       "      <td>...</td>\n",
       "      <td>...</td>\n",
       "      <td>...</td>\n",
       "    </tr>\n",
       "    <tr>\n",
       "      <th>95415</th>\n",
       "      <td>ffe9e41fbd14db4a7361347c56af5447</td>\n",
       "      <td>1</td>\n",
       "      <td>2018-02-11</td>\n",
       "      <td>199000</td>\n",
       "      <td>20180211</td>\n",
       "      <td>1.0</td>\n",
       "      <td>204</td>\n",
       "    </tr>\n",
       "    <tr>\n",
       "      <th>95416</th>\n",
       "      <td>ffebb6424578e7bb153322da9d65634f</td>\n",
       "      <td>1</td>\n",
       "      <td>2017-01-16</td>\n",
       "      <td>629000</td>\n",
       "      <td>20170116</td>\n",
       "      <td>1.0</td>\n",
       "      <td>595</td>\n",
       "    </tr>\n",
       "    <tr>\n",
       "      <th>95417</th>\n",
       "      <td>fff3a9369e4b7102fab406a334a678c3</td>\n",
       "      <td>1</td>\n",
       "      <td>2017-08-11</td>\n",
       "      <td>84900</td>\n",
       "      <td>20170811</td>\n",
       "      <td>1.0</td>\n",
       "      <td>388</td>\n",
       "    </tr>\n",
       "    <tr>\n",
       "      <th>95418</th>\n",
       "      <td>fffcf5a5ff07b0908bd4e2dbc735a684</td>\n",
       "      <td>1</td>\n",
       "      <td>2017-06-08</td>\n",
       "      <td>1570000</td>\n",
       "      <td>20170608</td>\n",
       "      <td>1.0</td>\n",
       "      <td>452</td>\n",
       "    </tr>\n",
       "    <tr>\n",
       "      <th>95419</th>\n",
       "      <td>ffffd2657e2aad2907e67c3e9daecbeb</td>\n",
       "      <td>1</td>\n",
       "      <td>2017-05-02</td>\n",
       "      <td>56990</td>\n",
       "      <td>20170502</td>\n",
       "      <td>1.0</td>\n",
       "      <td>489</td>\n",
       "    </tr>\n",
       "  </tbody>\n",
       "</table>\n",
       "<p>95420 rows × 7 columns</p>\n",
       "</div>"
      ],
      "text/plain": [
       "                              user_name  order_frequency order_recency  \\\n",
       "0      0037eb1ff742ee2e71ba887f65f3c6f3                1    2017-07-13   \n",
       "1      003800162424b7b5b3d75c9cf22a66e7                1    2018-04-01   \n",
       "2      00391594070baf8603f5fdc1d0c6a48c                1    2018-08-05   \n",
       "3      003c457932a554e4df13834237b1ed00                1    2018-01-05   \n",
       "4      003db7adfcdc49857b095a50191b6c9d                1    2018-05-02   \n",
       "...                                 ...              ...           ...   \n",
       "95415  ffe9e41fbd14db4a7361347c56af5447                1    2018-02-11   \n",
       "95416  ffebb6424578e7bb153322da9d65634f                1    2017-01-16   \n",
       "95417  fff3a9369e4b7102fab406a334a678c3                1    2017-08-11   \n",
       "95418  fffcf5a5ff07b0908bd4e2dbc735a684                1    2017-06-08   \n",
       "95419  ffffd2657e2aad2907e67c3e9daecbeb                1    2017-05-02   \n",
       "\n",
       "       order_monetary  date_key  frequency_score  recency  \n",
       "0              199000  20170713              1.0      417  \n",
       "1               85500  20180401              1.0      155  \n",
       "2              105000  20180805              1.0       29  \n",
       "3              129900  20180105              1.0      241  \n",
       "4              524900  20180502              1.0      124  \n",
       "...               ...       ...              ...      ...  \n",
       "95415          199000  20180211              1.0      204  \n",
       "95416          629000  20170116              1.0      595  \n",
       "95417           84900  20170811              1.0      388  \n",
       "95418         1570000  20170608              1.0      452  \n",
       "95419           56990  20170502              1.0      489  \n",
       "\n",
       "[95420 rows x 7 columns]"
      ]
     },
     "execution_count": 27,
     "metadata": {},
     "output_type": "execute_result"
    }
   ],
   "source": [
    "max_date = recency_rank['order_recency'].max()\n",
    "recency_rank['recency'] = (max_date - recency_rank['order_recency']).dt.days\n",
    "recency_rank"
   ]
  },
  {
   "cell_type": "code",
   "execution_count": 28,
   "id": "academic-midnight",
   "metadata": {
    "execution": {
     "iopub.execute_input": "2021-08-20T07:13:10.245487Z",
     "iopub.status.busy": "2021-08-20T07:13:10.244487Z",
     "iopub.status.idle": "2021-08-20T07:13:10.402523Z",
     "shell.execute_reply": "2021-08-20T07:13:10.402523Z",
     "shell.execute_reply.started": "2021-08-20T07:13:10.245487Z"
    }
   },
   "outputs": [
    {
     "data": {
      "text/plain": [
       "<AxesSubplot:>"
      ]
     },
     "execution_count": 28,
     "metadata": {},
     "output_type": "execute_result"
    },
    {
     "data": {
      "image/png": "[encoded data removed]",
      "text/plain": [
       "<Figure size 432x288 with 1 Axes>"
      ]
     },
     "metadata": {
      "needs_background": "light"
     },
     "output_type": "display_data"
    }
   ],
   "source": [
    "# Distribution Analysis\n",
    "recency_rank['recency'].hist()"
   ]
  },
  {
   "cell_type": "code",
   "execution_count": 29,
   "id": "happy-outline",
   "metadata": {
    "execution": {
     "iopub.execute_input": "2021-08-20T07:13:10.403523Z",
     "iopub.status.busy": "2021-08-20T07:13:10.403523Z",
     "iopub.status.idle": "2021-08-20T07:13:15.460850Z",
     "shell.execute_reply": "2021-08-20T07:13:15.460850Z",
     "shell.execute_reply.started": "2021-08-20T07:13:10.403523Z"
    }
   },
   "outputs": [
    {
     "data": {
      "text/plain": [
       "Text(0.5, 1.0, 'hist(t, bins=\"knuth\")')"
      ]
     },
     "execution_count": 29,
     "metadata": {},
     "output_type": "execute_result"
    },
    {
     "data": {
      "image/png": "[encoded data removed]",
      "text/plain": [
       "<Figure size 1440x576 with 1 Axes>"
      ]
     },
     "metadata": {
      "needs_background": "light"
     },
     "output_type": "display_data"
    }
   ],
   "source": [
    "import numpy as np\n",
    "import matplotlib.pyplot as plt\n",
    "from astropy.visualization import hist\n",
    "\n",
    "t = recency_rank['recency']\n",
    "\n",
    "# draw histograms with two different bin widths\n",
    "fig, ax = plt.subplots(1, figsize=(20, 8))\n",
    "\n",
    "hist(t, bins='knuth', histtype='stepfilled',\n",
    "            alpha=0.2, density=True)\n",
    "ax.set_xlabel('t')\n",
    "ax.set_ylabel('P(t)')\n",
    "ax.set_title(f'hist(t, bins=\"knuth\")',\n",
    "                    fontdict=dict(family='monospace'))"
   ]
  },
  {
   "cell_type": "code",
   "execution_count": 30,
   "id": "cutting-episode",
   "metadata": {
    "execution": {
     "iopub.execute_input": "2021-08-20T07:13:15.461851Z",
     "iopub.status.busy": "2021-08-20T07:13:15.461851Z",
     "iopub.status.idle": "2021-08-20T07:13:15.793492Z",
     "shell.execute_reply": "2021-08-20T07:13:15.793492Z",
     "shell.execute_reply.started": "2021-08-20T07:13:15.461851Z"
    }
   },
   "outputs": [
    {
     "name": "stderr",
     "output_type": "stream",
     "text": [
      "R:\\Anaconda\\envs\\tf-gpu\\lib\\site-packages\\seaborn\\_decorators.py:36: FutureWarning: Pass the following variable as a keyword arg: x. From version 0.12, the only valid positional argument will be `data`, and passing other arguments without an explicit keyword will result in an error or misinterpretation.\n",
      "  warnings.warn(\n"
     ]
    },
    {
     "data": {
      "text/plain": [
       "<AxesSubplot:xlabel='recency'>"
      ]
     },
     "execution_count": 30,
     "metadata": {},
     "output_type": "execute_result"
    },
    {
     "data": {
      "image/png": "[encoded data removed]",
      "text/plain": [
       "<Figure size 432x288 with 1 Axes>"
      ]
     },
     "metadata": {
      "needs_background": "light"
     },
     "output_type": "display_data"
    }
   ],
   "source": [
    "#Box Plot\n",
    "import seaborn as sns\n",
    "sns.boxplot(recency_rank['recency'])"
   ]
  },
  {
   "cell_type": "code",
   "execution_count": 31,
   "id": "operational-gather",
   "metadata": {
    "execution": {
     "iopub.execute_input": "2021-08-20T07:13:15.794493Z",
     "iopub.status.busy": "2021-08-20T07:13:15.794493Z",
     "iopub.status.idle": "2021-08-20T07:13:15.799494Z",
     "shell.execute_reply": "2021-08-20T07:13:15.799494Z",
     "shell.execute_reply.started": "2021-08-20T07:13:15.794493Z"
    }
   },
   "outputs": [
    {
     "name": "stdout",
     "output_type": "stream",
     "text": [
      "median is: 224.0\n",
      "mean is:  243.50145671766924\n"
     ]
    }
   ],
   "source": [
    "# Mean Median\n",
    "x = np.median(recency_rank['recency'])\n",
    "y = np.mean(recency_rank['recency'])\n",
    "print('median is:', x)\n",
    "print('mean is: ', y)"
   ]
  },
  {
   "cell_type": "code",
   "execution_count": 32,
   "id": "healthy-somalia",
   "metadata": {
    "execution": {
     "iopub.execute_input": "2021-08-20T07:13:15.800494Z",
     "iopub.status.busy": "2021-08-20T07:13:15.800494Z",
     "iopub.status.idle": "2021-08-20T07:13:15.825499Z",
     "shell.execute_reply": "2021-08-20T07:13:15.825499Z",
     "shell.execute_reply.started": "2021-08-20T07:13:15.800494Z"
    }
   },
   "outputs": [],
   "source": [
    "# Create the quartiles scores\n",
    "quantiles = recency_rank.quantile(q=[0.25,0.5,0.75])\n",
    "quantiles = quantiles.to_dict()\n",
    "quantiles    \n",
    "def RScore(x,p,d):\n",
    "    if x <= d[p][0.25]:\n",
    "        return 4\n",
    "    elif x <= d[p][0.50]:\n",
    "        return 3\n",
    "    elif x <= d[p][0.75]: \n",
    "        return 2\n",
    "    else:\n",
    "        return 1"
   ]
  },
  {
   "cell_type": "code",
   "execution_count": 33,
   "id": "robust-clearance",
   "metadata": {
    "execution": {
     "iopub.execute_input": "2021-08-20T07:13:15.826500Z",
     "iopub.status.busy": "2021-08-20T07:13:15.826500Z",
     "iopub.status.idle": "2021-08-20T07:13:15.933523Z",
     "shell.execute_reply": "2021-08-20T07:13:15.933523Z",
     "shell.execute_reply.started": "2021-08-20T07:13:15.826500Z"
    }
   },
   "outputs": [
    {
     "data": {
      "text/html": [
       "<div>\n",
       "<style scoped>\n",
       "    .dataframe tbody tr th:only-of-type {\n",
       "        vertical-align: middle;\n",
       "    }\n",
       "\n",
       "    .dataframe tbody tr th {\n",
       "        vertical-align: top;\n",
       "    }\n",
       "\n",
       "    .dataframe thead th {\n",
       "        text-align: right;\n",
       "    }\n",
       "</style>\n",
       "<table border=\"1\" class=\"dataframe\">\n",
       "  <thead>\n",
       "    <tr style=\"text-align: right;\">\n",
       "      <th></th>\n",
       "      <th>user_name</th>\n",
       "      <th>order_frequency</th>\n",
       "      <th>order_recency</th>\n",
       "      <th>order_monetary</th>\n",
       "      <th>date_key</th>\n",
       "      <th>frequency_score</th>\n",
       "      <th>recency</th>\n",
       "      <th>recency_score</th>\n",
       "    </tr>\n",
       "  </thead>\n",
       "  <tbody>\n",
       "    <tr>\n",
       "      <th>0</th>\n",
       "      <td>0037eb1ff742ee2e71ba887f65f3c6f3</td>\n",
       "      <td>1</td>\n",
       "      <td>2017-07-13</td>\n",
       "      <td>199000</td>\n",
       "      <td>20170713</td>\n",
       "      <td>1.0</td>\n",
       "      <td>417</td>\n",
       "      <td>1</td>\n",
       "    </tr>\n",
       "    <tr>\n",
       "      <th>1</th>\n",
       "      <td>003800162424b7b5b3d75c9cf22a66e7</td>\n",
       "      <td>1</td>\n",
       "      <td>2018-04-01</td>\n",
       "      <td>85500</td>\n",
       "      <td>20180401</td>\n",
       "      <td>1.0</td>\n",
       "      <td>155</td>\n",
       "      <td>3</td>\n",
       "    </tr>\n",
       "    <tr>\n",
       "      <th>2</th>\n",
       "      <td>00391594070baf8603f5fdc1d0c6a48c</td>\n",
       "      <td>1</td>\n",
       "      <td>2018-08-05</td>\n",
       "      <td>105000</td>\n",
       "      <td>20180805</td>\n",
       "      <td>1.0</td>\n",
       "      <td>29</td>\n",
       "      <td>4</td>\n",
       "    </tr>\n",
       "    <tr>\n",
       "      <th>3</th>\n",
       "      <td>003c457932a554e4df13834237b1ed00</td>\n",
       "      <td>1</td>\n",
       "      <td>2018-01-05</td>\n",
       "      <td>129900</td>\n",
       "      <td>20180105</td>\n",
       "      <td>1.0</td>\n",
       "      <td>241</td>\n",
       "      <td>2</td>\n",
       "    </tr>\n",
       "    <tr>\n",
       "      <th>4</th>\n",
       "      <td>003db7adfcdc49857b095a50191b6c9d</td>\n",
       "      <td>1</td>\n",
       "      <td>2018-05-02</td>\n",
       "      <td>524900</td>\n",
       "      <td>20180502</td>\n",
       "      <td>1.0</td>\n",
       "      <td>124</td>\n",
       "      <td>3</td>\n",
       "    </tr>\n",
       "    <tr>\n",
       "      <th>...</th>\n",
       "      <td>...</td>\n",
       "      <td>...</td>\n",
       "      <td>...</td>\n",
       "      <td>...</td>\n",
       "      <td>...</td>\n",
       "      <td>...</td>\n",
       "      <td>...</td>\n",
       "      <td>...</td>\n",
       "    </tr>\n",
       "    <tr>\n",
       "      <th>95415</th>\n",
       "      <td>ffe9e41fbd14db4a7361347c56af5447</td>\n",
       "      <td>1</td>\n",
       "      <td>2018-02-11</td>\n",
       "      <td>199000</td>\n",
       "      <td>20180211</td>\n",
       "      <td>1.0</td>\n",
       "      <td>204</td>\n",
       "      <td>3</td>\n",
       "    </tr>\n",
       "    <tr>\n",
       "      <th>95416</th>\n",
       "      <td>ffebb6424578e7bb153322da9d65634f</td>\n",
       "      <td>1</td>\n",
       "      <td>2017-01-16</td>\n",
       "      <td>629000</td>\n",
       "      <td>20170116</td>\n",
       "      <td>1.0</td>\n",
       "      <td>595</td>\n",
       "      <td>1</td>\n",
       "    </tr>\n",
       "    <tr>\n",
       "      <th>95417</th>\n",
       "      <td>fff3a9369e4b7102fab406a334a678c3</td>\n",
       "      <td>1</td>\n",
       "      <td>2017-08-11</td>\n",
       "      <td>84900</td>\n",
       "      <td>20170811</td>\n",
       "      <td>1.0</td>\n",
       "      <td>388</td>\n",
       "      <td>1</td>\n",
       "    </tr>\n",
       "    <tr>\n",
       "      <th>95418</th>\n",
       "      <td>fffcf5a5ff07b0908bd4e2dbc735a684</td>\n",
       "      <td>1</td>\n",
       "      <td>2017-06-08</td>\n",
       "      <td>1570000</td>\n",
       "      <td>20170608</td>\n",
       "      <td>1.0</td>\n",
       "      <td>452</td>\n",
       "      <td>1</td>\n",
       "    </tr>\n",
       "    <tr>\n",
       "      <th>95419</th>\n",
       "      <td>ffffd2657e2aad2907e67c3e9daecbeb</td>\n",
       "      <td>1</td>\n",
       "      <td>2017-05-02</td>\n",
       "      <td>56990</td>\n",
       "      <td>20170502</td>\n",
       "      <td>1.0</td>\n",
       "      <td>489</td>\n",
       "      <td>1</td>\n",
       "    </tr>\n",
       "  </tbody>\n",
       "</table>\n",
       "<p>95420 rows × 8 columns</p>\n",
       "</div>"
      ],
      "text/plain": [
       "                              user_name  order_frequency order_recency  \\\n",
       "0      0037eb1ff742ee2e71ba887f65f3c6f3                1    2017-07-13   \n",
       "1      003800162424b7b5b3d75c9cf22a66e7                1    2018-04-01   \n",
       "2      00391594070baf8603f5fdc1d0c6a48c                1    2018-08-05   \n",
       "3      003c457932a554e4df13834237b1ed00                1    2018-01-05   \n",
       "4      003db7adfcdc49857b095a50191b6c9d                1    2018-05-02   \n",
       "...                                 ...              ...           ...   \n",
       "95415  ffe9e41fbd14db4a7361347c56af5447                1    2018-02-11   \n",
       "95416  ffebb6424578e7bb153322da9d65634f                1    2017-01-16   \n",
       "95417  fff3a9369e4b7102fab406a334a678c3                1    2017-08-11   \n",
       "95418  fffcf5a5ff07b0908bd4e2dbc735a684                1    2017-06-08   \n",
       "95419  ffffd2657e2aad2907e67c3e9daecbeb                1    2017-05-02   \n",
       "\n",
       "       order_monetary  date_key  frequency_score  recency  recency_score  \n",
       "0              199000  20170713              1.0      417              1  \n",
       "1               85500  20180401              1.0      155              3  \n",
       "2              105000  20180805              1.0       29              4  \n",
       "3              129900  20180105              1.0      241              2  \n",
       "4              524900  20180502              1.0      124              3  \n",
       "...               ...       ...              ...      ...            ...  \n",
       "95415          199000  20180211              1.0      204              3  \n",
       "95416          629000  20170116              1.0      595              1  \n",
       "95417           84900  20170811              1.0      388              1  \n",
       "95418         1570000  20170608              1.0      452              1  \n",
       "95419           56990  20170502              1.0      489              1  \n",
       "\n",
       "[95420 rows x 8 columns]"
      ]
     },
     "execution_count": 33,
     "metadata": {},
     "output_type": "execute_result"
    }
   ],
   "source": [
    "recency_rank['recency_score'] = recency_rank['recency'].apply(RScore, args=('recency',quantiles,))\n",
    "recency_rank"
   ]
  },
  {
   "cell_type": "code",
   "execution_count": 34,
   "id": "offensive-diploma",
   "metadata": {
    "execution": {
     "iopub.execute_input": "2021-08-20T07:13:15.934523Z",
     "iopub.status.busy": "2021-08-20T07:13:15.934523Z",
     "iopub.status.idle": "2021-08-20T07:13:15.940525Z",
     "shell.execute_reply": "2021-08-20T07:13:15.940525Z",
     "shell.execute_reply.started": "2021-08-20T07:13:15.934523Z"
    }
   },
   "outputs": [
    {
     "data": {
      "text/plain": [
       "3    23944\n",
       "4    23894\n",
       "2    23849\n",
       "1    23733\n",
       "Name: recency_score, dtype: int64"
      ]
     },
     "execution_count": 34,
     "metadata": {},
     "output_type": "execute_result"
    }
   ],
   "source": [
    "recency_rank['recency_score'].value_counts()"
   ]
  },
  {
   "cell_type": "markdown",
   "id": "conservative-teaching",
   "metadata": {},
   "source": [
    "### Not Used "
   ]
  },
  {
   "cell_type": "code",
   "execution_count": 35,
   "id": "heard-machinery",
   "metadata": {
    "execution": {
     "iopub.execute_input": "2021-08-20T07:13:15.941526Z",
     "iopub.status.busy": "2021-08-20T07:13:15.941526Z",
     "iopub.status.idle": "2021-08-20T07:13:15.943526Z",
     "shell.execute_reply": "2021-08-20T07:13:15.943526Z",
     "shell.execute_reply.started": "2021-08-20T07:13:15.941526Z"
    }
   },
   "outputs": [],
   "source": [
    "# recency_rank.loc[recency_rank['RowNumber'] >= 1, 'recency_score'] = 5\n",
    "# recency_rank"
   ]
  },
  {
   "cell_type": "code",
   "execution_count": 36,
   "id": "grateful-circle",
   "metadata": {
    "execution": {
     "iopub.execute_input": "2021-08-20T07:13:15.944526Z",
     "iopub.status.busy": "2021-08-20T07:13:15.944526Z",
     "iopub.status.idle": "2021-08-20T07:13:15.948526Z",
     "shell.execute_reply": "2021-08-20T07:13:15.948526Z",
     "shell.execute_reply.started": "2021-08-20T07:13:15.944526Z"
    }
   },
   "outputs": [],
   "source": [
    "# recency_rank.loc[recency_rank['RowNumber'] > 19084, 'recency_score'] = 4\n",
    "# recency_rank"
   ]
  },
  {
   "cell_type": "code",
   "execution_count": 37,
   "id": "natural-funds",
   "metadata": {
    "execution": {
     "iopub.execute_input": "2021-08-20T07:13:15.949526Z",
     "iopub.status.busy": "2021-08-20T07:13:15.949526Z",
     "iopub.status.idle": "2021-08-20T07:13:15.952528Z",
     "shell.execute_reply": "2021-08-20T07:13:15.952528Z",
     "shell.execute_reply.started": "2021-08-20T07:13:15.949526Z"
    }
   },
   "outputs": [],
   "source": [
    "# recency_rank.loc[recency_rank['RowNumber'] > 19084*2, 'recency_score'] = 3\n",
    "# recency_rank.loc[recency_rank['RowNumber'] > 19084*3, 'recency_score'] = 2\n",
    "# recency_rank.loc[recency_rank['RowNumber'] > 19084*4, 'recency_score'] = 1"
   ]
  },
  {
   "cell_type": "code",
   "execution_count": 38,
   "id": "dietary-wildlife",
   "metadata": {
    "execution": {
     "iopub.execute_input": "2021-08-20T07:13:15.954529Z",
     "iopub.status.busy": "2021-08-20T07:13:15.953529Z",
     "iopub.status.idle": "2021-08-20T07:13:15.958529Z",
     "shell.execute_reply": "2021-08-20T07:13:15.958529Z",
     "shell.execute_reply.started": "2021-08-20T07:13:15.954529Z"
    }
   },
   "outputs": [],
   "source": [
    "# recency_rank"
   ]
  },
  {
   "cell_type": "markdown",
   "id": "apparent-coupon",
   "metadata": {},
   "source": [
    "### Monetary"
   ]
  },
  {
   "cell_type": "code",
   "execution_count": 39,
   "id": "generic-costa",
   "metadata": {
    "execution": {
     "iopub.execute_input": "2021-08-20T07:13:15.959529Z",
     "iopub.status.busy": "2021-08-20T07:13:15.959529Z",
     "iopub.status.idle": "2021-08-20T07:13:15.976533Z",
     "shell.execute_reply": "2021-08-20T07:13:15.976533Z",
     "shell.execute_reply.started": "2021-08-20T07:13:15.959529Z"
    }
   },
   "outputs": [
    {
     "data": {
      "text/html": [
       "<div>\n",
       "<style scoped>\n",
       "    .dataframe tbody tr th:only-of-type {\n",
       "        vertical-align: middle;\n",
       "    }\n",
       "\n",
       "    .dataframe tbody tr th {\n",
       "        vertical-align: top;\n",
       "    }\n",
       "\n",
       "    .dataframe thead th {\n",
       "        text-align: right;\n",
       "    }\n",
       "</style>\n",
       "<table border=\"1\" class=\"dataframe\">\n",
       "  <thead>\n",
       "    <tr style=\"text-align: right;\">\n",
       "      <th></th>\n",
       "      <th>user_name</th>\n",
       "      <th>order_frequency</th>\n",
       "      <th>order_recency</th>\n",
       "      <th>order_monetary</th>\n",
       "      <th>date_key</th>\n",
       "      <th>frequency_score</th>\n",
       "      <th>recency</th>\n",
       "      <th>recency_score</th>\n",
       "    </tr>\n",
       "  </thead>\n",
       "  <tbody>\n",
       "    <tr>\n",
       "      <th>0</th>\n",
       "      <td>0037eb1ff742ee2e71ba887f65f3c6f3</td>\n",
       "      <td>1</td>\n",
       "      <td>2017-07-13</td>\n",
       "      <td>199000</td>\n",
       "      <td>20170713</td>\n",
       "      <td>1.0</td>\n",
       "      <td>417</td>\n",
       "      <td>1</td>\n",
       "    </tr>\n",
       "    <tr>\n",
       "      <th>1</th>\n",
       "      <td>003800162424b7b5b3d75c9cf22a66e7</td>\n",
       "      <td>1</td>\n",
       "      <td>2018-04-01</td>\n",
       "      <td>85500</td>\n",
       "      <td>20180401</td>\n",
       "      <td>1.0</td>\n",
       "      <td>155</td>\n",
       "      <td>3</td>\n",
       "    </tr>\n",
       "    <tr>\n",
       "      <th>2</th>\n",
       "      <td>00391594070baf8603f5fdc1d0c6a48c</td>\n",
       "      <td>1</td>\n",
       "      <td>2018-08-05</td>\n",
       "      <td>105000</td>\n",
       "      <td>20180805</td>\n",
       "      <td>1.0</td>\n",
       "      <td>29</td>\n",
       "      <td>4</td>\n",
       "    </tr>\n",
       "    <tr>\n",
       "      <th>3</th>\n",
       "      <td>003c457932a554e4df13834237b1ed00</td>\n",
       "      <td>1</td>\n",
       "      <td>2018-01-05</td>\n",
       "      <td>129900</td>\n",
       "      <td>20180105</td>\n",
       "      <td>1.0</td>\n",
       "      <td>241</td>\n",
       "      <td>2</td>\n",
       "    </tr>\n",
       "    <tr>\n",
       "      <th>4</th>\n",
       "      <td>003db7adfcdc49857b095a50191b6c9d</td>\n",
       "      <td>1</td>\n",
       "      <td>2018-05-02</td>\n",
       "      <td>524900</td>\n",
       "      <td>20180502</td>\n",
       "      <td>1.0</td>\n",
       "      <td>124</td>\n",
       "      <td>3</td>\n",
       "    </tr>\n",
       "    <tr>\n",
       "      <th>...</th>\n",
       "      <td>...</td>\n",
       "      <td>...</td>\n",
       "      <td>...</td>\n",
       "      <td>...</td>\n",
       "      <td>...</td>\n",
       "      <td>...</td>\n",
       "      <td>...</td>\n",
       "      <td>...</td>\n",
       "    </tr>\n",
       "    <tr>\n",
       "      <th>95415</th>\n",
       "      <td>ffe9e41fbd14db4a7361347c56af5447</td>\n",
       "      <td>1</td>\n",
       "      <td>2018-02-11</td>\n",
       "      <td>199000</td>\n",
       "      <td>20180211</td>\n",
       "      <td>1.0</td>\n",
       "      <td>204</td>\n",
       "      <td>3</td>\n",
       "    </tr>\n",
       "    <tr>\n",
       "      <th>95416</th>\n",
       "      <td>ffebb6424578e7bb153322da9d65634f</td>\n",
       "      <td>1</td>\n",
       "      <td>2017-01-16</td>\n",
       "      <td>629000</td>\n",
       "      <td>20170116</td>\n",
       "      <td>1.0</td>\n",
       "      <td>595</td>\n",
       "      <td>1</td>\n",
       "    </tr>\n",
       "    <tr>\n",
       "      <th>95417</th>\n",
       "      <td>fff3a9369e4b7102fab406a334a678c3</td>\n",
       "      <td>1</td>\n",
       "      <td>2017-08-11</td>\n",
       "      <td>84900</td>\n",
       "      <td>20170811</td>\n",
       "      <td>1.0</td>\n",
       "      <td>388</td>\n",
       "      <td>1</td>\n",
       "    </tr>\n",
       "    <tr>\n",
       "      <th>95418</th>\n",
       "      <td>fffcf5a5ff07b0908bd4e2dbc735a684</td>\n",
       "      <td>1</td>\n",
       "      <td>2017-06-08</td>\n",
       "      <td>1570000</td>\n",
       "      <td>20170608</td>\n",
       "      <td>1.0</td>\n",
       "      <td>452</td>\n",
       "      <td>1</td>\n",
       "    </tr>\n",
       "    <tr>\n",
       "      <th>95419</th>\n",
       "      <td>ffffd2657e2aad2907e67c3e9daecbeb</td>\n",
       "      <td>1</td>\n",
       "      <td>2017-05-02</td>\n",
       "      <td>56990</td>\n",
       "      <td>20170502</td>\n",
       "      <td>1.0</td>\n",
       "      <td>489</td>\n",
       "      <td>1</td>\n",
       "    </tr>\n",
       "  </tbody>\n",
       "</table>\n",
       "<p>95420 rows × 8 columns</p>\n",
       "</div>"
      ],
      "text/plain": [
       "                              user_name  order_frequency order_recency  \\\n",
       "0      0037eb1ff742ee2e71ba887f65f3c6f3                1    2017-07-13   \n",
       "1      003800162424b7b5b3d75c9cf22a66e7                1    2018-04-01   \n",
       "2      00391594070baf8603f5fdc1d0c6a48c                1    2018-08-05   \n",
       "3      003c457932a554e4df13834237b1ed00                1    2018-01-05   \n",
       "4      003db7adfcdc49857b095a50191b6c9d                1    2018-05-02   \n",
       "...                                 ...              ...           ...   \n",
       "95415  ffe9e41fbd14db4a7361347c56af5447                1    2018-02-11   \n",
       "95416  ffebb6424578e7bb153322da9d65634f                1    2017-01-16   \n",
       "95417  fff3a9369e4b7102fab406a334a678c3                1    2017-08-11   \n",
       "95418  fffcf5a5ff07b0908bd4e2dbc735a684                1    2017-06-08   \n",
       "95419  ffffd2657e2aad2907e67c3e9daecbeb                1    2017-05-02   \n",
       "\n",
       "       order_monetary  date_key  frequency_score  recency  recency_score  \n",
       "0              199000  20170713              1.0      417              1  \n",
       "1               85500  20180401              1.0      155              3  \n",
       "2              105000  20180805              1.0       29              4  \n",
       "3              129900  20180105              1.0      241              2  \n",
       "4              524900  20180502              1.0      124              3  \n",
       "...               ...       ...              ...      ...            ...  \n",
       "95415          199000  20180211              1.0      204              3  \n",
       "95416          629000  20170116              1.0      595              1  \n",
       "95417           84900  20170811              1.0      388              1  \n",
       "95418         1570000  20170608              1.0      452              1  \n",
       "95419           56990  20170502              1.0      489              1  \n",
       "\n",
       "[95420 rows x 8 columns]"
      ]
     },
     "execution_count": 39,
     "metadata": {},
     "output_type": "execute_result"
    }
   ],
   "source": [
    "# Monetary Rank\n",
    "monetary_rank = recency_rank\n",
    "monetary_rank"
   ]
  },
  {
   "cell_type": "code",
   "execution_count": 40,
   "id": "powerful-cotton",
   "metadata": {
    "execution": {
     "iopub.execute_input": "2021-08-20T07:13:15.977533Z",
     "iopub.status.busy": "2021-08-20T07:13:15.977533Z",
     "iopub.status.idle": "2021-08-20T07:13:17.493874Z",
     "shell.execute_reply": "2021-08-20T07:13:17.493874Z",
     "shell.execute_reply.started": "2021-08-20T07:13:15.977533Z"
    }
   },
   "outputs": [
    {
     "name": "stderr",
     "output_type": "stream",
     "text": [
      "R:\\Anaconda\\envs\\tf-gpu\\lib\\site-packages\\seaborn\\distributions.py:2557: FutureWarning: `distplot` is a deprecated function and will be removed in a future version. Please adapt your code to use either `displot` (a figure-level function with similar flexibility) or `histplot` (an axes-level function for histograms).\n",
      "  warnings.warn(msg, FutureWarning)\n"
     ]
    },
    {
     "data": {
      "text/plain": [
       "<AxesSubplot:xlabel='order_monetary', ylabel='Density'>"
      ]
     },
     "execution_count": 40,
     "metadata": {},
     "output_type": "execute_result"
    },
    {
     "data": {
      "image/png": "[encoded data removed]",
      "text/plain": [
       "<Figure size 432x288 with 1 Axes>"
      ]
     },
     "metadata": {
      "needs_background": "light"
     },
     "output_type": "display_data"
    }
   ],
   "source": [
    "sns.distplot(monetary_rank['order_monetary'])"
   ]
  },
  {
   "cell_type": "code",
   "execution_count": 41,
   "id": "duplicate-variety",
   "metadata": {
    "execution": {
     "iopub.execute_input": "2021-08-20T07:13:17.494874Z",
     "iopub.status.busy": "2021-08-20T07:13:17.494874Z",
     "iopub.status.idle": "2021-08-20T07:13:17.751445Z",
     "shell.execute_reply": "2021-08-20T07:13:17.751445Z",
     "shell.execute_reply.started": "2021-08-20T07:13:17.494874Z"
    }
   },
   "outputs": [
    {
     "data": {
      "text/plain": [
       "Text(0.5, 1.0, 'hist(t, bins=\"knuth\")')"
      ]
     },
     "execution_count": 41,
     "metadata": {},
     "output_type": "execute_result"
    },
    {
     "data": {
      "image/png": "[encoded data removed]",
      "text/plain": [
       "<Figure size 1440x576 with 1 Axes>"
      ]
     },
     "metadata": {
      "needs_background": "light"
     },
     "output_type": "display_data"
    }
   ],
   "source": [
    "t = monetary_rank['order_monetary']\n",
    "\n",
    "# draw histograms with two different bin widths\n",
    "fig, ax = plt.subplots(1, figsize=(20, 8))\n",
    "\n",
    "hist(t, bins='knuth', histtype='stepfilled',\n",
    "            alpha=0.2, density=True)\n",
    "ax.set_xlabel('t')\n",
    "ax.set_ylabel('P(t)')\n",
    "ax.set_title(f'hist(t, bins=\"knuth\")',\n",
    "                    fontdict=dict(family='monospace'))"
   ]
  },
  {
   "cell_type": "code",
   "execution_count": 42,
   "id": "relevant-colorado",
   "metadata": {
    "execution": {
     "iopub.execute_input": "2021-08-20T07:13:17.752446Z",
     "iopub.status.busy": "2021-08-20T07:13:17.752446Z",
     "iopub.status.idle": "2021-08-20T07:13:17.874443Z",
     "shell.execute_reply": "2021-08-20T07:13:17.874443Z",
     "shell.execute_reply.started": "2021-08-20T07:13:17.752446Z"
    }
   },
   "outputs": [
    {
     "name": "stderr",
     "output_type": "stream",
     "text": [
      "R:\\Anaconda\\envs\\tf-gpu\\lib\\site-packages\\seaborn\\_decorators.py:36: FutureWarning: Pass the following variable as a keyword arg: x. From version 0.12, the only valid positional argument will be `data`, and passing other arguments without an explicit keyword will result in an error or misinterpretation.\n",
      "  warnings.warn(\n"
     ]
    },
    {
     "data": {
      "text/plain": [
       "<AxesSubplot:xlabel='order_monetary'>"
      ]
     },
     "execution_count": 42,
     "metadata": {},
     "output_type": "execute_result"
    },
    {
     "data": {
      "image/png": "[encoded data removed]",
      "text/plain": [
       "<Figure size 432x288 with 1 Axes>"
      ]
     },
     "metadata": {
      "needs_background": "light"
     },
     "output_type": "display_data"
    }
   ],
   "source": [
    "sns.boxplot(monetary_rank['order_monetary'])"
   ]
  },
  {
   "cell_type": "code",
   "execution_count": 43,
   "id": "intermediate-giving",
   "metadata": {
    "execution": {
     "iopub.execute_input": "2021-08-20T07:13:17.875444Z",
     "iopub.status.busy": "2021-08-20T07:13:17.875444Z",
     "iopub.status.idle": "2021-08-20T07:13:18.572707Z",
     "shell.execute_reply": "2021-08-20T07:13:18.572707Z",
     "shell.execute_reply.started": "2021-08-20T07:13:17.875444Z"
    }
   },
   "outputs": [
    {
     "name": "stderr",
     "output_type": "stream",
     "text": [
      "R:\\Anaconda\\envs\\tf-gpu\\lib\\site-packages\\seaborn\\distributions.py:2557: FutureWarning: `distplot` is a deprecated function and will be removed in a future version. Please adapt your code to use either `displot` (a figure-level function with similar flexibility) or `histplot` (an axes-level function for histograms).\n",
      "  warnings.warn(msg, FutureWarning)\n"
     ]
    },
    {
     "data": {
      "text/plain": [
       "<AxesSubplot:xlabel='order_monetary', ylabel='Density'>"
      ]
     },
     "execution_count": 43,
     "metadata": {},
     "output_type": "execute_result"
    },
    {
     "data": {
      "image/png": "[encoded data removed]",
      "text/plain": [
       "<Figure size 432x288 with 1 Axes>"
      ]
     },
     "metadata": {
      "needs_background": "light"
     },
     "output_type": "display_data"
    }
   ],
   "source": [
    "# Log Transform\n",
    "monetary_rank_log = np.log(monetary_rank['order_monetary'])\n",
    "sns.distplot(monetary_rank_log)"
   ]
  },
  {
   "cell_type": "code",
   "execution_count": 44,
   "id": "oriented-operation",
   "metadata": {
    "execution": {
     "iopub.execute_input": "2021-08-20T07:13:18.573708Z",
     "iopub.status.busy": "2021-08-20T07:13:18.573708Z",
     "iopub.status.idle": "2021-08-20T07:13:18.821706Z",
     "shell.execute_reply": "2021-08-20T07:13:18.821706Z",
     "shell.execute_reply.started": "2021-08-20T07:13:18.573708Z"
    }
   },
   "outputs": [
    {
     "data": {
      "text/plain": [
       "Text(0.5, 1.0, 'hist(t, bins=\"knuth\")')"
      ]
     },
     "execution_count": 44,
     "metadata": {},
     "output_type": "execute_result"
    },
    {
     "data": {
      "image/png": "[encoded data removed]",
      "text/plain": [
       "<Figure size 1440x576 with 1 Axes>"
      ]
     },
     "metadata": {
      "needs_background": "light"
     },
     "output_type": "display_data"
    }
   ],
   "source": [
    "t = monetary_rank_log\n",
    "\n",
    "# draw histograms with two different bin widths\n",
    "fig, ax = plt.subplots(1, figsize=(20, 8))\n",
    "\n",
    "hist(t, bins='knuth', histtype='stepfilled',\n",
    "            alpha=0.2, density=True)\n",
    "ax.set_xlabel('t')\n",
    "ax.set_ylabel('P(t)')\n",
    "ax.set_title(f'hist(t, bins=\"knuth\")',\n",
    "                    fontdict=dict(family='monospace'))"
   ]
  },
  {
   "cell_type": "code",
   "execution_count": 45,
   "id": "neither-memory",
   "metadata": {
    "execution": {
     "iopub.execute_input": "2021-08-20T07:13:18.822706Z",
     "iopub.status.busy": "2021-08-20T07:13:18.822706Z",
     "iopub.status.idle": "2021-08-20T07:13:18.914009Z",
     "shell.execute_reply": "2021-08-20T07:13:18.914009Z",
     "shell.execute_reply.started": "2021-08-20T07:13:18.822706Z"
    }
   },
   "outputs": [
    {
     "name": "stderr",
     "output_type": "stream",
     "text": [
      "R:\\Anaconda\\envs\\tf-gpu\\lib\\site-packages\\seaborn\\_decorators.py:36: FutureWarning: Pass the following variable as a keyword arg: x. From version 0.12, the only valid positional argument will be `data`, and passing other arguments without an explicit keyword will result in an error or misinterpretation.\n",
      "  warnings.warn(\n"
     ]
    },
    {
     "data": {
      "text/plain": [
       "<AxesSubplot:xlabel='order_monetary'>"
      ]
     },
     "execution_count": 45,
     "metadata": {},
     "output_type": "execute_result"
    },
    {
     "data": {
      "image/png": "[encoded data removed]",
      "text/plain": [
       "<Figure size 432x288 with 1 Axes>"
      ]
     },
     "metadata": {
      "needs_background": "light"
     },
     "output_type": "display_data"
    }
   ],
   "source": [
    "sns.boxplot(monetary_rank_log)"
   ]
  },
  {
   "cell_type": "code",
   "execution_count": 46,
   "id": "comfortable-suspect",
   "metadata": {
    "execution": {
     "iopub.execute_input": "2021-08-20T07:13:18.915010Z",
     "iopub.status.busy": "2021-08-20T07:13:18.915010Z",
     "iopub.status.idle": "2021-08-20T07:13:18.923010Z",
     "shell.execute_reply": "2021-08-20T07:13:18.923010Z",
     "shell.execute_reply.started": "2021-08-20T07:13:18.915010Z"
    }
   },
   "outputs": [],
   "source": [
    "percentile25 = monetary_rank_log.quantile(0.25)\n",
    "percentile75 = monetary_rank_log.quantile(0.75)\n",
    "iqr = percentile75 - percentile25"
   ]
  },
  {
   "cell_type": "code",
   "execution_count": 47,
   "id": "intimate-karma",
   "metadata": {
    "execution": {
     "iopub.execute_input": "2021-08-20T07:13:18.924012Z",
     "iopub.status.busy": "2021-08-20T07:13:18.924012Z",
     "iopub.status.idle": "2021-08-20T07:13:18.927012Z",
     "shell.execute_reply": "2021-08-20T07:13:18.927012Z",
     "shell.execute_reply.started": "2021-08-20T07:13:18.924012Z"
    }
   },
   "outputs": [],
   "source": [
    "upper_limit = percentile75 + 1.5 * iqr\n",
    "lower_limit = percentile25 - 1.5 * iqr"
   ]
  },
  {
   "cell_type": "code",
   "execution_count": 48,
   "id": "particular-sugar",
   "metadata": {
    "execution": {
     "iopub.execute_input": "2021-08-20T07:13:18.928012Z",
     "iopub.status.busy": "2021-08-20T07:13:18.928012Z",
     "iopub.status.idle": "2021-08-20T07:13:18.932013Z",
     "shell.execute_reply": "2021-08-20T07:13:18.932013Z",
     "shell.execute_reply.started": "2021-08-20T07:13:18.928012Z"
    }
   },
   "outputs": [],
   "source": [
    "monetary_rank['log m'] = monetary_rank_log"
   ]
  },
  {
   "cell_type": "code",
   "execution_count": 49,
   "id": "favorite-nutrition",
   "metadata": {
    "execution": {
     "iopub.execute_input": "2021-08-20T07:13:18.933013Z",
     "iopub.status.busy": "2021-08-20T07:13:18.933013Z",
     "iopub.status.idle": "2021-08-20T07:13:18.951022Z",
     "shell.execute_reply": "2021-08-20T07:13:18.951022Z",
     "shell.execute_reply.started": "2021-08-20T07:13:18.933013Z"
    }
   },
   "outputs": [
    {
     "data": {
      "text/html": [
       "<div>\n",
       "<style scoped>\n",
       "    .dataframe tbody tr th:only-of-type {\n",
       "        vertical-align: middle;\n",
       "    }\n",
       "\n",
       "    .dataframe tbody tr th {\n",
       "        vertical-align: top;\n",
       "    }\n",
       "\n",
       "    .dataframe thead th {\n",
       "        text-align: right;\n",
       "    }\n",
       "</style>\n",
       "<table border=\"1\" class=\"dataframe\">\n",
       "  <thead>\n",
       "    <tr style=\"text-align: right;\">\n",
       "      <th></th>\n",
       "      <th>user_name</th>\n",
       "      <th>order_frequency</th>\n",
       "      <th>order_recency</th>\n",
       "      <th>order_monetary</th>\n",
       "      <th>date_key</th>\n",
       "      <th>frequency_score</th>\n",
       "      <th>recency</th>\n",
       "      <th>recency_score</th>\n",
       "      <th>log m</th>\n",
       "    </tr>\n",
       "  </thead>\n",
       "  <tbody>\n",
       "    <tr>\n",
       "      <th>0</th>\n",
       "      <td>0037eb1ff742ee2e71ba887f65f3c6f3</td>\n",
       "      <td>1</td>\n",
       "      <td>2017-07-13</td>\n",
       "      <td>199000</td>\n",
       "      <td>20170713</td>\n",
       "      <td>1.0</td>\n",
       "      <td>417</td>\n",
       "      <td>1</td>\n",
       "      <td>12.201060</td>\n",
       "    </tr>\n",
       "    <tr>\n",
       "      <th>1</th>\n",
       "      <td>003800162424b7b5b3d75c9cf22a66e7</td>\n",
       "      <td>1</td>\n",
       "      <td>2018-04-01</td>\n",
       "      <td>85500</td>\n",
       "      <td>20180401</td>\n",
       "      <td>1.0</td>\n",
       "      <td>155</td>\n",
       "      <td>3</td>\n",
       "      <td>11.356272</td>\n",
       "    </tr>\n",
       "    <tr>\n",
       "      <th>2</th>\n",
       "      <td>00391594070baf8603f5fdc1d0c6a48c</td>\n",
       "      <td>1</td>\n",
       "      <td>2018-08-05</td>\n",
       "      <td>105000</td>\n",
       "      <td>20180805</td>\n",
       "      <td>1.0</td>\n",
       "      <td>29</td>\n",
       "      <td>4</td>\n",
       "      <td>11.561716</td>\n",
       "    </tr>\n",
       "    <tr>\n",
       "      <th>3</th>\n",
       "      <td>003c457932a554e4df13834237b1ed00</td>\n",
       "      <td>1</td>\n",
       "      <td>2018-01-05</td>\n",
       "      <td>129900</td>\n",
       "      <td>20180105</td>\n",
       "      <td>1.0</td>\n",
       "      <td>241</td>\n",
       "      <td>2</td>\n",
       "      <td>11.774520</td>\n",
       "    </tr>\n",
       "    <tr>\n",
       "      <th>4</th>\n",
       "      <td>003db7adfcdc49857b095a50191b6c9d</td>\n",
       "      <td>1</td>\n",
       "      <td>2018-05-02</td>\n",
       "      <td>524900</td>\n",
       "      <td>20180502</td>\n",
       "      <td>1.0</td>\n",
       "      <td>124</td>\n",
       "      <td>3</td>\n",
       "      <td>13.170963</td>\n",
       "    </tr>\n",
       "    <tr>\n",
       "      <th>...</th>\n",
       "      <td>...</td>\n",
       "      <td>...</td>\n",
       "      <td>...</td>\n",
       "      <td>...</td>\n",
       "      <td>...</td>\n",
       "      <td>...</td>\n",
       "      <td>...</td>\n",
       "      <td>...</td>\n",
       "      <td>...</td>\n",
       "    </tr>\n",
       "    <tr>\n",
       "      <th>95415</th>\n",
       "      <td>ffe9e41fbd14db4a7361347c56af5447</td>\n",
       "      <td>1</td>\n",
       "      <td>2018-02-11</td>\n",
       "      <td>199000</td>\n",
       "      <td>20180211</td>\n",
       "      <td>1.0</td>\n",
       "      <td>204</td>\n",
       "      <td>3</td>\n",
       "      <td>12.201060</td>\n",
       "    </tr>\n",
       "    <tr>\n",
       "      <th>95416</th>\n",
       "      <td>ffebb6424578e7bb153322da9d65634f</td>\n",
       "      <td>1</td>\n",
       "      <td>2017-01-16</td>\n",
       "      <td>629000</td>\n",
       "      <td>20170116</td>\n",
       "      <td>1.0</td>\n",
       "      <td>595</td>\n",
       "      <td>1</td>\n",
       "      <td>13.351887</td>\n",
       "    </tr>\n",
       "    <tr>\n",
       "      <th>95417</th>\n",
       "      <td>fff3a9369e4b7102fab406a334a678c3</td>\n",
       "      <td>1</td>\n",
       "      <td>2017-08-11</td>\n",
       "      <td>84900</td>\n",
       "      <td>20170811</td>\n",
       "      <td>1.0</td>\n",
       "      <td>388</td>\n",
       "      <td>1</td>\n",
       "      <td>11.349229</td>\n",
       "    </tr>\n",
       "    <tr>\n",
       "      <th>95418</th>\n",
       "      <td>fffcf5a5ff07b0908bd4e2dbc735a684</td>\n",
       "      <td>1</td>\n",
       "      <td>2017-06-08</td>\n",
       "      <td>1570000</td>\n",
       "      <td>20170608</td>\n",
       "      <td>1.0</td>\n",
       "      <td>452</td>\n",
       "      <td>1</td>\n",
       "      <td>14.266586</td>\n",
       "    </tr>\n",
       "    <tr>\n",
       "      <th>95419</th>\n",
       "      <td>ffffd2657e2aad2907e67c3e9daecbeb</td>\n",
       "      <td>1</td>\n",
       "      <td>2017-05-02</td>\n",
       "      <td>56990</td>\n",
       "      <td>20170502</td>\n",
       "      <td>1.0</td>\n",
       "      <td>489</td>\n",
       "      <td>1</td>\n",
       "      <td>10.950631</td>\n",
       "    </tr>\n",
       "  </tbody>\n",
       "</table>\n",
       "<p>95420 rows × 9 columns</p>\n",
       "</div>"
      ],
      "text/plain": [
       "                              user_name  order_frequency order_recency  \\\n",
       "0      0037eb1ff742ee2e71ba887f65f3c6f3                1    2017-07-13   \n",
       "1      003800162424b7b5b3d75c9cf22a66e7                1    2018-04-01   \n",
       "2      00391594070baf8603f5fdc1d0c6a48c                1    2018-08-05   \n",
       "3      003c457932a554e4df13834237b1ed00                1    2018-01-05   \n",
       "4      003db7adfcdc49857b095a50191b6c9d                1    2018-05-02   \n",
       "...                                 ...              ...           ...   \n",
       "95415  ffe9e41fbd14db4a7361347c56af5447                1    2018-02-11   \n",
       "95416  ffebb6424578e7bb153322da9d65634f                1    2017-01-16   \n",
       "95417  fff3a9369e4b7102fab406a334a678c3                1    2017-08-11   \n",
       "95418  fffcf5a5ff07b0908bd4e2dbc735a684                1    2017-06-08   \n",
       "95419  ffffd2657e2aad2907e67c3e9daecbeb                1    2017-05-02   \n",
       "\n",
       "       order_monetary  date_key  frequency_score  recency  recency_score  \\\n",
       "0              199000  20170713              1.0      417              1   \n",
       "1               85500  20180401              1.0      155              3   \n",
       "2              105000  20180805              1.0       29              4   \n",
       "3              129900  20180105              1.0      241              2   \n",
       "4              524900  20180502              1.0      124              3   \n",
       "...               ...       ...              ...      ...            ...   \n",
       "95415          199000  20180211              1.0      204              3   \n",
       "95416          629000  20170116              1.0      595              1   \n",
       "95417           84900  20170811              1.0      388              1   \n",
       "95418         1570000  20170608              1.0      452              1   \n",
       "95419           56990  20170502              1.0      489              1   \n",
       "\n",
       "           log m  \n",
       "0      12.201060  \n",
       "1      11.356272  \n",
       "2      11.561716  \n",
       "3      11.774520  \n",
       "4      13.170963  \n",
       "...          ...  \n",
       "95415  12.201060  \n",
       "95416  13.351887  \n",
       "95417  11.349229  \n",
       "95418  14.266586  \n",
       "95419  10.950631  \n",
       "\n",
       "[95420 rows x 9 columns]"
      ]
     },
     "execution_count": 49,
     "metadata": {},
     "output_type": "execute_result"
    }
   ],
   "source": [
    "monetary_rank"
   ]
  },
  {
   "cell_type": "code",
   "execution_count": 50,
   "id": "planned-harmony",
   "metadata": {
    "execution": {
     "iopub.execute_input": "2021-08-20T07:13:18.952022Z",
     "iopub.status.busy": "2021-08-20T07:13:18.952022Z",
     "iopub.status.idle": "2021-08-20T07:13:18.955023Z",
     "shell.execute_reply": "2021-08-20T07:13:18.955023Z",
     "shell.execute_reply.started": "2021-08-20T07:13:18.952022Z"
    }
   },
   "outputs": [],
   "source": [
    "temp_m = monetary_rank"
   ]
  },
  {
   "cell_type": "code",
   "execution_count": 51,
   "id": "strong-teach",
   "metadata": {
    "execution": {
     "iopub.execute_input": "2021-08-20T07:13:18.956023Z",
     "iopub.status.busy": "2021-08-20T07:13:18.956023Z",
     "iopub.status.idle": "2021-08-20T07:13:18.985029Z",
     "shell.execute_reply": "2021-08-20T07:13:18.985029Z",
     "shell.execute_reply.started": "2021-08-20T07:13:18.956023Z"
    }
   },
   "outputs": [
    {
     "data": {
      "text/html": [
       "<div>\n",
       "<style scoped>\n",
       "    .dataframe tbody tr th:only-of-type {\n",
       "        vertical-align: middle;\n",
       "    }\n",
       "\n",
       "    .dataframe tbody tr th {\n",
       "        vertical-align: top;\n",
       "    }\n",
       "\n",
       "    .dataframe thead th {\n",
       "        text-align: right;\n",
       "    }\n",
       "</style>\n",
       "<table border=\"1\" class=\"dataframe\">\n",
       "  <thead>\n",
       "    <tr style=\"text-align: right;\">\n",
       "      <th></th>\n",
       "      <th>user_name</th>\n",
       "      <th>order_frequency</th>\n",
       "      <th>order_recency</th>\n",
       "      <th>order_monetary</th>\n",
       "      <th>date_key</th>\n",
       "      <th>frequency_score</th>\n",
       "      <th>recency</th>\n",
       "      <th>recency_score</th>\n",
       "      <th>log m</th>\n",
       "    </tr>\n",
       "  </thead>\n",
       "  <tbody>\n",
       "    <tr>\n",
       "      <th>259</th>\n",
       "      <td>0340c3b9ed45ab5dc6959d10651775fc</td>\n",
       "      <td>1</td>\n",
       "      <td>2017-09-12</td>\n",
       "      <td>7000</td>\n",
       "      <td>20170912</td>\n",
       "      <td>1.0</td>\n",
       "      <td>356</td>\n",
       "      <td>1</td>\n",
       "      <td>8.853665</td>\n",
       "    </tr>\n",
       "    <tr>\n",
       "      <th>572</th>\n",
       "      <td>06c41bfdcfbb58cc7dfab0a107cd6436</td>\n",
       "      <td>1</td>\n",
       "      <td>2017-03-06</td>\n",
       "      <td>7900</td>\n",
       "      <td>20170306</td>\n",
       "      <td>1.0</td>\n",
       "      <td>546</td>\n",
       "      <td>1</td>\n",
       "      <td>8.974618</td>\n",
       "    </tr>\n",
       "    <tr>\n",
       "      <th>731</th>\n",
       "      <td>086746205f37aa6b1539135d3d7a265c</td>\n",
       "      <td>1</td>\n",
       "      <td>2018-01-17</td>\n",
       "      <td>7000</td>\n",
       "      <td>20180117</td>\n",
       "      <td>1.0</td>\n",
       "      <td>229</td>\n",
       "      <td>2</td>\n",
       "      <td>8.853665</td>\n",
       "    </tr>\n",
       "    <tr>\n",
       "      <th>998</th>\n",
       "      <td>0b1611c702d9cdf6e413121a7517e07e</td>\n",
       "      <td>1</td>\n",
       "      <td>2018-07-07</td>\n",
       "      <td>6500</td>\n",
       "      <td>20180707</td>\n",
       "      <td>1.0</td>\n",
       "      <td>58</td>\n",
       "      <td>4</td>\n",
       "      <td>8.779557</td>\n",
       "    </tr>\n",
       "    <tr>\n",
       "      <th>1182</th>\n",
       "      <td>0d205c3a77c323684c7e9fa525448110</td>\n",
       "      <td>1</td>\n",
       "      <td>2018-03-01</td>\n",
       "      <td>7900</td>\n",
       "      <td>20180301</td>\n",
       "      <td>1.0</td>\n",
       "      <td>186</td>\n",
       "      <td>3</td>\n",
       "      <td>8.974618</td>\n",
       "    </tr>\n",
       "    <tr>\n",
       "      <th>...</th>\n",
       "      <td>...</td>\n",
       "      <td>...</td>\n",
       "      <td>...</td>\n",
       "      <td>...</td>\n",
       "      <td>...</td>\n",
       "      <td>...</td>\n",
       "      <td>...</td>\n",
       "      <td>...</td>\n",
       "      <td>...</td>\n",
       "    </tr>\n",
       "    <tr>\n",
       "      <th>93467</th>\n",
       "      <td>ea5328ebd6d11ae0f0633a5a92554771</td>\n",
       "      <td>1</td>\n",
       "      <td>2018-08-18</td>\n",
       "      <td>6800</td>\n",
       "      <td>20180818</td>\n",
       "      <td>1.0</td>\n",
       "      <td>16</td>\n",
       "      <td>4</td>\n",
       "      <td>8.824678</td>\n",
       "    </tr>\n",
       "    <tr>\n",
       "      <th>93563</th>\n",
       "      <td>eb3704b505516a05c0fea2e8cca4de56</td>\n",
       "      <td>1</td>\n",
       "      <td>2017-11-10</td>\n",
       "      <td>7600</td>\n",
       "      <td>20171110</td>\n",
       "      <td>1.0</td>\n",
       "      <td>297</td>\n",
       "      <td>2</td>\n",
       "      <td>8.935904</td>\n",
       "    </tr>\n",
       "    <tr>\n",
       "      <th>93651</th>\n",
       "      <td>ec51a76768c6654a24541caed2b7a0f3</td>\n",
       "      <td>1</td>\n",
       "      <td>2017-07-05</td>\n",
       "      <td>7000</td>\n",
       "      <td>20170705</td>\n",
       "      <td>1.0</td>\n",
       "      <td>425</td>\n",
       "      <td>1</td>\n",
       "      <td>8.853665</td>\n",
       "    </tr>\n",
       "    <tr>\n",
       "      <th>93920</th>\n",
       "      <td>ef55d0259d7b951202afb9c96ad848a7</td>\n",
       "      <td>1</td>\n",
       "      <td>2017-08-29</td>\n",
       "      <td>7490</td>\n",
       "      <td>20170829</td>\n",
       "      <td>1.0</td>\n",
       "      <td>370</td>\n",
       "      <td>1</td>\n",
       "      <td>8.921324</td>\n",
       "    </tr>\n",
       "    <tr>\n",
       "      <th>94116</th>\n",
       "      <td>f171039a67a78b3d57475168802da70a</td>\n",
       "      <td>1</td>\n",
       "      <td>2017-01-19</td>\n",
       "      <td>6900</td>\n",
       "      <td>20170119</td>\n",
       "      <td>1.0</td>\n",
       "      <td>592</td>\n",
       "      <td>1</td>\n",
       "      <td>8.839277</td>\n",
       "    </tr>\n",
       "  </tbody>\n",
       "</table>\n",
       "<p>224 rows × 9 columns</p>\n",
       "</div>"
      ],
      "text/plain": [
       "                              user_name  order_frequency order_recency  \\\n",
       "259    0340c3b9ed45ab5dc6959d10651775fc                1    2017-09-12   \n",
       "572    06c41bfdcfbb58cc7dfab0a107cd6436                1    2017-03-06   \n",
       "731    086746205f37aa6b1539135d3d7a265c                1    2018-01-17   \n",
       "998    0b1611c702d9cdf6e413121a7517e07e                1    2018-07-07   \n",
       "1182   0d205c3a77c323684c7e9fa525448110                1    2018-03-01   \n",
       "...                                 ...              ...           ...   \n",
       "93467  ea5328ebd6d11ae0f0633a5a92554771                1    2018-08-18   \n",
       "93563  eb3704b505516a05c0fea2e8cca4de56                1    2017-11-10   \n",
       "93651  ec51a76768c6654a24541caed2b7a0f3                1    2017-07-05   \n",
       "93920  ef55d0259d7b951202afb9c96ad848a7                1    2017-08-29   \n",
       "94116  f171039a67a78b3d57475168802da70a                1    2017-01-19   \n",
       "\n",
       "       order_monetary  date_key  frequency_score  recency  recency_score  \\\n",
       "259              7000  20170912              1.0      356              1   \n",
       "572              7900  20170306              1.0      546              1   \n",
       "731              7000  20180117              1.0      229              2   \n",
       "998              6500  20180707              1.0       58              4   \n",
       "1182             7900  20180301              1.0      186              3   \n",
       "...               ...       ...              ...      ...            ...   \n",
       "93467            6800  20180818              1.0       16              4   \n",
       "93563            7600  20171110              1.0      297              2   \n",
       "93651            7000  20170705              1.0      425              1   \n",
       "93920            7490  20170829              1.0      370              1   \n",
       "94116            6900  20170119              1.0      592              1   \n",
       "\n",
       "          log m  \n",
       "259    8.853665  \n",
       "572    8.974618  \n",
       "731    8.853665  \n",
       "998    8.779557  \n",
       "1182   8.974618  \n",
       "...         ...  \n",
       "93467  8.824678  \n",
       "93563  8.935904  \n",
       "93651  8.853665  \n",
       "93920  8.921324  \n",
       "94116  8.839277  \n",
       "\n",
       "[224 rows x 9 columns]"
      ]
     },
     "execution_count": 51,
     "metadata": {},
     "output_type": "execute_result"
    }
   ],
   "source": [
    "temp_m[temp_m['log m'] > upper_limit]\n",
    "temp_m[temp_m['log m'] < lower_limit]"
   ]
  },
  {
   "cell_type": "code",
   "execution_count": 52,
   "id": "biological-mainstream",
   "metadata": {
    "execution": {
     "iopub.execute_input": "2021-08-20T07:13:18.986030Z",
     "iopub.status.busy": "2021-08-20T07:13:18.986030Z",
     "iopub.status.idle": "2021-08-20T07:13:19.000032Z",
     "shell.execute_reply": "2021-08-20T07:13:19.000032Z",
     "shell.execute_reply.started": "2021-08-20T07:13:18.986030Z"
    }
   },
   "outputs": [
    {
     "data": {
      "text/plain": [
       "(94225, 9)"
      ]
     },
     "execution_count": 52,
     "metadata": {},
     "output_type": "execute_result"
    }
   ],
   "source": [
    "new_df = temp_m[temp_m['log m'] < upper_limit]\n",
    "new_df.shape"
   ]
  },
  {
   "cell_type": "code",
   "execution_count": 53,
   "id": "aboriginal-diary",
   "metadata": {
    "execution": {
     "iopub.execute_input": "2021-08-20T07:13:19.001033Z",
     "iopub.status.busy": "2021-08-20T07:13:19.001033Z",
     "iopub.status.idle": "2021-08-20T07:13:19.017037Z",
     "shell.execute_reply": "2021-08-20T07:13:19.017037Z",
     "shell.execute_reply.started": "2021-08-20T07:13:19.001033Z"
    }
   },
   "outputs": [
    {
     "data": {
      "text/html": [
       "<div>\n",
       "<style scoped>\n",
       "    .dataframe tbody tr th:only-of-type {\n",
       "        vertical-align: middle;\n",
       "    }\n",
       "\n",
       "    .dataframe tbody tr th {\n",
       "        vertical-align: top;\n",
       "    }\n",
       "\n",
       "    .dataframe thead th {\n",
       "        text-align: right;\n",
       "    }\n",
       "</style>\n",
       "<table border=\"1\" class=\"dataframe\">\n",
       "  <thead>\n",
       "    <tr style=\"text-align: right;\">\n",
       "      <th></th>\n",
       "      <th>user_name</th>\n",
       "      <th>order_frequency</th>\n",
       "      <th>order_recency</th>\n",
       "      <th>order_monetary</th>\n",
       "      <th>date_key</th>\n",
       "      <th>frequency_score</th>\n",
       "      <th>recency</th>\n",
       "      <th>recency_score</th>\n",
       "      <th>log m</th>\n",
       "    </tr>\n",
       "  </thead>\n",
       "  <tbody>\n",
       "    <tr>\n",
       "      <th>0</th>\n",
       "      <td>0037eb1ff742ee2e71ba887f65f3c6f3</td>\n",
       "      <td>1</td>\n",
       "      <td>2017-07-13</td>\n",
       "      <td>199000</td>\n",
       "      <td>20170713</td>\n",
       "      <td>1.0</td>\n",
       "      <td>417</td>\n",
       "      <td>1</td>\n",
       "      <td>12.201060</td>\n",
       "    </tr>\n",
       "    <tr>\n",
       "      <th>1</th>\n",
       "      <td>003800162424b7b5b3d75c9cf22a66e7</td>\n",
       "      <td>1</td>\n",
       "      <td>2018-04-01</td>\n",
       "      <td>85500</td>\n",
       "      <td>20180401</td>\n",
       "      <td>1.0</td>\n",
       "      <td>155</td>\n",
       "      <td>3</td>\n",
       "      <td>11.356272</td>\n",
       "    </tr>\n",
       "    <tr>\n",
       "      <th>2</th>\n",
       "      <td>00391594070baf8603f5fdc1d0c6a48c</td>\n",
       "      <td>1</td>\n",
       "      <td>2018-08-05</td>\n",
       "      <td>105000</td>\n",
       "      <td>20180805</td>\n",
       "      <td>1.0</td>\n",
       "      <td>29</td>\n",
       "      <td>4</td>\n",
       "      <td>11.561716</td>\n",
       "    </tr>\n",
       "    <tr>\n",
       "      <th>3</th>\n",
       "      <td>003c457932a554e4df13834237b1ed00</td>\n",
       "      <td>1</td>\n",
       "      <td>2018-01-05</td>\n",
       "      <td>129900</td>\n",
       "      <td>20180105</td>\n",
       "      <td>1.0</td>\n",
       "      <td>241</td>\n",
       "      <td>2</td>\n",
       "      <td>11.774520</td>\n",
       "    </tr>\n",
       "    <tr>\n",
       "      <th>4</th>\n",
       "      <td>003db7adfcdc49857b095a50191b6c9d</td>\n",
       "      <td>1</td>\n",
       "      <td>2018-05-02</td>\n",
       "      <td>524900</td>\n",
       "      <td>20180502</td>\n",
       "      <td>1.0</td>\n",
       "      <td>124</td>\n",
       "      <td>3</td>\n",
       "      <td>13.170963</td>\n",
       "    </tr>\n",
       "    <tr>\n",
       "      <th>...</th>\n",
       "      <td>...</td>\n",
       "      <td>...</td>\n",
       "      <td>...</td>\n",
       "      <td>...</td>\n",
       "      <td>...</td>\n",
       "      <td>...</td>\n",
       "      <td>...</td>\n",
       "      <td>...</td>\n",
       "      <td>...</td>\n",
       "    </tr>\n",
       "    <tr>\n",
       "      <th>95414</th>\n",
       "      <td>ffe76cb2f4bb39384c432d65ece67441</td>\n",
       "      <td>1</td>\n",
       "      <td>2018-04-25</td>\n",
       "      <td>49000</td>\n",
       "      <td>20180425</td>\n",
       "      <td>1.0</td>\n",
       "      <td>131</td>\n",
       "      <td>3</td>\n",
       "      <td>10.799576</td>\n",
       "    </tr>\n",
       "    <tr>\n",
       "      <th>95415</th>\n",
       "      <td>ffe9e41fbd14db4a7361347c56af5447</td>\n",
       "      <td>1</td>\n",
       "      <td>2018-02-11</td>\n",
       "      <td>199000</td>\n",
       "      <td>20180211</td>\n",
       "      <td>1.0</td>\n",
       "      <td>204</td>\n",
       "      <td>3</td>\n",
       "      <td>12.201060</td>\n",
       "    </tr>\n",
       "    <tr>\n",
       "      <th>95416</th>\n",
       "      <td>ffebb6424578e7bb153322da9d65634f</td>\n",
       "      <td>1</td>\n",
       "      <td>2017-01-16</td>\n",
       "      <td>629000</td>\n",
       "      <td>20170116</td>\n",
       "      <td>1.0</td>\n",
       "      <td>595</td>\n",
       "      <td>1</td>\n",
       "      <td>13.351887</td>\n",
       "    </tr>\n",
       "    <tr>\n",
       "      <th>95417</th>\n",
       "      <td>fff3a9369e4b7102fab406a334a678c3</td>\n",
       "      <td>1</td>\n",
       "      <td>2017-08-11</td>\n",
       "      <td>84900</td>\n",
       "      <td>20170811</td>\n",
       "      <td>1.0</td>\n",
       "      <td>388</td>\n",
       "      <td>1</td>\n",
       "      <td>11.349229</td>\n",
       "    </tr>\n",
       "    <tr>\n",
       "      <th>95419</th>\n",
       "      <td>ffffd2657e2aad2907e67c3e9daecbeb</td>\n",
       "      <td>1</td>\n",
       "      <td>2017-05-02</td>\n",
       "      <td>56990</td>\n",
       "      <td>20170502</td>\n",
       "      <td>1.0</td>\n",
       "      <td>489</td>\n",
       "      <td>1</td>\n",
       "      <td>10.950631</td>\n",
       "    </tr>\n",
       "  </tbody>\n",
       "</table>\n",
       "<p>94225 rows × 9 columns</p>\n",
       "</div>"
      ],
      "text/plain": [
       "                              user_name  order_frequency order_recency  \\\n",
       "0      0037eb1ff742ee2e71ba887f65f3c6f3                1    2017-07-13   \n",
       "1      003800162424b7b5b3d75c9cf22a66e7                1    2018-04-01   \n",
       "2      00391594070baf8603f5fdc1d0c6a48c                1    2018-08-05   \n",
       "3      003c457932a554e4df13834237b1ed00                1    2018-01-05   \n",
       "4      003db7adfcdc49857b095a50191b6c9d                1    2018-05-02   \n",
       "...                                 ...              ...           ...   \n",
       "95414  ffe76cb2f4bb39384c432d65ece67441                1    2018-04-25   \n",
       "95415  ffe9e41fbd14db4a7361347c56af5447                1    2018-02-11   \n",
       "95416  ffebb6424578e7bb153322da9d65634f                1    2017-01-16   \n",
       "95417  fff3a9369e4b7102fab406a334a678c3                1    2017-08-11   \n",
       "95419  ffffd2657e2aad2907e67c3e9daecbeb                1    2017-05-02   \n",
       "\n",
       "       order_monetary  date_key  frequency_score  recency  recency_score  \\\n",
       "0              199000  20170713              1.0      417              1   \n",
       "1               85500  20180401              1.0      155              3   \n",
       "2              105000  20180805              1.0       29              4   \n",
       "3              129900  20180105              1.0      241              2   \n",
       "4              524900  20180502              1.0      124              3   \n",
       "...               ...       ...              ...      ...            ...   \n",
       "95414           49000  20180425              1.0      131              3   \n",
       "95415          199000  20180211              1.0      204              3   \n",
       "95416          629000  20170116              1.0      595              1   \n",
       "95417           84900  20170811              1.0      388              1   \n",
       "95419           56990  20170502              1.0      489              1   \n",
       "\n",
       "           log m  \n",
       "0      12.201060  \n",
       "1      11.356272  \n",
       "2      11.561716  \n",
       "3      11.774520  \n",
       "4      13.170963  \n",
       "...          ...  \n",
       "95414  10.799576  \n",
       "95415  12.201060  \n",
       "95416  13.351887  \n",
       "95417  11.349229  \n",
       "95419  10.950631  \n",
       "\n",
       "[94225 rows x 9 columns]"
      ]
     },
     "execution_count": 53,
     "metadata": {},
     "output_type": "execute_result"
    }
   ],
   "source": [
    "new_df"
   ]
  },
  {
   "cell_type": "code",
   "execution_count": 54,
   "id": "artificial-bulgaria",
   "metadata": {
    "execution": {
     "iopub.execute_input": "2021-08-20T07:13:19.018038Z",
     "iopub.status.busy": "2021-08-20T07:13:19.018038Z",
     "iopub.status.idle": "2021-08-20T07:13:19.031040Z",
     "shell.execute_reply": "2021-08-20T07:13:19.031040Z",
     "shell.execute_reply.started": "2021-08-20T07:13:19.018038Z"
    }
   },
   "outputs": [
    {
     "data": {
      "text/plain": [
       "(94001, 9)"
      ]
     },
     "execution_count": 54,
     "metadata": {},
     "output_type": "execute_result"
    }
   ],
   "source": [
    "new_df3 = new_df[new_df['log m'] > lower_limit]\n",
    "new_df3.shape"
   ]
  },
  {
   "cell_type": "code",
   "execution_count": 55,
   "id": "israeli-robert",
   "metadata": {
    "execution": {
     "iopub.execute_input": "2021-08-20T07:13:19.032041Z",
     "iopub.status.busy": "2021-08-20T07:13:19.032041Z",
     "iopub.status.idle": "2021-08-20T07:13:19.121065Z",
     "shell.execute_reply": "2021-08-20T07:13:19.121065Z",
     "shell.execute_reply.started": "2021-08-20T07:13:19.032041Z"
    }
   },
   "outputs": [
    {
     "name": "stderr",
     "output_type": "stream",
     "text": [
      "R:\\Anaconda\\envs\\tf-gpu\\lib\\site-packages\\seaborn\\_decorators.py:36: FutureWarning: Pass the following variable as a keyword arg: x. From version 0.12, the only valid positional argument will be `data`, and passing other arguments without an explicit keyword will result in an error or misinterpretation.\n",
      "  warnings.warn(\n"
     ]
    },
    {
     "data": {
      "text/plain": [
       "<AxesSubplot:xlabel='log m'>"
      ]
     },
     "execution_count": 55,
     "metadata": {},
     "output_type": "execute_result"
    },
    {
     "data": {
      "image/png": "[encoded data removed]",
      "text/plain": [
       "<Figure size 432x288 with 1 Axes>"
      ]
     },
     "metadata": {
      "needs_background": "light"
     },
     "output_type": "display_data"
    }
   ],
   "source": [
    "sns.boxplot(new_df3['log m'])"
   ]
  },
  {
   "cell_type": "code",
   "execution_count": 56,
   "id": "athletic-antarctica",
   "metadata": {
    "execution": {
     "iopub.execute_input": "2021-08-20T07:13:19.123066Z",
     "iopub.status.busy": "2021-08-20T07:13:19.122065Z",
     "iopub.status.idle": "2021-08-20T07:13:19.645762Z",
     "shell.execute_reply": "2021-08-20T07:13:19.645762Z",
     "shell.execute_reply.started": "2021-08-20T07:13:19.123066Z"
    }
   },
   "outputs": [
    {
     "name": "stderr",
     "output_type": "stream",
     "text": [
      "R:\\Anaconda\\envs\\tf-gpu\\lib\\site-packages\\seaborn\\distributions.py:2557: FutureWarning: `distplot` is a deprecated function and will be removed in a future version. Please adapt your code to use either `displot` (a figure-level function with similar flexibility) or `histplot` (an axes-level function for histograms).\n",
      "  warnings.warn(msg, FutureWarning)\n"
     ]
    },
    {
     "data": {
      "text/plain": [
       "<AxesSubplot:xlabel='log m', ylabel='Density'>"
      ]
     },
     "execution_count": 56,
     "metadata": {},
     "output_type": "execute_result"
    },
    {
     "data": {
      "image/png": "[encoded data removed]",
      "text/plain": [
       "<Figure size 432x288 with 1 Axes>"
      ]
     },
     "metadata": {
      "needs_background": "light"
     },
     "output_type": "display_data"
    }
   ],
   "source": [
    "sns.distplot(new_df3['log m'])"
   ]
  },
  {
   "cell_type": "code",
   "execution_count": 57,
   "id": "executive-veteran",
   "metadata": {
    "execution": {
     "iopub.execute_input": "2021-08-20T07:13:19.646763Z",
     "iopub.status.busy": "2021-08-20T07:13:19.646763Z",
     "iopub.status.idle": "2021-08-20T07:13:19.664767Z",
     "shell.execute_reply": "2021-08-20T07:13:19.664767Z",
     "shell.execute_reply.started": "2021-08-20T07:13:19.646763Z"
    }
   },
   "outputs": [],
   "source": [
    "# Hitung Quantiles untuk pembagian score\n",
    "# Create the quartiles scores\n",
    "quantiles_m = new_df3.quantile(q=[0.25,0.5,0.75])\n",
    "quantiles_m = quantiles_m.to_dict()   \n",
    "\n",
    "#Function\n",
    "def MScore(x,p,d):\n",
    "    if x <= d[p][0.25]:\n",
    "        return 1\n",
    "    elif x <= d[p][0.50]:\n",
    "        return 2\n",
    "    elif x <= d[p][0.75]: \n",
    "        return 3\n",
    "    else:\n",
    "        return 4"
   ]
  },
  {
   "cell_type": "code",
   "execution_count": 58,
   "id": "suitable-shape",
   "metadata": {
    "execution": {
     "iopub.execute_input": "2021-08-20T07:13:19.665766Z",
     "iopub.status.busy": "2021-08-20T07:13:19.665766Z",
     "iopub.status.idle": "2021-08-20T07:13:19.670768Z",
     "shell.execute_reply": "2021-08-20T07:13:19.670768Z",
     "shell.execute_reply.started": "2021-08-20T07:13:19.665766Z"
    }
   },
   "outputs": [
    {
     "data": {
      "text/plain": [
       "{'order_frequency': {0.25: 1.0, 0.5: 1.0, 0.75: 1.0},\n",
       " 'order_monetary': {0.25: 47490.0, 0.5: 89000.0, 0.75: 149990.0},\n",
       " 'frequency_score': {0.25: 1.0, 0.5: 1.0, 0.75: 1.0},\n",
       " 'recency': {0.25: 119.0, 0.5: 224.0, 0.75: 352.0},\n",
       " 'recency_score': {0.25: 2.0, 0.5: 3.0, 0.75: 4.0},\n",
       " 'log m': {0.25: 10.768274441543168,\n",
       "  0.5: 11.396391648714276,\n",
       "  0.75: 11.918323904189405}}"
      ]
     },
     "execution_count": 58,
     "metadata": {},
     "output_type": "execute_result"
    }
   ],
   "source": [
    "quantiles_m"
   ]
  },
  {
   "cell_type": "code",
   "execution_count": 59,
   "id": "adult-coral",
   "metadata": {
    "execution": {
     "iopub.execute_input": "2021-08-20T07:13:19.671768Z",
     "iopub.status.busy": "2021-08-20T07:13:19.671768Z",
     "iopub.status.idle": "2021-08-20T07:13:19.687772Z",
     "shell.execute_reply": "2021-08-20T07:13:19.687772Z",
     "shell.execute_reply.started": "2021-08-20T07:13:19.671768Z"
    }
   },
   "outputs": [
    {
     "data": {
      "text/html": [
       "<div>\n",
       "<style scoped>\n",
       "    .dataframe tbody tr th:only-of-type {\n",
       "        vertical-align: middle;\n",
       "    }\n",
       "\n",
       "    .dataframe tbody tr th {\n",
       "        vertical-align: top;\n",
       "    }\n",
       "\n",
       "    .dataframe thead th {\n",
       "        text-align: right;\n",
       "    }\n",
       "</style>\n",
       "<table border=\"1\" class=\"dataframe\">\n",
       "  <thead>\n",
       "    <tr style=\"text-align: right;\">\n",
       "      <th></th>\n",
       "      <th>user_name</th>\n",
       "      <th>order_frequency</th>\n",
       "      <th>order_recency</th>\n",
       "      <th>order_monetary</th>\n",
       "      <th>date_key</th>\n",
       "      <th>frequency_score</th>\n",
       "      <th>recency</th>\n",
       "      <th>recency_score</th>\n",
       "      <th>log m</th>\n",
       "    </tr>\n",
       "  </thead>\n",
       "  <tbody>\n",
       "    <tr>\n",
       "      <th>0</th>\n",
       "      <td>0037eb1ff742ee2e71ba887f65f3c6f3</td>\n",
       "      <td>1</td>\n",
       "      <td>2017-07-13</td>\n",
       "      <td>199000</td>\n",
       "      <td>20170713</td>\n",
       "      <td>1.0</td>\n",
       "      <td>417</td>\n",
       "      <td>1</td>\n",
       "      <td>12.201060</td>\n",
       "    </tr>\n",
       "    <tr>\n",
       "      <th>1</th>\n",
       "      <td>003800162424b7b5b3d75c9cf22a66e7</td>\n",
       "      <td>1</td>\n",
       "      <td>2018-04-01</td>\n",
       "      <td>85500</td>\n",
       "      <td>20180401</td>\n",
       "      <td>1.0</td>\n",
       "      <td>155</td>\n",
       "      <td>3</td>\n",
       "      <td>11.356272</td>\n",
       "    </tr>\n",
       "    <tr>\n",
       "      <th>2</th>\n",
       "      <td>00391594070baf8603f5fdc1d0c6a48c</td>\n",
       "      <td>1</td>\n",
       "      <td>2018-08-05</td>\n",
       "      <td>105000</td>\n",
       "      <td>20180805</td>\n",
       "      <td>1.0</td>\n",
       "      <td>29</td>\n",
       "      <td>4</td>\n",
       "      <td>11.561716</td>\n",
       "    </tr>\n",
       "    <tr>\n",
       "      <th>3</th>\n",
       "      <td>003c457932a554e4df13834237b1ed00</td>\n",
       "      <td>1</td>\n",
       "      <td>2018-01-05</td>\n",
       "      <td>129900</td>\n",
       "      <td>20180105</td>\n",
       "      <td>1.0</td>\n",
       "      <td>241</td>\n",
       "      <td>2</td>\n",
       "      <td>11.774520</td>\n",
       "    </tr>\n",
       "    <tr>\n",
       "      <th>4</th>\n",
       "      <td>003db7adfcdc49857b095a50191b6c9d</td>\n",
       "      <td>1</td>\n",
       "      <td>2018-05-02</td>\n",
       "      <td>524900</td>\n",
       "      <td>20180502</td>\n",
       "      <td>1.0</td>\n",
       "      <td>124</td>\n",
       "      <td>3</td>\n",
       "      <td>13.170963</td>\n",
       "    </tr>\n",
       "    <tr>\n",
       "      <th>...</th>\n",
       "      <td>...</td>\n",
       "      <td>...</td>\n",
       "      <td>...</td>\n",
       "      <td>...</td>\n",
       "      <td>...</td>\n",
       "      <td>...</td>\n",
       "      <td>...</td>\n",
       "      <td>...</td>\n",
       "      <td>...</td>\n",
       "    </tr>\n",
       "    <tr>\n",
       "      <th>95415</th>\n",
       "      <td>ffe9e41fbd14db4a7361347c56af5447</td>\n",
       "      <td>1</td>\n",
       "      <td>2018-02-11</td>\n",
       "      <td>199000</td>\n",
       "      <td>20180211</td>\n",
       "      <td>1.0</td>\n",
       "      <td>204</td>\n",
       "      <td>3</td>\n",
       "      <td>12.201060</td>\n",
       "    </tr>\n",
       "    <tr>\n",
       "      <th>95416</th>\n",
       "      <td>ffebb6424578e7bb153322da9d65634f</td>\n",
       "      <td>1</td>\n",
       "      <td>2017-01-16</td>\n",
       "      <td>629000</td>\n",
       "      <td>20170116</td>\n",
       "      <td>1.0</td>\n",
       "      <td>595</td>\n",
       "      <td>1</td>\n",
       "      <td>13.351887</td>\n",
       "    </tr>\n",
       "    <tr>\n",
       "      <th>95417</th>\n",
       "      <td>fff3a9369e4b7102fab406a334a678c3</td>\n",
       "      <td>1</td>\n",
       "      <td>2017-08-11</td>\n",
       "      <td>84900</td>\n",
       "      <td>20170811</td>\n",
       "      <td>1.0</td>\n",
       "      <td>388</td>\n",
       "      <td>1</td>\n",
       "      <td>11.349229</td>\n",
       "    </tr>\n",
       "    <tr>\n",
       "      <th>95418</th>\n",
       "      <td>fffcf5a5ff07b0908bd4e2dbc735a684</td>\n",
       "      <td>1</td>\n",
       "      <td>2017-06-08</td>\n",
       "      <td>1570000</td>\n",
       "      <td>20170608</td>\n",
       "      <td>1.0</td>\n",
       "      <td>452</td>\n",
       "      <td>1</td>\n",
       "      <td>14.266586</td>\n",
       "    </tr>\n",
       "    <tr>\n",
       "      <th>95419</th>\n",
       "      <td>ffffd2657e2aad2907e67c3e9daecbeb</td>\n",
       "      <td>1</td>\n",
       "      <td>2017-05-02</td>\n",
       "      <td>56990</td>\n",
       "      <td>20170502</td>\n",
       "      <td>1.0</td>\n",
       "      <td>489</td>\n",
       "      <td>1</td>\n",
       "      <td>10.950631</td>\n",
       "    </tr>\n",
       "  </tbody>\n",
       "</table>\n",
       "<p>95420 rows × 9 columns</p>\n",
       "</div>"
      ],
      "text/plain": [
       "                              user_name  order_frequency order_recency  \\\n",
       "0      0037eb1ff742ee2e71ba887f65f3c6f3                1    2017-07-13   \n",
       "1      003800162424b7b5b3d75c9cf22a66e7                1    2018-04-01   \n",
       "2      00391594070baf8603f5fdc1d0c6a48c                1    2018-08-05   \n",
       "3      003c457932a554e4df13834237b1ed00                1    2018-01-05   \n",
       "4      003db7adfcdc49857b095a50191b6c9d                1    2018-05-02   \n",
       "...                                 ...              ...           ...   \n",
       "95415  ffe9e41fbd14db4a7361347c56af5447                1    2018-02-11   \n",
       "95416  ffebb6424578e7bb153322da9d65634f                1    2017-01-16   \n",
       "95417  fff3a9369e4b7102fab406a334a678c3                1    2017-08-11   \n",
       "95418  fffcf5a5ff07b0908bd4e2dbc735a684                1    2017-06-08   \n",
       "95419  ffffd2657e2aad2907e67c3e9daecbeb                1    2017-05-02   \n",
       "\n",
       "       order_monetary  date_key  frequency_score  recency  recency_score  \\\n",
       "0              199000  20170713              1.0      417              1   \n",
       "1               85500  20180401              1.0      155              3   \n",
       "2              105000  20180805              1.0       29              4   \n",
       "3              129900  20180105              1.0      241              2   \n",
       "4              524900  20180502              1.0      124              3   \n",
       "...               ...       ...              ...      ...            ...   \n",
       "95415          199000  20180211              1.0      204              3   \n",
       "95416          629000  20170116              1.0      595              1   \n",
       "95417           84900  20170811              1.0      388              1   \n",
       "95418         1570000  20170608              1.0      452              1   \n",
       "95419           56990  20170502              1.0      489              1   \n",
       "\n",
       "           log m  \n",
       "0      12.201060  \n",
       "1      11.356272  \n",
       "2      11.561716  \n",
       "3      11.774520  \n",
       "4      13.170963  \n",
       "...          ...  \n",
       "95415  12.201060  \n",
       "95416  13.351887  \n",
       "95417  11.349229  \n",
       "95418  14.266586  \n",
       "95419  10.950631  \n",
       "\n",
       "[95420 rows x 9 columns]"
      ]
     },
     "execution_count": 59,
     "metadata": {},
     "output_type": "execute_result"
    }
   ],
   "source": [
    "monetary_rank"
   ]
  },
  {
   "cell_type": "code",
   "execution_count": 60,
   "id": "former-morris",
   "metadata": {
    "execution": {
     "iopub.execute_input": "2021-08-20T07:13:19.688771Z",
     "iopub.status.busy": "2021-08-20T07:13:19.688771Z",
     "iopub.status.idle": "2021-08-20T07:13:19.780793Z",
     "shell.execute_reply": "2021-08-20T07:13:19.780793Z",
     "shell.execute_reply.started": "2021-08-20T07:13:19.688771Z"
    }
   },
   "outputs": [],
   "source": [
    "monetary_rank['monetary_score'] = monetary_rank['log m'].apply(MScore, args=('log m',quantiles_m,))"
   ]
  },
  {
   "cell_type": "code",
   "execution_count": 61,
   "id": "generous-oliver",
   "metadata": {
    "execution": {
     "iopub.execute_input": "2021-08-20T07:13:19.782794Z",
     "iopub.status.busy": "2021-08-20T07:13:19.782794Z",
     "iopub.status.idle": "2021-08-20T07:13:19.801797Z",
     "shell.execute_reply": "2021-08-20T07:13:19.801797Z",
     "shell.execute_reply.started": "2021-08-20T07:13:19.782794Z"
    }
   },
   "outputs": [
    {
     "data": {
      "text/html": [
       "<div>\n",
       "<style scoped>\n",
       "    .dataframe tbody tr th:only-of-type {\n",
       "        vertical-align: middle;\n",
       "    }\n",
       "\n",
       "    .dataframe tbody tr th {\n",
       "        vertical-align: top;\n",
       "    }\n",
       "\n",
       "    .dataframe thead th {\n",
       "        text-align: right;\n",
       "    }\n",
       "</style>\n",
       "<table border=\"1\" class=\"dataframe\">\n",
       "  <thead>\n",
       "    <tr style=\"text-align: right;\">\n",
       "      <th></th>\n",
       "      <th>user_name</th>\n",
       "      <th>order_frequency</th>\n",
       "      <th>order_recency</th>\n",
       "      <th>order_monetary</th>\n",
       "      <th>date_key</th>\n",
       "      <th>frequency_score</th>\n",
       "      <th>recency</th>\n",
       "      <th>recency_score</th>\n",
       "      <th>log m</th>\n",
       "      <th>monetary_score</th>\n",
       "    </tr>\n",
       "  </thead>\n",
       "  <tbody>\n",
       "    <tr>\n",
       "      <th>0</th>\n",
       "      <td>0037eb1ff742ee2e71ba887f65f3c6f3</td>\n",
       "      <td>1</td>\n",
       "      <td>2017-07-13</td>\n",
       "      <td>199000</td>\n",
       "      <td>20170713</td>\n",
       "      <td>1.0</td>\n",
       "      <td>417</td>\n",
       "      <td>1</td>\n",
       "      <td>12.201060</td>\n",
       "      <td>4</td>\n",
       "    </tr>\n",
       "    <tr>\n",
       "      <th>1</th>\n",
       "      <td>003800162424b7b5b3d75c9cf22a66e7</td>\n",
       "      <td>1</td>\n",
       "      <td>2018-04-01</td>\n",
       "      <td>85500</td>\n",
       "      <td>20180401</td>\n",
       "      <td>1.0</td>\n",
       "      <td>155</td>\n",
       "      <td>3</td>\n",
       "      <td>11.356272</td>\n",
       "      <td>2</td>\n",
       "    </tr>\n",
       "    <tr>\n",
       "      <th>2</th>\n",
       "      <td>00391594070baf8603f5fdc1d0c6a48c</td>\n",
       "      <td>1</td>\n",
       "      <td>2018-08-05</td>\n",
       "      <td>105000</td>\n",
       "      <td>20180805</td>\n",
       "      <td>1.0</td>\n",
       "      <td>29</td>\n",
       "      <td>4</td>\n",
       "      <td>11.561716</td>\n",
       "      <td>3</td>\n",
       "    </tr>\n",
       "    <tr>\n",
       "      <th>3</th>\n",
       "      <td>003c457932a554e4df13834237b1ed00</td>\n",
       "      <td>1</td>\n",
       "      <td>2018-01-05</td>\n",
       "      <td>129900</td>\n",
       "      <td>20180105</td>\n",
       "      <td>1.0</td>\n",
       "      <td>241</td>\n",
       "      <td>2</td>\n",
       "      <td>11.774520</td>\n",
       "      <td>3</td>\n",
       "    </tr>\n",
       "    <tr>\n",
       "      <th>4</th>\n",
       "      <td>003db7adfcdc49857b095a50191b6c9d</td>\n",
       "      <td>1</td>\n",
       "      <td>2018-05-02</td>\n",
       "      <td>524900</td>\n",
       "      <td>20180502</td>\n",
       "      <td>1.0</td>\n",
       "      <td>124</td>\n",
       "      <td>3</td>\n",
       "      <td>13.170963</td>\n",
       "      <td>4</td>\n",
       "    </tr>\n",
       "    <tr>\n",
       "      <th>...</th>\n",
       "      <td>...</td>\n",
       "      <td>...</td>\n",
       "      <td>...</td>\n",
       "      <td>...</td>\n",
       "      <td>...</td>\n",
       "      <td>...</td>\n",
       "      <td>...</td>\n",
       "      <td>...</td>\n",
       "      <td>...</td>\n",
       "      <td>...</td>\n",
       "    </tr>\n",
       "    <tr>\n",
       "      <th>95415</th>\n",
       "      <td>ffe9e41fbd14db4a7361347c56af5447</td>\n",
       "      <td>1</td>\n",
       "      <td>2018-02-11</td>\n",
       "      <td>199000</td>\n",
       "      <td>20180211</td>\n",
       "      <td>1.0</td>\n",
       "      <td>204</td>\n",
       "      <td>3</td>\n",
       "      <td>12.201060</td>\n",
       "      <td>4</td>\n",
       "    </tr>\n",
       "    <tr>\n",
       "      <th>95416</th>\n",
       "      <td>ffebb6424578e7bb153322da9d65634f</td>\n",
       "      <td>1</td>\n",
       "      <td>2017-01-16</td>\n",
       "      <td>629000</td>\n",
       "      <td>20170116</td>\n",
       "      <td>1.0</td>\n",
       "      <td>595</td>\n",
       "      <td>1</td>\n",
       "      <td>13.351887</td>\n",
       "      <td>4</td>\n",
       "    </tr>\n",
       "    <tr>\n",
       "      <th>95417</th>\n",
       "      <td>fff3a9369e4b7102fab406a334a678c3</td>\n",
       "      <td>1</td>\n",
       "      <td>2017-08-11</td>\n",
       "      <td>84900</td>\n",
       "      <td>20170811</td>\n",
       "      <td>1.0</td>\n",
       "      <td>388</td>\n",
       "      <td>1</td>\n",
       "      <td>11.349229</td>\n",
       "      <td>2</td>\n",
       "    </tr>\n",
       "    <tr>\n",
       "      <th>95418</th>\n",
       "      <td>fffcf5a5ff07b0908bd4e2dbc735a684</td>\n",
       "      <td>1</td>\n",
       "      <td>2017-06-08</td>\n",
       "      <td>1570000</td>\n",
       "      <td>20170608</td>\n",
       "      <td>1.0</td>\n",
       "      <td>452</td>\n",
       "      <td>1</td>\n",
       "      <td>14.266586</td>\n",
       "      <td>4</td>\n",
       "    </tr>\n",
       "    <tr>\n",
       "      <th>95419</th>\n",
       "      <td>ffffd2657e2aad2907e67c3e9daecbeb</td>\n",
       "      <td>1</td>\n",
       "      <td>2017-05-02</td>\n",
       "      <td>56990</td>\n",
       "      <td>20170502</td>\n",
       "      <td>1.0</td>\n",
       "      <td>489</td>\n",
       "      <td>1</td>\n",
       "      <td>10.950631</td>\n",
       "      <td>2</td>\n",
       "    </tr>\n",
       "  </tbody>\n",
       "</table>\n",
       "<p>95420 rows × 10 columns</p>\n",
       "</div>"
      ],
      "text/plain": [
       "                              user_name  order_frequency order_recency  \\\n",
       "0      0037eb1ff742ee2e71ba887f65f3c6f3                1    2017-07-13   \n",
       "1      003800162424b7b5b3d75c9cf22a66e7                1    2018-04-01   \n",
       "2      00391594070baf8603f5fdc1d0c6a48c                1    2018-08-05   \n",
       "3      003c457932a554e4df13834237b1ed00                1    2018-01-05   \n",
       "4      003db7adfcdc49857b095a50191b6c9d                1    2018-05-02   \n",
       "...                                 ...              ...           ...   \n",
       "95415  ffe9e41fbd14db4a7361347c56af5447                1    2018-02-11   \n",
       "95416  ffebb6424578e7bb153322da9d65634f                1    2017-01-16   \n",
       "95417  fff3a9369e4b7102fab406a334a678c3                1    2017-08-11   \n",
       "95418  fffcf5a5ff07b0908bd4e2dbc735a684                1    2017-06-08   \n",
       "95419  ffffd2657e2aad2907e67c3e9daecbeb                1    2017-05-02   \n",
       "\n",
       "       order_monetary  date_key  frequency_score  recency  recency_score  \\\n",
       "0              199000  20170713              1.0      417              1   \n",
       "1               85500  20180401              1.0      155              3   \n",
       "2              105000  20180805              1.0       29              4   \n",
       "3              129900  20180105              1.0      241              2   \n",
       "4              524900  20180502              1.0      124              3   \n",
       "...               ...       ...              ...      ...            ...   \n",
       "95415          199000  20180211              1.0      204              3   \n",
       "95416          629000  20170116              1.0      595              1   \n",
       "95417           84900  20170811              1.0      388              1   \n",
       "95418         1570000  20170608              1.0      452              1   \n",
       "95419           56990  20170502              1.0      489              1   \n",
       "\n",
       "           log m  monetary_score  \n",
       "0      12.201060               4  \n",
       "1      11.356272               2  \n",
       "2      11.561716               3  \n",
       "3      11.774520               3  \n",
       "4      13.170963               4  \n",
       "...          ...             ...  \n",
       "95415  12.201060               4  \n",
       "95416  13.351887               4  \n",
       "95417  11.349229               2  \n",
       "95418  14.266586               4  \n",
       "95419  10.950631               2  \n",
       "\n",
       "[95420 rows x 10 columns]"
      ]
     },
     "execution_count": 61,
     "metadata": {},
     "output_type": "execute_result"
    }
   ],
   "source": [
    "monetary_rank"
   ]
  },
  {
   "cell_type": "markdown",
   "id": "blessed-tragedy",
   "metadata": {},
   "source": [
    "### Total Score RFM (concat)"
   ]
  },
  {
   "cell_type": "code",
   "execution_count": 62,
   "id": "statistical-father",
   "metadata": {
    "execution": {
     "iopub.execute_input": "2021-08-20T07:13:19.802797Z",
     "iopub.status.busy": "2021-08-20T07:13:19.802797Z",
     "iopub.status.idle": "2021-08-20T07:13:20.072859Z",
     "shell.execute_reply": "2021-08-20T07:13:20.072859Z",
     "shell.execute_reply.started": "2021-08-20T07:13:19.802797Z"
    }
   },
   "outputs": [
    {
     "name": "stderr",
     "output_type": "stream",
     "text": [
      "R:\\Anaconda\\envs\\tf-gpu\\lib\\site-packages\\pandas\\core\\generic.py:5489: SettingWithCopyWarning: \n",
      "A value is trying to be set on a copy of a slice from a DataFrame.\n",
      "Try using .loc[row_indexer,col_indexer] = value instead\n",
      "\n",
      "See the caveats in the documentation: https://pandas.pydata.org/pandas-docs/stable/user_guide/indexing.html#returning-a-view-versus-a-copy\n",
      "  self[name] = value\n",
      "<ipython-input-62-187ab9dacf23>:3: SettingWithCopyWarning: \n",
      "A value is trying to be set on a copy of a slice from a DataFrame.\n",
      "Try using .loc[row_indexer,col_indexer] = value instead\n",
      "\n",
      "See the caveats in the documentation: https://pandas.pydata.org/pandas-docs/stable/user_guide/indexing.html#returning-a-view-versus-a-copy\n",
      "  rfm['RFM_Score'] = rfm.recency_score.astype(str)+ rfm.frequency_score.astype(str) + rfm.monetary_score.astype(str)\n"
     ]
    }
   ],
   "source": [
    "rfm = monetary_rank[['user_name','recency_score','frequency_score','monetary_score']]\n",
    "rfm.frequency_score = rfm.frequency_score.astype(int)\n",
    "rfm['RFM_Score'] = rfm.recency_score.astype(str)+ rfm.frequency_score.astype(str) + rfm.monetary_score.astype(str)"
   ]
  },
  {
   "cell_type": "code",
   "execution_count": 63,
   "id": "aggregate-globe",
   "metadata": {
    "execution": {
     "iopub.execute_input": "2021-08-20T07:13:20.073859Z",
     "iopub.status.busy": "2021-08-20T07:13:20.073859Z",
     "iopub.status.idle": "2021-08-20T07:13:20.081860Z",
     "shell.execute_reply": "2021-08-20T07:13:20.081860Z",
     "shell.execute_reply.started": "2021-08-20T07:13:20.073859Z"
    }
   },
   "outputs": [
    {
     "data": {
      "text/html": [
       "<div>\n",
       "<style scoped>\n",
       "    .dataframe tbody tr th:only-of-type {\n",
       "        vertical-align: middle;\n",
       "    }\n",
       "\n",
       "    .dataframe tbody tr th {\n",
       "        vertical-align: top;\n",
       "    }\n",
       "\n",
       "    .dataframe thead th {\n",
       "        text-align: right;\n",
       "    }\n",
       "</style>\n",
       "<table border=\"1\" class=\"dataframe\">\n",
       "  <thead>\n",
       "    <tr style=\"text-align: right;\">\n",
       "      <th></th>\n",
       "      <th>user_name</th>\n",
       "      <th>recency_score</th>\n",
       "      <th>frequency_score</th>\n",
       "      <th>monetary_score</th>\n",
       "      <th>RFM_Score</th>\n",
       "    </tr>\n",
       "  </thead>\n",
       "  <tbody>\n",
       "    <tr>\n",
       "      <th>0</th>\n",
       "      <td>0037eb1ff742ee2e71ba887f65f3c6f3</td>\n",
       "      <td>1</td>\n",
       "      <td>1</td>\n",
       "      <td>4</td>\n",
       "      <td>114</td>\n",
       "    </tr>\n",
       "    <tr>\n",
       "      <th>1</th>\n",
       "      <td>003800162424b7b5b3d75c9cf22a66e7</td>\n",
       "      <td>3</td>\n",
       "      <td>1</td>\n",
       "      <td>2</td>\n",
       "      <td>312</td>\n",
       "    </tr>\n",
       "    <tr>\n",
       "      <th>2</th>\n",
       "      <td>00391594070baf8603f5fdc1d0c6a48c</td>\n",
       "      <td>4</td>\n",
       "      <td>1</td>\n",
       "      <td>3</td>\n",
       "      <td>413</td>\n",
       "    </tr>\n",
       "    <tr>\n",
       "      <th>3</th>\n",
       "      <td>003c457932a554e4df13834237b1ed00</td>\n",
       "      <td>2</td>\n",
       "      <td>1</td>\n",
       "      <td>3</td>\n",
       "      <td>213</td>\n",
       "    </tr>\n",
       "    <tr>\n",
       "      <th>4</th>\n",
       "      <td>003db7adfcdc49857b095a50191b6c9d</td>\n",
       "      <td>3</td>\n",
       "      <td>1</td>\n",
       "      <td>4</td>\n",
       "      <td>314</td>\n",
       "    </tr>\n",
       "  </tbody>\n",
       "</table>\n",
       "</div>"
      ],
      "text/plain": [
       "                          user_name  recency_score  frequency_score  \\\n",
       "0  0037eb1ff742ee2e71ba887f65f3c6f3              1                1   \n",
       "1  003800162424b7b5b3d75c9cf22a66e7              3                1   \n",
       "2  00391594070baf8603f5fdc1d0c6a48c              4                1   \n",
       "3  003c457932a554e4df13834237b1ed00              2                1   \n",
       "4  003db7adfcdc49857b095a50191b6c9d              3                1   \n",
       "\n",
       "   monetary_score RFM_Score  \n",
       "0               4       114  \n",
       "1               2       312  \n",
       "2               3       413  \n",
       "3               3       213  \n",
       "4               4       314  "
      ]
     },
     "execution_count": 63,
     "metadata": {},
     "output_type": "execute_result"
    }
   ],
   "source": [
    "rfm.head()"
   ]
  },
  {
   "cell_type": "code",
   "execution_count": 64,
   "id": "fabulous-framework",
   "metadata": {
    "execution": {
     "iopub.execute_input": "2021-08-20T07:13:20.082860Z",
     "iopub.status.busy": "2021-08-20T07:13:20.082860Z",
     "iopub.status.idle": "2021-08-20T07:13:21.044076Z",
     "shell.execute_reply": "2021-08-20T07:13:21.044076Z",
     "shell.execute_reply.started": "2021-08-20T07:13:20.082860Z"
    }
   },
   "outputs": [
    {
     "name": "stderr",
     "output_type": "stream",
     "text": [
      "<ipython-input-64-7fe146091216>:11: SettingWithCopyWarning: \n",
      "A value is trying to be set on a copy of a slice from a DataFrame.\n",
      "Try using .loc[row_indexer,col_indexer] = value instead\n",
      "\n",
      "See the caveats in the documentation: https://pandas.pydata.org/pandas-docs/stable/user_guide/indexing.html#returning-a-view-versus-a-copy\n",
      "  rfm['Segment'] = rfm['recency_score'].map(str) + rfm['frequency_score'].map(str) + rfm['monetary_score'].map(str)\n",
      "<ipython-input-64-7fe146091216>:12: SettingWithCopyWarning: \n",
      "A value is trying to be set on a copy of a slice from a DataFrame.\n",
      "Try using .loc[row_indexer,col_indexer] = value instead\n",
      "\n",
      "See the caveats in the documentation: https://pandas.pydata.org/pandas-docs/stable/user_guide/indexing.html#returning-a-view-versus-a-copy\n",
      "  rfm['Segment'] = rfm['Segment'].replace(segt_map, regex=True)\n"
     ]
    }
   ],
   "source": [
    "# Create human friendly RFM labels\n",
    "segt_map = {\n",
    "    r'[1-2][1-2][1-2]': 'Hibernating',\n",
    "    r'[1-2][1-3][1-3]': 'At Risk',\n",
    "    r'[1-2][1-4][1-4]': 'Can\\'t loose them',\n",
    "    r'411': 'New customers',\n",
    "    r'[3-4][3-4][3-4]': 'Champions',\n",
    "    r'[3-4][1-4][1-4]': 'Potential loyalists',\n",
    "   \n",
    "}\n",
    "rfm['Segment'] = rfm['recency_score'].map(str) + rfm['frequency_score'].map(str) + rfm['monetary_score'].map(str)\n",
    "rfm['Segment'] = rfm['Segment'].replace(segt_map, regex=True)"
   ]
  },
  {
   "cell_type": "code",
   "execution_count": 65,
   "id": "unlike-senior",
   "metadata": {
    "execution": {
     "iopub.execute_input": "2021-08-20T07:13:21.045077Z",
     "iopub.status.busy": "2021-08-20T07:13:21.045077Z",
     "iopub.status.idle": "2021-08-20T07:13:21.058079Z",
     "shell.execute_reply": "2021-08-20T07:13:21.058079Z",
     "shell.execute_reply.started": "2021-08-20T07:13:21.045077Z"
    }
   },
   "outputs": [
    {
     "data": {
      "text/plain": [
       "Potential loyalists    41765\n",
       "Hibernating            23898\n",
       "Can't loose them       12215\n",
       "At Risk                11469\n",
       "New customers           5928\n",
       "Champions                145\n",
       "Name: Segment, dtype: int64"
      ]
     },
     "execution_count": 65,
     "metadata": {},
     "output_type": "execute_result"
    }
   ],
   "source": [
    "rfm['Segment'].value_counts()"
   ]
  },
  {
   "cell_type": "code",
   "execution_count": 66,
   "id": "dependent-heading",
   "metadata": {
    "execution": {
     "iopub.execute_input": "2021-08-20T07:13:21.059082Z",
     "iopub.status.busy": "2021-08-20T07:13:21.059082Z",
     "iopub.status.idle": "2021-08-20T07:13:21.070082Z",
     "shell.execute_reply": "2021-08-20T07:13:21.070082Z",
     "shell.execute_reply.started": "2021-08-20T07:13:21.059082Z"
    }
   },
   "outputs": [],
   "source": [
    "rfm_count = rfm['Segment'].value_counts()"
   ]
  },
  {
   "cell_type": "code",
   "execution_count": 67,
   "id": "patent-motel",
   "metadata": {
    "execution": {
     "iopub.execute_input": "2021-08-20T07:13:21.071083Z",
     "iopub.status.busy": "2021-08-20T07:13:21.071083Z",
     "iopub.status.idle": "2021-08-20T07:13:21.239121Z",
     "shell.execute_reply": "2021-08-20T07:13:21.239121Z",
     "shell.execute_reply.started": "2021-08-20T07:13:21.071083Z"
    }
   },
   "outputs": [
    {
     "data": {
      "image/png": "[encoded data removed]",
      "text/plain": [
       "<Figure size 1152x648 with 1 Axes>"
      ]
     },
     "metadata": {
      "needs_background": "light"
     },
     "output_type": "display_data"
    }
   ],
   "source": [
    "import squarify\n",
    "import matplotlib.pyplot as plt\n",
    "#Create our plot and resize it.\n",
    "fig = plt.gcf()\n",
    "ax = fig.add_subplot()\n",
    "fig.set_size_inches(16, 9)\n",
    "squarify.plot(sizes=rfm_count, \n",
    "              label=['Potential loyalists',\n",
    "                     'Hibernating',\n",
    "                     'At risk',\n",
    "                     'Can\\'t loose them',\n",
    "                     'New customers',\n",
    "                     'Champions',\n",
    "                    ], alpha=.6 )\n",
    "plt.title(\"RFM Segments\",fontsize=18,fontweight=\"bold\")\n",
    "plt.axis('off')\n",
    "plt.show()"
   ]
  },
  {
   "cell_type": "code",
   "execution_count": 68,
   "id": "raised-struggle",
   "metadata": {
    "execution": {
     "iopub.execute_input": "2021-08-20T07:13:21.240121Z",
     "iopub.status.busy": "2021-08-20T07:13:21.240121Z",
     "iopub.status.idle": "2021-08-20T07:15:12.652659Z",
     "shell.execute_reply": "2021-08-20T07:15:12.652659Z",
     "shell.execute_reply.started": "2021-08-20T07:13:21.240121Z"
    }
   },
   "outputs": [
    {
     "data": {
      "text/plain": [
       "0.3300233538237971"
      ]
     },
     "execution_count": 68,
     "metadata": {},
     "output_type": "execute_result"
    }
   ],
   "source": [
    "from sklearn.metrics import silhouette_score\n",
    "x_rfm = rfm[['recency_score','frequency_score','monetary_score']]\n",
    "silhouette_score(x_rfm, rfm['Segment'])"
   ]
  },
  {
   "cell_type": "code",
   "execution_count": 69,
   "id": "formed-sperm",
   "metadata": {
    "execution": {
     "iopub.execute_input": "2021-08-20T07:15:12.653659Z",
     "iopub.status.busy": "2021-08-20T07:15:12.653659Z",
     "iopub.status.idle": "2021-08-20T07:15:12.656660Z",
     "shell.execute_reply": "2021-08-20T07:15:12.656660Z",
     "shell.execute_reply.started": "2021-08-20T07:15:12.653659Z"
    }
   },
   "outputs": [],
   "source": [
    "# import matplotlib.pyplot as plt\n",
    "# from sklearn.preprocessing import OrdinalEncoder\n",
    "\n",
    "# encoder = OrdinalEncoder()\n",
    "# temp = rfm['Segment'].to_numpy().reshape(-1,1)\n",
    "# segment_label = encoder.fit_transform(temp)\n",
    "\n",
    "# u, c = np.unique(segment_label, return_counts=True)\n",
    "\n",
    "# plt.scatter(u[:,0], u[:,1], c=segment_label , s=c)\n",
    "# plt.xlabel('r', fontsize=18)\n",
    "# plt.ylabel('f', fontsize=16)\n",
    "\n",
    "# plt.show()"
   ]
  },
  {
   "cell_type": "markdown",
   "id": "precious-asian",
   "metadata": {},
   "source": [
    "### Total Score RFM (Summed)"
   ]
  },
  {
   "cell_type": "code",
   "execution_count": 70,
   "id": "becoming-galaxy",
   "metadata": {
    "execution": {
     "iopub.execute_input": "2021-08-20T07:15:12.657660Z",
     "iopub.status.busy": "2021-08-20T07:15:12.657660Z",
     "iopub.status.idle": "2021-08-20T07:15:12.671663Z",
     "shell.execute_reply": "2021-08-20T07:15:12.671663Z",
     "shell.execute_reply.started": "2021-08-20T07:15:12.657660Z"
    }
   },
   "outputs": [
    {
     "name": "stderr",
     "output_type": "stream",
     "text": [
      "<ipython-input-70-639f606a05dc>:2: SettingWithCopyWarning: \n",
      "A value is trying to be set on a copy of a slice from a DataFrame.\n",
      "Try using .loc[row_indexer,col_indexer] = value instead\n",
      "\n",
      "See the caveats in the documentation: https://pandas.pydata.org/pandas-docs/stable/user_guide/indexing.html#returning-a-view-versus-a-copy\n",
      "  rfm['RFM_Score_Sum'] = rfm[['recency_score','frequency_score', 'monetary_score']].sum(axis=1)\n"
     ]
    },
    {
     "data": {
      "text/html": [
       "<div>\n",
       "<style scoped>\n",
       "    .dataframe tbody tr th:only-of-type {\n",
       "        vertical-align: middle;\n",
       "    }\n",
       "\n",
       "    .dataframe tbody tr th {\n",
       "        vertical-align: top;\n",
       "    }\n",
       "\n",
       "    .dataframe thead th {\n",
       "        text-align: right;\n",
       "    }\n",
       "</style>\n",
       "<table border=\"1\" class=\"dataframe\">\n",
       "  <thead>\n",
       "    <tr style=\"text-align: right;\">\n",
       "      <th></th>\n",
       "      <th>user_name</th>\n",
       "      <th>recency_score</th>\n",
       "      <th>frequency_score</th>\n",
       "      <th>monetary_score</th>\n",
       "      <th>RFM_Score</th>\n",
       "      <th>Segment</th>\n",
       "      <th>RFM_Score_Sum</th>\n",
       "    </tr>\n",
       "  </thead>\n",
       "  <tbody>\n",
       "    <tr>\n",
       "      <th>0</th>\n",
       "      <td>0037eb1ff742ee2e71ba887f65f3c6f3</td>\n",
       "      <td>1</td>\n",
       "      <td>1</td>\n",
       "      <td>4</td>\n",
       "      <td>114</td>\n",
       "      <td>Can't loose them</td>\n",
       "      <td>6</td>\n",
       "    </tr>\n",
       "    <tr>\n",
       "      <th>1</th>\n",
       "      <td>003800162424b7b5b3d75c9cf22a66e7</td>\n",
       "      <td>3</td>\n",
       "      <td>1</td>\n",
       "      <td>2</td>\n",
       "      <td>312</td>\n",
       "      <td>Potential loyalists</td>\n",
       "      <td>6</td>\n",
       "    </tr>\n",
       "    <tr>\n",
       "      <th>2</th>\n",
       "      <td>00391594070baf8603f5fdc1d0c6a48c</td>\n",
       "      <td>4</td>\n",
       "      <td>1</td>\n",
       "      <td>3</td>\n",
       "      <td>413</td>\n",
       "      <td>Potential loyalists</td>\n",
       "      <td>8</td>\n",
       "    </tr>\n",
       "    <tr>\n",
       "      <th>3</th>\n",
       "      <td>003c457932a554e4df13834237b1ed00</td>\n",
       "      <td>2</td>\n",
       "      <td>1</td>\n",
       "      <td>3</td>\n",
       "      <td>213</td>\n",
       "      <td>At Risk</td>\n",
       "      <td>6</td>\n",
       "    </tr>\n",
       "    <tr>\n",
       "      <th>4</th>\n",
       "      <td>003db7adfcdc49857b095a50191b6c9d</td>\n",
       "      <td>3</td>\n",
       "      <td>1</td>\n",
       "      <td>4</td>\n",
       "      <td>314</td>\n",
       "      <td>Potential loyalists</td>\n",
       "      <td>8</td>\n",
       "    </tr>\n",
       "  </tbody>\n",
       "</table>\n",
       "</div>"
      ],
      "text/plain": [
       "                          user_name  recency_score  frequency_score  \\\n",
       "0  0037eb1ff742ee2e71ba887f65f3c6f3              1                1   \n",
       "1  003800162424b7b5b3d75c9cf22a66e7              3                1   \n",
       "2  00391594070baf8603f5fdc1d0c6a48c              4                1   \n",
       "3  003c457932a554e4df13834237b1ed00              2                1   \n",
       "4  003db7adfcdc49857b095a50191b6c9d              3                1   \n",
       "\n",
       "   monetary_score RFM_Score              Segment  RFM_Score_Sum  \n",
       "0               4       114     Can't loose them              6  \n",
       "1               2       312  Potential loyalists              6  \n",
       "2               3       413  Potential loyalists              8  \n",
       "3               3       213              At Risk              6  \n",
       "4               4       314  Potential loyalists              8  "
      ]
     },
     "execution_count": 70,
     "metadata": {},
     "output_type": "execute_result"
    }
   ],
   "source": [
    "# Total Scores\n",
    "rfm['RFM_Score_Sum'] = rfm[['recency_score','frequency_score', 'monetary_score']].sum(axis=1)\n",
    "rfm.head()"
   ]
  },
  {
   "cell_type": "code",
   "execution_count": 71,
   "id": "caring-slovakia",
   "metadata": {
    "execution": {
     "iopub.execute_input": "2021-08-20T07:15:12.672663Z",
     "iopub.status.busy": "2021-08-20T07:15:12.672663Z",
     "iopub.status.idle": "2021-08-20T07:15:12.682667Z",
     "shell.execute_reply": "2021-08-20T07:15:12.682667Z",
     "shell.execute_reply.started": "2021-08-20T07:15:12.672663Z"
    }
   },
   "outputs": [
    {
     "data": {
      "text/plain": [
       "RFM_Score_Sum\n",
       "3      6039\n",
       "4     11597\n",
       "5     17629\n",
       "6     23236\n",
       "7     17898\n",
       "8     12092\n",
       "9      6342\n",
       "10      501\n",
       "11       63\n",
       "12       23\n",
       "Name: user_name, dtype: int64"
      ]
     },
     "execution_count": 71,
     "metadata": {},
     "output_type": "execute_result"
    }
   ],
   "source": [
    "rfm.groupby('RFM_Score_Sum')['user_name'].count()"
   ]
  },
  {
   "cell_type": "code",
   "execution_count": 72,
   "id": "foster-township",
   "metadata": {
    "execution": {
     "iopub.execute_input": "2021-08-20T07:15:12.683666Z",
     "iopub.status.busy": "2021-08-20T07:15:12.683666Z",
     "iopub.status.idle": "2021-08-20T07:15:13.942949Z",
     "shell.execute_reply": "2021-08-20T07:15:13.942949Z",
     "shell.execute_reply.started": "2021-08-20T07:15:12.683666Z"
    }
   },
   "outputs": [
    {
     "name": "stderr",
     "output_type": "stream",
     "text": [
      "<ipython-input-72-90d3408dfc07>:10: SettingWithCopyWarning: \n",
      "A value is trying to be set on a copy of a slice from a DataFrame.\n",
      "Try using .loc[row_indexer,col_indexer] = value instead\n",
      "\n",
      "See the caveats in the documentation: https://pandas.pydata.org/pandas-docs/stable/user_guide/indexing.html#returning-a-view-versus-a-copy\n",
      "  rfm['RFM_Level'] = rfm.apply(rfm_level, axis=1)\n"
     ]
    },
    {
     "data": {
      "text/html": [
       "<div>\n",
       "<style scoped>\n",
       "    .dataframe tbody tr th:only-of-type {\n",
       "        vertical-align: middle;\n",
       "    }\n",
       "\n",
       "    .dataframe tbody tr th {\n",
       "        vertical-align: top;\n",
       "    }\n",
       "\n",
       "    .dataframe thead th {\n",
       "        text-align: right;\n",
       "    }\n",
       "</style>\n",
       "<table border=\"1\" class=\"dataframe\">\n",
       "  <thead>\n",
       "    <tr style=\"text-align: right;\">\n",
       "      <th></th>\n",
       "      <th>user_name</th>\n",
       "      <th>recency_score</th>\n",
       "      <th>frequency_score</th>\n",
       "      <th>monetary_score</th>\n",
       "      <th>RFM_Score</th>\n",
       "      <th>Segment</th>\n",
       "      <th>RFM_Score_Sum</th>\n",
       "      <th>RFM_Level</th>\n",
       "    </tr>\n",
       "  </thead>\n",
       "  <tbody>\n",
       "    <tr>\n",
       "      <th>0</th>\n",
       "      <td>0037eb1ff742ee2e71ba887f65f3c6f3</td>\n",
       "      <td>1</td>\n",
       "      <td>1</td>\n",
       "      <td>4</td>\n",
       "      <td>114</td>\n",
       "      <td>Can't loose them</td>\n",
       "      <td>6</td>\n",
       "      <td>Silver</td>\n",
       "    </tr>\n",
       "    <tr>\n",
       "      <th>1</th>\n",
       "      <td>003800162424b7b5b3d75c9cf22a66e7</td>\n",
       "      <td>3</td>\n",
       "      <td>1</td>\n",
       "      <td>2</td>\n",
       "      <td>312</td>\n",
       "      <td>Potential loyalists</td>\n",
       "      <td>6</td>\n",
       "      <td>Silver</td>\n",
       "    </tr>\n",
       "    <tr>\n",
       "      <th>2</th>\n",
       "      <td>00391594070baf8603f5fdc1d0c6a48c</td>\n",
       "      <td>4</td>\n",
       "      <td>1</td>\n",
       "      <td>3</td>\n",
       "      <td>413</td>\n",
       "      <td>Potential loyalists</td>\n",
       "      <td>8</td>\n",
       "      <td>Silver</td>\n",
       "    </tr>\n",
       "    <tr>\n",
       "      <th>3</th>\n",
       "      <td>003c457932a554e4df13834237b1ed00</td>\n",
       "      <td>2</td>\n",
       "      <td>1</td>\n",
       "      <td>3</td>\n",
       "      <td>213</td>\n",
       "      <td>At Risk</td>\n",
       "      <td>6</td>\n",
       "      <td>Silver</td>\n",
       "    </tr>\n",
       "    <tr>\n",
       "      <th>4</th>\n",
       "      <td>003db7adfcdc49857b095a50191b6c9d</td>\n",
       "      <td>3</td>\n",
       "      <td>1</td>\n",
       "      <td>4</td>\n",
       "      <td>314</td>\n",
       "      <td>Potential loyalists</td>\n",
       "      <td>8</td>\n",
       "      <td>Silver</td>\n",
       "    </tr>\n",
       "  </tbody>\n",
       "</table>\n",
       "</div>"
      ],
      "text/plain": [
       "                          user_name  recency_score  frequency_score  \\\n",
       "0  0037eb1ff742ee2e71ba887f65f3c6f3              1                1   \n",
       "1  003800162424b7b5b3d75c9cf22a66e7              3                1   \n",
       "2  00391594070baf8603f5fdc1d0c6a48c              4                1   \n",
       "3  003c457932a554e4df13834237b1ed00              2                1   \n",
       "4  003db7adfcdc49857b095a50191b6c9d              3                1   \n",
       "\n",
       "   monetary_score RFM_Score              Segment  RFM_Score_Sum RFM_Level  \n",
       "0               4       114     Can't loose them              6    Silver  \n",
       "1               2       312  Potential loyalists              6    Silver  \n",
       "2               3       413  Potential loyalists              8    Silver  \n",
       "3               3       213              At Risk              6    Silver  \n",
       "4               4       314  Potential loyalists              8    Silver  "
      ]
     },
     "execution_count": 72,
     "metadata": {},
     "output_type": "execute_result"
    }
   ],
   "source": [
    "# Define rfm_level function\n",
    "def rfm_level(df):\n",
    "    if df['RFM_Score_Sum'] >= 9:\n",
    "        return 'Gold'\n",
    "    elif ((df['RFM_Score_Sum'] >= 6) and (df['RFM_Score_Sum'] < 9)):\n",
    "        return 'Silver'\n",
    "    else:\n",
    "        return 'Bronze'\n",
    "# Create a new variable RFM_Level\n",
    "rfm['RFM_Level'] = rfm.apply(rfm_level, axis=1)\n",
    "# Print the header with top 5 rows to the console\n",
    "rfm.head()"
   ]
  },
  {
   "cell_type": "code",
   "execution_count": 73,
   "id": "fleet-sample",
   "metadata": {
    "execution": {
     "iopub.execute_input": "2021-08-20T07:15:13.943949Z",
     "iopub.status.busy": "2021-08-20T07:15:13.943949Z",
     "iopub.status.idle": "2021-08-20T07:15:13.957952Z",
     "shell.execute_reply": "2021-08-20T07:15:13.957952Z",
     "shell.execute_reply.started": "2021-08-20T07:15:13.943949Z"
    }
   },
   "outputs": [
    {
     "data": {
      "text/plain": [
       "RFM_Level\n",
       "Bronze    35265\n",
       "Gold       6929\n",
       "Silver    53226\n",
       "Name: user_name, dtype: int64"
      ]
     },
     "execution_count": 73,
     "metadata": {},
     "output_type": "execute_result"
    }
   ],
   "source": [
    "rfm_1 = rfm.groupby('RFM_Level')['user_name'].count()\n",
    "rfm_1"
   ]
  },
  {
   "cell_type": "code",
   "execution_count": 74,
   "id": "ruled-favorite",
   "metadata": {
    "execution": {
     "iopub.execute_input": "2021-08-20T07:15:13.958953Z",
     "iopub.status.busy": "2021-08-20T07:15:13.958953Z",
     "iopub.status.idle": "2021-08-20T07:15:14.040971Z",
     "shell.execute_reply": "2021-08-20T07:15:14.040971Z",
     "shell.execute_reply.started": "2021-08-20T07:15:13.958953Z"
    }
   },
   "outputs": [
    {
     "data": {
      "image/png": "[encoded data removed]",
      "text/plain": [
       "<Figure size 1152x648 with 1 Axes>"
      ]
     },
     "metadata": {
      "needs_background": "light"
     },
     "output_type": "display_data"
    }
   ],
   "source": [
    "import squarify\n",
    "import matplotlib.pyplot as plt\n",
    "#Create our plot and resize it.\n",
    "fig = plt.gcf()\n",
    "ax = fig.add_subplot()\n",
    "fig.set_size_inches(16, 9)\n",
    "squarify.plot(sizes=rfm_1, \n",
    "              label=['Bronze',\n",
    "                     'Gold',\n",
    "                     'Silver'], alpha=.6 )\n",
    "plt.title(\"RFM Segments\",fontsize=18,fontweight=\"bold\")\n",
    "plt.axis('off')\n",
    "plt.show()"
   ]
  },
  {
   "cell_type": "markdown",
   "id": "legendary-belarus",
   "metadata": {},
   "source": [
    "## RFM Segmentation using K-Mean "
   ]
  },
  {
   "cell_type": "code",
   "execution_count": 75,
   "id": "turkish-muslim",
   "metadata": {
    "execution": {
     "iopub.execute_input": "2021-08-20T07:15:14.041972Z",
     "iopub.status.busy": "2021-08-20T07:15:14.041972Z",
     "iopub.status.idle": "2021-08-20T07:15:14.050974Z",
     "shell.execute_reply": "2021-08-20T07:15:14.050974Z",
     "shell.execute_reply.started": "2021-08-20T07:15:14.041972Z"
    }
   },
   "outputs": [
    {
     "data": {
      "text/html": [
       "<div>\n",
       "<style scoped>\n",
       "    .dataframe tbody tr th:only-of-type {\n",
       "        vertical-align: middle;\n",
       "    }\n",
       "\n",
       "    .dataframe tbody tr th {\n",
       "        vertical-align: top;\n",
       "    }\n",
       "\n",
       "    .dataframe thead th {\n",
       "        text-align: right;\n",
       "    }\n",
       "</style>\n",
       "<table border=\"1\" class=\"dataframe\">\n",
       "  <thead>\n",
       "    <tr style=\"text-align: right;\">\n",
       "      <th></th>\n",
       "      <th>order_frequency</th>\n",
       "      <th>order_monetary</th>\n",
       "      <th>recency</th>\n",
       "    </tr>\n",
       "  </thead>\n",
       "  <tbody>\n",
       "    <tr>\n",
       "      <th>0</th>\n",
       "      <td>1</td>\n",
       "      <td>199000</td>\n",
       "      <td>417</td>\n",
       "    </tr>\n",
       "    <tr>\n",
       "      <th>1</th>\n",
       "      <td>1</td>\n",
       "      <td>85500</td>\n",
       "      <td>155</td>\n",
       "    </tr>\n",
       "    <tr>\n",
       "      <th>2</th>\n",
       "      <td>1</td>\n",
       "      <td>105000</td>\n",
       "      <td>29</td>\n",
       "    </tr>\n",
       "    <tr>\n",
       "      <th>3</th>\n",
       "      <td>1</td>\n",
       "      <td>129900</td>\n",
       "      <td>241</td>\n",
       "    </tr>\n",
       "    <tr>\n",
       "      <th>4</th>\n",
       "      <td>1</td>\n",
       "      <td>524900</td>\n",
       "      <td>124</td>\n",
       "    </tr>\n",
       "  </tbody>\n",
       "</table>\n",
       "</div>"
      ],
      "text/plain": [
       "   order_frequency  order_monetary  recency\n",
       "0                1          199000      417\n",
       "1                1           85500      155\n",
       "2                1          105000       29\n",
       "3                1          129900      241\n",
       "4                1          524900      124"
      ]
     },
     "execution_count": 75,
     "metadata": {},
     "output_type": "execute_result"
    }
   ],
   "source": [
    "# Make fresh df\n",
    "rfm_df3 = recency_rank[['order_frequency','order_monetary','recency']]\n",
    "rfm_df3.head()"
   ]
  },
  {
   "cell_type": "markdown",
   "id": "loved-spank",
   "metadata": {},
   "source": [
    "### Pre-Process - Analyzing Data"
   ]
  },
  {
   "cell_type": "markdown",
   "id": "surrounded-innocent",
   "metadata": {},
   "source": [
    "#### Frequency"
   ]
  },
  {
   "cell_type": "code",
   "execution_count": 76,
   "id": "better-industry",
   "metadata": {
    "execution": {
     "iopub.execute_input": "2021-08-20T07:15:14.051973Z",
     "iopub.status.busy": "2021-08-20T07:15:14.051973Z",
     "iopub.status.idle": "2021-08-20T07:15:15.618325Z",
     "shell.execute_reply": "2021-08-20T07:15:15.618325Z",
     "shell.execute_reply.started": "2021-08-20T07:15:14.051973Z"
    }
   },
   "outputs": [
    {
     "name": "stderr",
     "output_type": "stream",
     "text": [
      "R:\\Anaconda\\envs\\tf-gpu\\lib\\site-packages\\seaborn\\distributions.py:2557: FutureWarning: `distplot` is a deprecated function and will be removed in a future version. Please adapt your code to use either `displot` (a figure-level function with similar flexibility) or `histplot` (an axes-level function for histograms).\n",
      "  warnings.warn(msg, FutureWarning)\n"
     ]
    },
    {
     "data": {
      "text/plain": [
       "<AxesSubplot:xlabel='order_frequency', ylabel='Density'>"
      ]
     },
     "execution_count": 76,
     "metadata": {},
     "output_type": "execute_result"
    },
    {
     "data": {
      "image/png": "[encoded data removed]",
      "text/plain": [
       "<Figure size 432x288 with 1 Axes>"
      ]
     },
     "metadata": {
      "needs_background": "light"
     },
     "output_type": "display_data"
    }
   ],
   "source": [
    "# Visual Analysis Using Histogram\n",
    "sns.distplot(rfm_df3['order_frequency'])"
   ]
  },
  {
   "cell_type": "code",
   "execution_count": 77,
   "id": "looking-siemens",
   "metadata": {
    "execution": {
     "iopub.execute_input": "2021-08-20T07:15:15.619326Z",
     "iopub.status.busy": "2021-08-20T07:15:15.619326Z",
     "iopub.status.idle": "2021-08-20T07:15:15.728350Z",
     "shell.execute_reply": "2021-08-20T07:15:15.728350Z",
     "shell.execute_reply.started": "2021-08-20T07:15:15.619326Z"
    }
   },
   "outputs": [
    {
     "name": "stderr",
     "output_type": "stream",
     "text": [
      "R:\\Anaconda\\envs\\tf-gpu\\lib\\site-packages\\seaborn\\_decorators.py:36: FutureWarning: Pass the following variable as a keyword arg: x. From version 0.12, the only valid positional argument will be `data`, and passing other arguments without an explicit keyword will result in an error or misinterpretation.\n",
      "  warnings.warn(\n"
     ]
    },
    {
     "data": {
      "text/plain": [
       "<AxesSubplot:xlabel='order_frequency'>"
      ]
     },
     "execution_count": 77,
     "metadata": {},
     "output_type": "execute_result"
    },
    {
     "data": {
      "image/png": "[encoded data removed]",
      "text/plain": [
       "<Figure size 432x288 with 1 Axes>"
      ]
     },
     "metadata": {
      "needs_background": "light"
     },
     "output_type": "display_data"
    }
   ],
   "source": [
    "sns.boxplot(rfm_df3['order_frequency'])"
   ]
  },
  {
   "cell_type": "code",
   "execution_count": 78,
   "id": "charitable-bracelet",
   "metadata": {
    "execution": {
     "iopub.execute_input": "2021-08-20T07:15:15.729351Z",
     "iopub.status.busy": "2021-08-20T07:15:15.729351Z",
     "iopub.status.idle": "2021-08-20T07:15:15.734352Z",
     "shell.execute_reply": "2021-08-20T07:15:15.734352Z",
     "shell.execute_reply.started": "2021-08-20T07:15:15.729351Z"
    }
   },
   "outputs": [
    {
     "data": {
      "text/plain": [
       "1     92507\n",
       "2      2673\n",
       "3       192\n",
       "4        29\n",
       "5         9\n",
       "6         5\n",
       "7         3\n",
       "9         1\n",
       "16        1\n",
       "Name: order_frequency, dtype: int64"
      ]
     },
     "execution_count": 78,
     "metadata": {},
     "output_type": "execute_result"
    }
   ],
   "source": [
    "rfm_df3['order_frequency'].value_counts()"
   ]
  },
  {
   "cell_type": "markdown",
   "id": "silver-fever",
   "metadata": {},
   "source": [
    "### Pre - Process"
   ]
  },
  {
   "cell_type": "code",
   "execution_count": 79,
   "id": "circular-romance",
   "metadata": {
    "execution": {
     "iopub.execute_input": "2021-08-20T07:15:15.735352Z",
     "iopub.status.busy": "2021-08-20T07:15:15.735352Z",
     "iopub.status.idle": "2021-08-20T07:15:15.755356Z",
     "shell.execute_reply": "2021-08-20T07:15:15.755356Z",
     "shell.execute_reply.started": "2021-08-20T07:15:15.735352Z"
    }
   },
   "outputs": [
    {
     "data": {
      "text/html": [
       "<div>\n",
       "<style scoped>\n",
       "    .dataframe tbody tr th:only-of-type {\n",
       "        vertical-align: middle;\n",
       "    }\n",
       "\n",
       "    .dataframe tbody tr th {\n",
       "        vertical-align: top;\n",
       "    }\n",
       "\n",
       "    .dataframe thead th {\n",
       "        text-align: right;\n",
       "    }\n",
       "</style>\n",
       "<table border=\"1\" class=\"dataframe\">\n",
       "  <thead>\n",
       "    <tr style=\"text-align: right;\">\n",
       "      <th></th>\n",
       "      <th>order_frequency</th>\n",
       "      <th>order_monetary</th>\n",
       "      <th>recency</th>\n",
       "    </tr>\n",
       "  </thead>\n",
       "  <tbody>\n",
       "    <tr>\n",
       "      <th>count</th>\n",
       "      <td>95420.000000</td>\n",
       "      <td>9.542000e+04</td>\n",
       "      <td>95420.000000</td>\n",
       "    </tr>\n",
       "    <tr>\n",
       "      <th>mean</th>\n",
       "      <td>1.034018</td>\n",
       "      <td>1.424402e+05</td>\n",
       "      <td>243.501457</td>\n",
       "    </tr>\n",
       "    <tr>\n",
       "      <th>std</th>\n",
       "      <td>0.211234</td>\n",
       "      <td>2.176564e+05</td>\n",
       "      <td>153.160850</td>\n",
       "    </tr>\n",
       "    <tr>\n",
       "      <th>min</th>\n",
       "      <td>1.000000</td>\n",
       "      <td>8.500000e+02</td>\n",
       "      <td>0.000000</td>\n",
       "    </tr>\n",
       "    <tr>\n",
       "      <th>25%</th>\n",
       "      <td>1.000000</td>\n",
       "      <td>4.790000e+04</td>\n",
       "      <td>119.000000</td>\n",
       "    </tr>\n",
       "    <tr>\n",
       "      <th>50%</th>\n",
       "      <td>1.000000</td>\n",
       "      <td>8.990000e+04</td>\n",
       "      <td>224.000000</td>\n",
       "    </tr>\n",
       "    <tr>\n",
       "      <th>75%</th>\n",
       "      <td>1.000000</td>\n",
       "      <td>1.550000e+05</td>\n",
       "      <td>353.000000</td>\n",
       "    </tr>\n",
       "    <tr>\n",
       "      <th>max</th>\n",
       "      <td>16.000000</td>\n",
       "      <td>1.344000e+07</td>\n",
       "      <td>729.000000</td>\n",
       "    </tr>\n",
       "  </tbody>\n",
       "</table>\n",
       "</div>"
      ],
      "text/plain": [
       "       order_frequency  order_monetary       recency\n",
       "count     95420.000000    9.542000e+04  95420.000000\n",
       "mean          1.034018    1.424402e+05    243.501457\n",
       "std           0.211234    2.176564e+05    153.160850\n",
       "min           1.000000    8.500000e+02      0.000000\n",
       "25%           1.000000    4.790000e+04    119.000000\n",
       "50%           1.000000    8.990000e+04    224.000000\n",
       "75%           1.000000    1.550000e+05    353.000000\n",
       "max          16.000000    1.344000e+07    729.000000"
      ]
     },
     "execution_count": 79,
     "metadata": {},
     "output_type": "execute_result"
    }
   ],
   "source": [
    "rfm_df3.describe()"
   ]
  },
  {
   "cell_type": "code",
   "execution_count": 80,
   "id": "rural-floor",
   "metadata": {
    "execution": {
     "iopub.execute_input": "2021-08-20T07:15:15.757359Z",
     "iopub.status.busy": "2021-08-20T07:15:15.756357Z",
     "iopub.status.idle": "2021-08-20T07:15:15.762359Z",
     "shell.execute_reply": "2021-08-20T07:15:15.762359Z",
     "shell.execute_reply.started": "2021-08-20T07:15:15.757359Z"
    }
   },
   "outputs": [
    {
     "name": "stderr",
     "output_type": "stream",
     "text": [
      "<ipython-input-80-b4f6b380ea26>:1: SettingWithCopyWarning: \n",
      "A value is trying to be set on a copy of a slice from a DataFrame.\n",
      "Try using .loc[row_indexer,col_indexer] = value instead\n",
      "\n",
      "See the caveats in the documentation: https://pandas.pydata.org/pandas-docs/stable/user_guide/indexing.html#returning-a-view-versus-a-copy\n",
      "  rfm_df3['recency'] = rfm_df3['recency'] +1\n"
     ]
    }
   ],
   "source": [
    "rfm_df3['recency'] = rfm_df3['recency'] +1"
   ]
  },
  {
   "cell_type": "code",
   "execution_count": 81,
   "id": "polished-floor",
   "metadata": {
    "execution": {
     "iopub.execute_input": "2021-08-20T07:15:15.769360Z",
     "iopub.status.busy": "2021-08-20T07:15:15.769360Z",
     "iopub.status.idle": "2021-08-20T07:15:15.794365Z",
     "shell.execute_reply": "2021-08-20T07:15:15.794365Z",
     "shell.execute_reply.started": "2021-08-20T07:15:15.769360Z"
    }
   },
   "outputs": [
    {
     "data": {
      "text/html": [
       "<div>\n",
       "<style scoped>\n",
       "    .dataframe tbody tr th:only-of-type {\n",
       "        vertical-align: middle;\n",
       "    }\n",
       "\n",
       "    .dataframe tbody tr th {\n",
       "        vertical-align: top;\n",
       "    }\n",
       "\n",
       "    .dataframe thead th {\n",
       "        text-align: right;\n",
       "    }\n",
       "</style>\n",
       "<table border=\"1\" class=\"dataframe\">\n",
       "  <thead>\n",
       "    <tr style=\"text-align: right;\">\n",
       "      <th></th>\n",
       "      <th>order_frequency</th>\n",
       "      <th>order_monetary</th>\n",
       "      <th>recency</th>\n",
       "    </tr>\n",
       "  </thead>\n",
       "  <tbody>\n",
       "    <tr>\n",
       "      <th>count</th>\n",
       "      <td>95420.000000</td>\n",
       "      <td>95420.000000</td>\n",
       "      <td>95420.000000</td>\n",
       "    </tr>\n",
       "    <tr>\n",
       "      <th>mean</th>\n",
       "      <td>0.022408</td>\n",
       "      <td>11.379589</td>\n",
       "      <td>5.214814</td>\n",
       "    </tr>\n",
       "    <tr>\n",
       "      <th>std</th>\n",
       "      <td>0.128967</td>\n",
       "      <td>0.940014</td>\n",
       "      <td>0.872630</td>\n",
       "    </tr>\n",
       "    <tr>\n",
       "      <th>min</th>\n",
       "      <td>0.000000</td>\n",
       "      <td>6.745236</td>\n",
       "      <td>0.000000</td>\n",
       "    </tr>\n",
       "    <tr>\n",
       "      <th>25%</th>\n",
       "      <td>0.000000</td>\n",
       "      <td>10.776871</td>\n",
       "      <td>4.787492</td>\n",
       "    </tr>\n",
       "    <tr>\n",
       "      <th>50%</th>\n",
       "      <td>0.000000</td>\n",
       "      <td>11.406453</td>\n",
       "      <td>5.416100</td>\n",
       "    </tr>\n",
       "    <tr>\n",
       "      <th>75%</th>\n",
       "      <td>0.000000</td>\n",
       "      <td>11.951180</td>\n",
       "      <td>5.869297</td>\n",
       "    </tr>\n",
       "    <tr>\n",
       "      <th>max</th>\n",
       "      <td>2.772589</td>\n",
       "      <td>16.413746</td>\n",
       "      <td>6.593045</td>\n",
       "    </tr>\n",
       "  </tbody>\n",
       "</table>\n",
       "</div>"
      ],
      "text/plain": [
       "       order_frequency  order_monetary       recency\n",
       "count     95420.000000    95420.000000  95420.000000\n",
       "mean          0.022408       11.379589      5.214814\n",
       "std           0.128967        0.940014      0.872630\n",
       "min           0.000000        6.745236      0.000000\n",
       "25%           0.000000       10.776871      4.787492\n",
       "50%           0.000000       11.406453      5.416100\n",
       "75%           0.000000       11.951180      5.869297\n",
       "max           2.772589       16.413746      6.593045"
      ]
     },
     "execution_count": 81,
     "metadata": {},
     "output_type": "execute_result"
    }
   ],
   "source": [
    "# Log Transformation\n",
    "rfm_log = np.log(rfm_df3)\n",
    "rfm_log.describe()"
   ]
  },
  {
   "cell_type": "code",
   "execution_count": 82,
   "id": "genetic-posting",
   "metadata": {
    "execution": {
     "iopub.execute_input": "2021-08-20T07:15:15.795365Z",
     "iopub.status.busy": "2021-08-20T07:15:15.795365Z",
     "iopub.status.idle": "2021-08-20T07:15:15.807369Z",
     "shell.execute_reply": "2021-08-20T07:15:15.807369Z",
     "shell.execute_reply.started": "2021-08-20T07:15:15.795365Z"
    }
   },
   "outputs": [],
   "source": [
    "from sklearn.preprocessing import StandardScaler\n",
    "scaler = StandardScaler()\n",
    "scaler.fit(rfm_log)\n",
    "rfm_normalized = scaler.transform(rfm_log)"
   ]
  },
  {
   "cell_type": "code",
   "execution_count": 83,
   "id": "owned-ivory",
   "metadata": {
    "execution": {
     "iopub.execute_input": "2021-08-20T07:15:15.808368Z",
     "iopub.status.busy": "2021-08-20T07:15:15.808368Z",
     "iopub.status.idle": "2021-08-20T07:15:33.954483Z",
     "shell.execute_reply": "2021-08-20T07:15:33.954483Z",
     "shell.execute_reply.started": "2021-08-20T07:15:15.808368Z"
    }
   },
   "outputs": [
    {
     "data": {
      "image/png": "[encoded data removed]",
      "text/plain": [
       "<Figure size 864x432 with 1 Axes>"
      ]
     },
     "metadata": {
      "needs_background": "light"
     },
     "output_type": "display_data"
    }
   ],
   "source": [
    "from sklearn.cluster import KMeans\n",
    "import numpy as np\n",
    "wcss = []\n",
    "for k in range(1,11):\n",
    "    kmeans = KMeans(n_clusters=k, init=\"k-means++\")\n",
    "    kmeans.fit(rfm_normalized)\n",
    "    wcss.append(kmeans.inertia_)\n",
    "plt.figure(figsize=(12,6))    \n",
    "plt.grid()\n",
    "plt.plot(range(1,11),wcss, linewidth=2, color=\"red\", marker =\"8\")\n",
    "plt.xlabel(\"K Value\")\n",
    "plt.xticks(np.arange(1,11,1))\n",
    "plt.ylabel(\"WCSS\")\n",
    "plt.show()"
   ]
  },
  {
   "cell_type": "code",
   "execution_count": 84,
   "id": "veterinary-opposition",
   "metadata": {
    "execution": {
     "iopub.execute_input": "2021-08-20T07:15:33.955483Z",
     "iopub.status.busy": "2021-08-20T07:15:33.955483Z",
     "iopub.status.idle": "2021-08-20T07:15:33.959484Z",
     "shell.execute_reply": "2021-08-20T07:15:33.959484Z",
     "shell.execute_reply.started": "2021-08-20T07:15:33.955483Z"
    }
   },
   "outputs": [
    {
     "data": {
      "text/plain": [
       "array([[-0.17375122,  0.87389698,  0.94045847],\n",
       "       [-0.17375122, -0.0248059 , -0.18903612],\n",
       "       [-0.17375122,  0.19374952, -2.07834513],\n",
       "       ...,\n",
       "       [-0.17375122, -0.03229762,  0.85806102],\n",
       "       [-0.17375122,  3.07124501,  1.0326065 ],\n",
       "       [-0.17375122, -0.45633446,  1.12258014]])"
      ]
     },
     "execution_count": 84,
     "metadata": {},
     "output_type": "execute_result"
    }
   ],
   "source": [
    "rfm_normalized"
   ]
  },
  {
   "cell_type": "code",
   "execution_count": 96,
   "id": "killing-hopkins",
   "metadata": {
    "execution": {
     "iopub.execute_input": "2021-08-20T07:22:54.891778Z",
     "iopub.status.busy": "2021-08-20T07:22:54.890769Z",
     "iopub.status.idle": "2021-08-20T07:38:08.897187Z",
     "shell.execute_reply": "2021-08-20T07:38:08.897187Z",
     "shell.execute_reply.started": "2021-08-20T07:22:54.891778Z"
    }
   },
   "outputs": [
    {
     "data": {
      "image/png": "[encoded data removed]",
      "text/plain": [
       "<Figure size 576x216 with 1 Axes>"
      ]
     },
     "metadata": {
      "needs_background": "light"
     },
     "output_type": "display_data"
    }
   ],
   "source": [
    "k_range = range(2, 10, 1)\n",
    "kmeans_per_k = []\n",
    "for k in k_range:\n",
    "    kmeans = KMeans(n_clusters=k, random_state=42).fit(rfm_normalized)\n",
    "    kmeans_per_k.append(kmeans)\n",
    "    \n",
    "from sklearn.metrics import silhouette_score\n",
    "silhouette_scores = [silhouette_score(rfm_normalized, model.labels_)\n",
    "                     for model in kmeans_per_k]\n",
    "best_index = np.argmax(silhouette_scores)\n",
    "best_k = k_range[best_index]\n",
    "best_score = silhouette_scores[best_index]\n",
    "\n",
    "plt.figure(figsize=(8, 3))\n",
    "plt.plot(k_range, silhouette_scores, \"bo-\")\n",
    "plt.xlabel(\"$k$\", fontsize=14)\n",
    "plt.ylabel(\"Silhouette score\", fontsize=14)\n",
    "plt.plot(best_k, best_score, \"rs\")\n",
    "plt.show()"
   ]
  },
  {
   "cell_type": "code",
   "execution_count": 108,
   "id": "skilled-mitchell",
   "metadata": {
    "execution": {
     "iopub.execute_input": "2021-08-20T07:41:35.403928Z",
     "iopub.status.busy": "2021-08-20T07:41:35.403928Z",
     "iopub.status.idle": "2021-08-20T07:41:37.773349Z",
     "shell.execute_reply": "2021-08-20T07:41:37.773349Z",
     "shell.execute_reply.started": "2021-08-20T07:41:35.403928Z"
    }
   },
   "outputs": [
    {
     "data": {
      "image/png": "[encoded data removed]",
      "text/plain": [
       "<Figure size 432x288 with 1 Axes>"
      ]
     },
     "metadata": {
      "needs_background": "light"
     },
     "output_type": "display_data"
    }
   ],
   "source": [
    "km = KMeans(n_clusters=4)\n",
    "clusters = km.fit(rfm_normalized)\n",
    "\n",
    "from mpl_toolkits.mplot3d import Axes3D\n",
    "import matplotlib.pyplot as plt\n",
    "import numpy as np\n",
    "import pandas as pd\n",
    "%matplotlib inline\n",
    "\n",
    "\n",
    "plt.scatter(rfm_normalized[:,2], rfm_normalized[:,1], c=km.labels_ , s=60, alpha=0.3)\n",
    "plt.xlabel('recency', fontsize=18)\n",
    "plt.ylabel('monetary', fontsize=16)\n",
    "\n",
    "plt.show()"
   ]
  },
  {
   "cell_type": "code",
   "execution_count": 109,
   "id": "phantom-peoples",
   "metadata": {
    "execution": {
     "iopub.execute_input": "2021-08-20T07:41:37.774349Z",
     "iopub.status.busy": "2021-08-20T07:41:37.774349Z",
     "iopub.status.idle": "2021-08-20T07:41:40.151459Z",
     "shell.execute_reply": "2021-08-20T07:41:40.151459Z",
     "shell.execute_reply.started": "2021-08-20T07:41:37.774349Z"
    }
   },
   "outputs": [
    {
     "data": {
      "image/png": "[encoded data removed]",
      "text/plain": [
       "<Figure size 432x288 with 1 Axes>"
      ]
     },
     "metadata": {
      "needs_background": "light"
     },
     "output_type": "display_data"
    }
   ],
   "source": [
    "km = KMeans(n_clusters=4)\n",
    "clusters = km.fit(rfm_normalized)\n",
    "\n",
    "from mpl_toolkits.mplot3d import Axes3D\n",
    "import matplotlib.pyplot as plt\n",
    "import numpy as np\n",
    "import pandas as pd\n",
    "%matplotlib inline\n",
    "\n",
    "\n",
    "plt.scatter(rfm_normalized[:,0], rfm_normalized[:,1], c=km.labels_ , s=60, alpha=0.3)\n",
    "plt.xlabel('frequency', fontsize=18)\n",
    "plt.ylabel('monetary', fontsize=16)\n",
    "\n",
    "plt.show()"
   ]
  },
  {
   "cell_type": "code",
   "execution_count": 110,
   "id": "impressive-soundtrack",
   "metadata": {
    "execution": {
     "iopub.execute_input": "2021-08-20T07:41:40.225460Z",
     "iopub.status.busy": "2021-08-20T07:41:40.225460Z",
     "iopub.status.idle": "2021-08-20T07:41:42.603324Z",
     "shell.execute_reply": "2021-08-20T07:41:42.603324Z",
     "shell.execute_reply.started": "2021-08-20T07:41:40.225460Z"
    }
   },
   "outputs": [
    {
     "data": {
      "image/png": "[encoded data removed]",
      "text/plain": [
       "<Figure size 432x288 with 1 Axes>"
      ]
     },
     "metadata": {
      "needs_background": "light"
     },
     "output_type": "display_data"
    }
   ],
   "source": [
    "km = KMeans(n_clusters=4)\n",
    "clusters = km.fit(rfm_normalized)\n",
    "\n",
    "from mpl_toolkits.mplot3d import Axes3D\n",
    "import matplotlib.pyplot as plt\n",
    "import numpy as np\n",
    "import pandas as pd\n",
    "%matplotlib inline\n",
    "\n",
    "\n",
    "plt.scatter(rfm_normalized[:,0], rfm_normalized[:,2], c=km.labels_ , s=60, alpha=0.3)\n",
    "plt.xlabel('frequency', fontsize=18)\n",
    "plt.ylabel('recency', fontsize=16)\n",
    "\n",
    "plt.show()"
   ]
  },
  {
   "cell_type": "code",
   "execution_count": 105,
   "id": "desirable-lebanon",
   "metadata": {
    "execution": {
     "iopub.execute_input": "2021-08-20T07:40:35.658950Z",
     "iopub.status.busy": "2021-08-20T07:40:35.658950Z",
     "iopub.status.idle": "2021-08-20T07:40:35.983025Z",
     "shell.execute_reply": "2021-08-20T07:40:35.983025Z",
     "shell.execute_reply.started": "2021-08-20T07:40:35.658950Z"
    }
   },
   "outputs": [
    {
     "data": {
      "text/plain": [
       "array([[ 0.40169747, -1.03708082],\n",
       "       [-0.12237   ,  0.19274074],\n",
       "       [ 0.20871155,  2.0416028 ],\n",
       "       ...,\n",
       "       [-0.2261576 , -0.84568482],\n",
       "       [ 1.93425553, -1.39432778],\n",
       "       [-0.54847036, -1.05695245]])"
      ]
     },
     "execution_count": 105,
     "metadata": {},
     "output_type": "execute_result"
    }
   ],
   "source": [
    "from sklearn.decomposition import PCA\n",
    "pca = PCA(n_components = 2)\n",
    "X2D = pca.fit_transform(rfm_normalized)\n",
    "X2D"
   ]
  },
  {
   "cell_type": "code",
   "execution_count": 111,
   "id": "strange-harris",
   "metadata": {
    "execution": {
     "iopub.execute_input": "2021-08-20T07:41:44.571859Z",
     "iopub.status.busy": "2021-08-20T07:41:44.571859Z",
     "iopub.status.idle": "2021-08-20T07:41:46.187133Z",
     "shell.execute_reply": "2021-08-20T07:41:46.187133Z",
     "shell.execute_reply.started": "2021-08-20T07:41:44.571859Z"
    }
   },
   "outputs": [
    {
     "data": {
      "image/png": "[encoded data removed]",
      "text/plain": [
       "<Figure size 432x288 with 1 Axes>"
      ]
     },
     "metadata": {
      "needs_background": "light"
     },
     "output_type": "display_data"
    }
   ],
   "source": [
    "plt.scatter(X2D[:,0], X2D[:,1], c=km.labels_ , s=60, alpha=0.3)\n",
    "plt.xlabel('PCA Visualization', fontsize=18)\n",
    "plt.show()"
   ]
  },
  {
   "cell_type": "code",
   "execution_count": 112,
   "id": "automated-november",
   "metadata": {
    "execution": {
     "iopub.execute_input": "2021-08-20T07:41:52.184439Z",
     "iopub.status.busy": "2021-08-20T07:41:52.184439Z",
     "iopub.status.idle": "2021-08-20T07:41:53.741989Z",
     "shell.execute_reply": "2021-08-20T07:41:53.741989Z",
     "shell.execute_reply.started": "2021-08-20T07:41:52.184439Z"
    }
   },
   "outputs": [
    {
     "data": {
      "image/png": "[encoded data removed]",
      "text/plain": [
       "<Figure size 576x432 with 1 Axes>"
      ]
     },
     "metadata": {
      "needs_background": "light"
     },
     "output_type": "display_data"
    }
   ],
   "source": [
    "from mpl_toolkits.mplot3d import Axes3D \n",
    "fig = plt.figure(1, figsize=(8, 6))\n",
    "plt.clf()\n",
    "ax = Axes3D(fig, rect=[0, 0, .95, 1])\n",
    "\n",
    "plt.cla()\n",
    "ax.set_xlabel('f')\n",
    "ax.set_ylabel('m')\n",
    "ax.set_zlabel('r')\n",
    "\n",
    "ax.scatter(rfm_normalized[:,0], rfm_normalized[:,1], rfm_normalized[:,2], c= km.labels_.astype(np.float))\n",
    "\n",
    "\n",
    "ax.view_init(elev=20, azim=110)"
   ]
  },
  {
   "cell_type": "code",
   "execution_count": 113,
   "id": "creative-chosen",
   "metadata": {
    "execution": {
     "iopub.execute_input": "2021-08-20T07:42:34.189844Z",
     "iopub.status.busy": "2021-08-20T07:42:34.189844Z",
     "iopub.status.idle": "2021-08-20T07:44:25.835203Z",
     "shell.execute_reply": "2021-08-20T07:44:25.835203Z",
     "shell.execute_reply.started": "2021-08-20T07:42:34.189844Z"
    }
   },
   "outputs": [
    {
     "data": {
      "text/plain": [
       "0.38781838962270143"
      ]
     },
     "execution_count": 113,
     "metadata": {},
     "output_type": "execute_result"
    }
   ],
   "source": [
    "silhouette_score(rfm_normalized, km.labels_)"
   ]
  },
  {
   "cell_type": "markdown",
   "id": "passing-cologne",
   "metadata": {},
   "source": [
    "### DBSCAN"
   ]
  },
  {
   "cell_type": "code",
   "execution_count": 91,
   "id": "offensive-rally",
   "metadata": {
    "execution": {
     "iopub.execute_input": "2021-08-20T07:15:44.411360Z",
     "iopub.status.busy": "2021-08-20T07:15:44.411360Z",
     "iopub.status.idle": "2021-08-20T07:16:14.409127Z",
     "shell.execute_reply": "2021-08-20T07:16:14.409127Z",
     "shell.execute_reply.started": "2021-08-20T07:15:44.411360Z"
    }
   },
   "outputs": [
    {
     "data": {
      "image/png": "[encoded data removed]",
      "text/plain": [
       "<Figure size 432x288 with 1 Axes>"
      ]
     },
     "metadata": {
      "needs_background": "light"
     },
     "output_type": "display_data"
    }
   ],
   "source": [
    "from sklearn.cluster import DBSCAN\n",
    "dbscan = DBSCAN()\n",
    "dbscan.fit(rfm_normalized)\n",
    "db_label = dbscan.labels_\n",
    "\n",
    "fig = plt.figure(1)\n",
    "plt.clf()\n",
    "ax = Axes3D(fig, rect=[0, 0, .95, 1])\n",
    "\n",
    "plt.cla()\n",
    "ax.set_xlabel('f')\n",
    "ax.set_ylabel('m')\n",
    "ax.set_zlabel('r')\n",
    "\n",
    "ax.scatter(rfm_normalized[:,0], rfm_normalized[:,1], rfm_normalized[:,2], c= db_label)\n",
    "\n",
    "\n",
    "ax.view_init(elev=20, azim=110)"
   ]
  },
  {
   "cell_type": "code",
   "execution_count": 92,
   "id": "southwest-madrid",
   "metadata": {
    "execution": {
     "iopub.execute_input": "2021-08-20T07:16:14.410128Z",
     "iopub.status.busy": "2021-08-20T07:16:14.410128Z",
     "iopub.status.idle": "2021-08-20T07:16:16.054497Z",
     "shell.execute_reply": "2021-08-20T07:16:16.054497Z",
     "shell.execute_reply.started": "2021-08-20T07:16:14.410128Z"
    }
   },
   "outputs": [
    {
     "data": {
      "image/png": "[encoded data removed]",
      "text/plain": [
       "<Figure size 432x288 with 1 Axes>"
      ]
     },
     "metadata": {
      "needs_background": "light"
     },
     "output_type": "display_data"
    }
   ],
   "source": [
    "plt.scatter(X2D[:,0], X2D[:,1], c=db_label , s=60, alpha=0.3)\n",
    "plt.xlabel('PCA Visualization', fontsize=18)\n",
    "plt.show()"
   ]
  },
  {
   "cell_type": "code",
   "execution_count": 93,
   "id": "fifteen-footage",
   "metadata": {
    "execution": {
     "iopub.execute_input": "2021-08-20T07:16:16.055497Z",
     "iopub.status.busy": "2021-08-20T07:16:16.055497Z",
     "iopub.status.idle": "2021-08-20T07:16:16.061499Z",
     "shell.execute_reply": "2021-08-20T07:16:16.061499Z",
     "shell.execute_reply.started": "2021-08-20T07:16:16.055497Z"
    }
   },
   "outputs": [
    {
     "data": {
      "text/plain": [
       "{-1: 70, 0: 92497, 1: 2666, 2: 174, 3: 13}"
      ]
     },
     "execution_count": 93,
     "metadata": {},
     "output_type": "execute_result"
    }
   ],
   "source": [
    "unique, counts = np.unique(db_label, return_counts=True)\n",
    "dict(zip(unique, counts))"
   ]
  },
  {
   "cell_type": "code",
   "execution_count": 94,
   "id": "musical-statement",
   "metadata": {
    "execution": {
     "iopub.execute_input": "2021-08-20T07:16:16.062499Z",
     "iopub.status.busy": "2021-08-20T07:16:16.062499Z",
     "iopub.status.idle": "2021-08-20T07:18:23.049521Z",
     "shell.execute_reply": "2021-08-20T07:18:23.049521Z",
     "shell.execute_reply.started": "2021-08-20T07:16:16.062499Z"
    }
   },
   "outputs": [
    {
     "data": {
      "text/plain": [
       "0.6941664444270971"
      ]
     },
     "execution_count": 94,
     "metadata": {},
     "output_type": "execute_result"
    }
   ],
   "source": [
    "from sklearn.metrics import silhouette_score\n",
    "silhouette_score(rfm_normalized, db_label)"
   ]
  }
 ],
 "metadata": {
  "kernelspec": {
   "display_name": "Python 3",
   "language": "python",
   "name": "python3"
  },
  "language_info": {
   "codemirror_mode": {
    "name": "ipython",
    "version": 3
   },
   "file_extension": ".py",
   "mimetype": "text/x-python",
   "name": "python",
   "nbconvert_exporter": "python",
   "pygments_lexer": "ipython3",
   "version": "3.8.5"
  }
 },
 "nbformat": 4,
 "nbformat_minor": 5
}
