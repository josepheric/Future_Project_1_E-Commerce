{
 "cells": [
  {
   "cell_type": "markdown",
   "id": "insured-california",
   "metadata": {},
   "source": [
    "### Pareto Chart"
   ]
  },
  {
   "cell_type": "code",
   "execution_count": 1,
   "id": "faced-answer",
   "metadata": {
    "execution": {
     "iopub.execute_input": "2021-08-23T09:15:20.998175Z",
     "iopub.status.busy": "2021-08-23T09:15:20.998175Z",
     "iopub.status.idle": "2021-08-23T09:15:21.345253Z",
     "shell.execute_reply": "2021-08-23T09:15:21.345253Z",
     "shell.execute_reply.started": "2021-08-23T09:15:20.998175Z"
    }
   },
   "outputs": [],
   "source": [
    "# This gist contains a direct connection to a local PostgreSQL database\n",
    "# called \"suppliers\" where the username and password parameters are \"postgres\"\n",
    "\n",
    "# This code is adapted from the tutorial hosted below:\n",
    "# http://www.postgresqltutorial.com/postgresql-python/connect/\n",
    "\n",
    "import psycopg2\n",
    "import pandas as pd\n",
    "# Establish a connection to the database by creating a cursor object\n",
    "# The PostgreSQL server must be accessed through the PostgreSQL APP or Terminal Shell\n",
    "\n",
    "# conn = psycopg2.connect(\"dbname=suppliers port=5432 user=postgres password=postgres\")\n",
    "\n",
    "# Or:\n",
    "conn = psycopg2.connect(host=\"localhost\", port = 5432, database=\"ecommerce\", user=\"postgres\", password=\"b197eas\")\n",
    "\n",
    "# Create a cursor object\n",
    "cur = conn.cursor()\n",
    "\n",
    "# A sample query of all data from the \"vendors\" table in the \"suppliers\" database\n",
    "\n",
    "# # Close the cursor and connection to so the server can allocate\n",
    "# # bandwidth to other requests\n",
    "# cur.close()\n",
    "# conn.close()"
   ]
  },
  {
   "cell_type": "code",
   "execution_count": 2,
   "id": "amended-academy",
   "metadata": {
    "execution": {
     "iopub.execute_input": "2021-08-23T09:15:21.346253Z",
     "iopub.status.busy": "2021-08-23T09:15:21.346253Z",
     "iopub.status.idle": "2021-08-23T09:15:21.763347Z",
     "shell.execute_reply": "2021-08-23T09:15:21.763347Z",
     "shell.execute_reply.started": "2021-08-23T09:15:21.346253Z"
    }
   },
   "outputs": [
    {
     "data": {
      "text/html": [
       "<div>\n",
       "<style scoped>\n",
       "    .dataframe tbody tr th:only-of-type {\n",
       "        vertical-align: middle;\n",
       "    }\n",
       "\n",
       "    .dataframe tbody tr th {\n",
       "        vertical-align: top;\n",
       "    }\n",
       "\n",
       "    .dataframe thead th {\n",
       "        text-align: right;\n",
       "    }\n",
       "</style>\n",
       "<table border=\"1\" class=\"dataframe\">\n",
       "  <thead>\n",
       "    <tr style=\"text-align: right;\">\n",
       "      <th></th>\n",
       "      <th>sales</th>\n",
       "      <th>username</th>\n",
       "    </tr>\n",
       "  </thead>\n",
       "  <tbody>\n",
       "    <tr>\n",
       "      <th>0</th>\n",
       "      <td>92500.0</td>\n",
       "      <td>ea9b6e80b1f0c7dffa5f4c3dbd681db7</td>\n",
       "    </tr>\n",
       "    <tr>\n",
       "      <th>1</th>\n",
       "      <td>119700.0</td>\n",
       "      <td>9eb77967122094a4eea4084933b47a1e</td>\n",
       "    </tr>\n",
       "    <tr>\n",
       "      <th>2</th>\n",
       "      <td>24990.0</td>\n",
       "      <td>9f10a450cddebea0e7cd86f67c894d1c</td>\n",
       "    </tr>\n",
       "    <tr>\n",
       "      <th>3</th>\n",
       "      <td>98000.0</td>\n",
       "      <td>5b5c5e6acbc294d9c30645e963c2c371</td>\n",
       "    </tr>\n",
       "    <tr>\n",
       "      <th>4</th>\n",
       "      <td>29000.0</td>\n",
       "      <td>235baa608e478f28346f4f732009e013</td>\n",
       "    </tr>\n",
       "  </tbody>\n",
       "</table>\n",
       "</div>"
      ],
      "text/plain": [
       "      sales                          username\n",
       "0   92500.0  ea9b6e80b1f0c7dffa5f4c3dbd681db7\n",
       "1  119700.0  9eb77967122094a4eea4084933b47a1e\n",
       "2   24990.0  9f10a450cddebea0e7cd86f67c894d1c\n",
       "3   98000.0  5b5c5e6acbc294d9c30645e963c2c371\n",
       "4   29000.0  235baa608e478f28346f4f732009e013"
      ]
     },
     "execution_count": 2,
     "metadata": {},
     "output_type": "execute_result"
    }
   ],
   "source": [
    "#Example to use put query results into pandas df\n",
    "cur.execute(\"\"\"SELECT sales,user_name FROM datawarehouse.fact_sales fs, datawarehouse.dim_user du where fs.user_key = du.user_key\"\"\")\n",
    "query_results = cur.fetchall()\n",
    "df = pd.DataFrame (query_results, columns =['sales','username'])\n",
    "df.head()"
   ]
  },
  {
   "cell_type": "code",
   "execution_count": 3,
   "id": "typical-david",
   "metadata": {
    "execution": {
     "iopub.execute_input": "2021-08-23T09:15:21.767347Z",
     "iopub.status.busy": "2021-08-23T09:15:21.767347Z",
     "iopub.status.idle": "2021-08-23T09:15:23.212684Z",
     "shell.execute_reply": "2021-08-23T09:15:23.212684Z",
     "shell.execute_reply.started": "2021-08-23T09:15:21.767347Z"
    }
   },
   "outputs": [
    {
     "data": {
      "text/html": [
       "<div>\n",
       "<style scoped>\n",
       "    .dataframe tbody tr th:only-of-type {\n",
       "        vertical-align: middle;\n",
       "    }\n",
       "\n",
       "    .dataframe tbody tr th {\n",
       "        vertical-align: top;\n",
       "    }\n",
       "\n",
       "    .dataframe thead th {\n",
       "        text-align: right;\n",
       "    }\n",
       "</style>\n",
       "<table border=\"1\" class=\"dataframe\">\n",
       "  <thead>\n",
       "    <tr style=\"text-align: right;\">\n",
       "      <th></th>\n",
       "      <th>count(distinct username)</th>\n",
       "    </tr>\n",
       "  </thead>\n",
       "  <tbody>\n",
       "    <tr>\n",
       "      <th>0</th>\n",
       "      <td>95420</td>\n",
       "    </tr>\n",
       "  </tbody>\n",
       "</table>\n",
       "</div>"
      ],
      "text/plain": [
       "   count(distinct username)\n",
       "0                     95420"
      ]
     },
     "execution_count": 3,
     "metadata": {},
     "output_type": "execute_result"
    }
   ],
   "source": [
    "from pandasql import sqldf\n",
    "output = sqldf(\"select count(distinct username) from df\")\n",
    "output"
   ]
  },
  {
   "cell_type": "code",
   "execution_count": 4,
   "id": "preliminary-inventory",
   "metadata": {
    "execution": {
     "iopub.execute_input": "2021-08-23T09:15:23.213673Z",
     "iopub.status.busy": "2021-08-23T09:15:23.213673Z",
     "iopub.status.idle": "2021-08-23T09:15:23.874831Z",
     "shell.execute_reply": "2021-08-23T09:15:23.874831Z",
     "shell.execute_reply.started": "2021-08-23T09:15:23.213673Z"
    }
   },
   "outputs": [
    {
     "data": {
      "text/html": [
       "<div>\n",
       "<style scoped>\n",
       "    .dataframe tbody tr th:only-of-type {\n",
       "        vertical-align: middle;\n",
       "    }\n",
       "\n",
       "    .dataframe tbody tr th {\n",
       "        vertical-align: top;\n",
       "    }\n",
       "\n",
       "    .dataframe thead th {\n",
       "        text-align: right;\n",
       "    }\n",
       "</style>\n",
       "<table border=\"1\" class=\"dataframe\">\n",
       "  <thead>\n",
       "    <tr style=\"text-align: right;\">\n",
       "      <th></th>\n",
       "      <th>count( username)</th>\n",
       "    </tr>\n",
       "  </thead>\n",
       "  <tbody>\n",
       "    <tr>\n",
       "      <th>0</th>\n",
       "      <td>112650</td>\n",
       "    </tr>\n",
       "  </tbody>\n",
       "</table>\n",
       "</div>"
      ],
      "text/plain": [
       "   count( username)\n",
       "0            112650"
      ]
     },
     "execution_count": 4,
     "metadata": {},
     "output_type": "execute_result"
    }
   ],
   "source": [
    "output = sqldf(\"select count( username) from df\")\n",
    "output"
   ]
  },
  {
   "cell_type": "code",
   "execution_count": 5,
   "id": "historic-setting",
   "metadata": {
    "execution": {
     "iopub.execute_input": "2021-08-23T09:15:23.875831Z",
     "iopub.status.busy": "2021-08-23T09:15:23.875831Z",
     "iopub.status.idle": "2021-08-23T09:15:25.015087Z",
     "shell.execute_reply": "2021-08-23T09:15:25.015087Z",
     "shell.execute_reply.started": "2021-08-23T09:15:23.875831Z"
    }
   },
   "outputs": [
    {
     "data": {
      "text/html": [
       "<div>\n",
       "<style scoped>\n",
       "    .dataframe tbody tr th:only-of-type {\n",
       "        vertical-align: middle;\n",
       "    }\n",
       "\n",
       "    .dataframe tbody tr th {\n",
       "        vertical-align: top;\n",
       "    }\n",
       "\n",
       "    .dataframe thead th {\n",
       "        text-align: right;\n",
       "    }\n",
       "</style>\n",
       "<table border=\"1\" class=\"dataframe\">\n",
       "  <thead>\n",
       "    <tr style=\"text-align: right;\">\n",
       "      <th></th>\n",
       "      <th>username</th>\n",
       "      <th>sales</th>\n",
       "    </tr>\n",
       "  </thead>\n",
       "  <tbody>\n",
       "    <tr>\n",
       "      <th>0</th>\n",
       "      <td>0a0a92112bd4c708ca5fde585afaa872</td>\n",
       "      <td>13440000.0</td>\n",
       "    </tr>\n",
       "    <tr>\n",
       "      <th>1</th>\n",
       "      <td>da122df9eeddfedc1dc1f5349a1a690c</td>\n",
       "      <td>7388000.0</td>\n",
       "    </tr>\n",
       "    <tr>\n",
       "      <th>2</th>\n",
       "      <td>763c8b1c9c68a0229c42c9fc6f662b93</td>\n",
       "      <td>7160000.0</td>\n",
       "    </tr>\n",
       "    <tr>\n",
       "      <th>3</th>\n",
       "      <td>dc4802a71eae9be1dd28f5d788ceb526</td>\n",
       "      <td>6735000.0</td>\n",
       "    </tr>\n",
       "    <tr>\n",
       "      <th>4</th>\n",
       "      <td>459bef486812aa25204be022145caa62</td>\n",
       "      <td>6729000.0</td>\n",
       "    </tr>\n",
       "    <tr>\n",
       "      <th>...</th>\n",
       "      <td>...</td>\n",
       "      <td>...</td>\n",
       "    </tr>\n",
       "    <tr>\n",
       "      <th>95415</th>\n",
       "      <td>cf3839da0d9492ad151690b65f45d800</td>\n",
       "      <td>2990.0</td>\n",
       "    </tr>\n",
       "    <tr>\n",
       "      <th>95416</th>\n",
       "      <td>bd06ce0e06ad77a7f681f1a4960a3cc6</td>\n",
       "      <td>2290.0</td>\n",
       "    </tr>\n",
       "    <tr>\n",
       "      <th>95417</th>\n",
       "      <td>317cfc692e3f86c45c95697c61c853a6</td>\n",
       "      <td>2200.0</td>\n",
       "    </tr>\n",
       "    <tr>\n",
       "      <th>95418</th>\n",
       "      <td>d80730c15c647bc8f2ad77c908ba5ca9</td>\n",
       "      <td>850.0</td>\n",
       "    </tr>\n",
       "    <tr>\n",
       "      <th>95419</th>\n",
       "      <td>b38211bd797f4fdd81a98b9d1754b606</td>\n",
       "      <td>850.0</td>\n",
       "    </tr>\n",
       "  </tbody>\n",
       "</table>\n",
       "<p>95420 rows × 2 columns</p>\n",
       "</div>"
      ],
      "text/plain": [
       "                               username       sales\n",
       "0      0a0a92112bd4c708ca5fde585afaa872  13440000.0\n",
       "1      da122df9eeddfedc1dc1f5349a1a690c   7388000.0\n",
       "2      763c8b1c9c68a0229c42c9fc6f662b93   7160000.0\n",
       "3      dc4802a71eae9be1dd28f5d788ceb526   6735000.0\n",
       "4      459bef486812aa25204be022145caa62   6729000.0\n",
       "...                                 ...         ...\n",
       "95415  cf3839da0d9492ad151690b65f45d800      2990.0\n",
       "95416  bd06ce0e06ad77a7f681f1a4960a3cc6      2290.0\n",
       "95417  317cfc692e3f86c45c95697c61c853a6      2200.0\n",
       "95418  d80730c15c647bc8f2ad77c908ba5ca9       850.0\n",
       "95419  b38211bd797f4fdd81a98b9d1754b606       850.0\n",
       "\n",
       "[95420 rows x 2 columns]"
      ]
     },
     "execution_count": 5,
     "metadata": {},
     "output_type": "execute_result"
    }
   ],
   "source": [
    "agg = sqldf(\"select username, sum(sales) as sales from df group by 1 order by 2 desc\")\n",
    "agg"
   ]
  },
  {
   "cell_type": "code",
   "execution_count": 6,
   "id": "looking-interpretation",
   "metadata": {
    "execution": {
     "iopub.execute_input": "2021-08-23T09:15:25.016079Z",
     "iopub.status.busy": "2021-08-23T09:15:25.016079Z",
     "iopub.status.idle": "2021-08-23T09:15:25.019080Z",
     "shell.execute_reply": "2021-08-23T09:15:25.019080Z",
     "shell.execute_reply.started": "2021-08-23T09:15:25.016079Z"
    }
   },
   "outputs": [
    {
     "data": {
      "text/plain": [
       "19084.0"
      ]
     },
     "execution_count": 6,
     "metadata": {},
     "output_type": "execute_result"
    }
   ],
   "source": [
    "0.2 * 95420"
   ]
  },
  {
   "cell_type": "code",
   "execution_count": 7,
   "id": "dimensional-venture",
   "metadata": {
    "execution": {
     "iopub.execute_input": "2021-08-23T09:15:25.020080Z",
     "iopub.status.busy": "2021-08-23T09:15:25.020080Z",
     "iopub.status.idle": "2021-08-23T09:15:25.031082Z",
     "shell.execute_reply": "2021-08-23T09:15:25.031082Z",
     "shell.execute_reply.started": "2021-08-23T09:15:25.020080Z"
    }
   },
   "outputs": [],
   "source": [
    "total_sales = agg['sales'].sum() "
   ]
  },
  {
   "cell_type": "code",
   "execution_count": 8,
   "id": "conservative-angle",
   "metadata": {
    "execution": {
     "iopub.execute_input": "2021-08-23T09:15:25.033085Z",
     "iopub.status.busy": "2021-08-23T09:15:25.032082Z",
     "iopub.status.idle": "2021-08-23T09:15:25.657232Z",
     "shell.execute_reply": "2021-08-23T09:15:25.657232Z",
     "shell.execute_reply.started": "2021-08-23T09:15:25.033085Z"
    }
   },
   "outputs": [
    {
     "data": {
      "text/plain": [
       "0.5675707096412482"
      ]
     },
     "execution_count": 8,
     "metadata": {},
     "output_type": "execute_result"
    }
   ],
   "source": [
    "# Top 20 %\n",
    "top20df = sqldf(\"select username, sales from agg order by 2 desc limit 19084\")\n",
    "top20sales = top20df['sales'].sum() \n",
    "\n",
    "top20sales / total_sales"
   ]
  },
  {
   "cell_type": "code",
   "execution_count": 9,
   "id": "brazilian-uganda",
   "metadata": {
    "execution": {
     "iopub.execute_input": "2021-08-23T09:15:25.659232Z",
     "iopub.status.busy": "2021-08-23T09:15:25.659232Z",
     "iopub.status.idle": "2021-08-23T09:15:25.662226Z",
     "shell.execute_reply": "2021-08-23T09:15:25.662226Z",
     "shell.execute_reply.started": "2021-08-23T09:15:25.659232Z"
    }
   },
   "outputs": [
    {
     "data": {
      "text/plain": [
       "42939.0"
      ]
     },
     "execution_count": 9,
     "metadata": {},
     "output_type": "execute_result"
    }
   ],
   "source": [
    "0.45 * 95420"
   ]
  },
  {
   "cell_type": "code",
   "execution_count": 10,
   "id": "internal-reception",
   "metadata": {
    "execution": {
     "iopub.execute_input": "2021-08-23T09:15:25.664226Z",
     "iopub.status.busy": "2021-08-23T09:15:25.663224Z",
     "iopub.status.idle": "2021-08-23T09:15:26.377386Z",
     "shell.execute_reply": "2021-08-23T09:15:26.377386Z",
     "shell.execute_reply.started": "2021-08-23T09:15:25.664226Z"
    }
   },
   "outputs": [
    {
     "data": {
      "text/plain": [
       "0.8007951142804016"
      ]
     },
     "execution_count": 10,
     "metadata": {},
     "output_type": "execute_result"
    }
   ],
   "source": [
    "# Top 45 %\n",
    "top45df = sqldf(\"select username, sales from agg order by 2 desc limit 42939\")\n",
    "top45sales = top45df['sales'].sum() \n",
    "\n",
    "top45sales / total_sales"
   ]
  },
  {
   "cell_type": "code",
   "execution_count": 11,
   "id": "described-oxide",
   "metadata": {
    "execution": {
     "iopub.execute_input": "2021-08-23T09:15:26.378385Z",
     "iopub.status.busy": "2021-08-23T09:15:26.378385Z",
     "iopub.status.idle": "2021-08-23T09:15:26.382387Z",
     "shell.execute_reply": "2021-08-23T09:15:26.382387Z",
     "shell.execute_reply.started": "2021-08-23T09:15:26.378385Z"
    }
   },
   "outputs": [],
   "source": [
    "import math\n",
    "\n",
    "millnames = ['',' Thousand',' Million',' Billion',' Trillion']\n",
    "\n",
    "def millify(n):\n",
    "    n = float(n)\n",
    "    millidx = max(0,min(len(millnames)-1,\n",
    "                        int(math.floor(0 if n == 0 else math.log10(abs(n))/3))))\n",
    "\n",
    "    return '{:.1f}{}'.format(n / 10**(3 * millidx), millnames[millidx])"
   ]
  },
  {
   "cell_type": "code",
   "execution_count": 12,
   "id": "lonely-neighbor",
   "metadata": {
    "execution": {
     "iopub.execute_input": "2021-08-23T09:15:26.383386Z",
     "iopub.status.busy": "2021-08-23T09:15:26.383386Z",
     "iopub.status.idle": "2021-08-23T09:15:26.730473Z",
     "shell.execute_reply": "2021-08-23T09:15:26.730473Z",
     "shell.execute_reply.started": "2021-08-23T09:15:26.383386Z"
    }
   },
   "outputs": [
    {
     "data": {
      "image/png": "[encoded data removed]",
      "text/plain": [
       "<Figure size 288x288 with 1 Axes>"
      ]
     },
     "metadata": {},
     "output_type": "display_data"
    }
   ],
   "source": [
    "import numpy as np\n",
    "import matplotlib.pyplot as plt\n",
    "from matplotlib.pyplot import figure\n",
    "import matplotlib as mpl \n",
    "\n",
    "\n",
    "fig, ax = plt.subplots(figsize=(4, 4), subplot_kw=dict(aspect=\"equal\"))\n",
    "\n",
    "data = [top20sales, (total_sales-top20sales)]\n",
    "legends = ['Top 20 % Users',\"Other Users\" ]\n",
    "\n",
    "\n",
    "def func(pct, allvals):\n",
    "    absolute = int(pct/100.*np.sum(allvals))\n",
    "    temp = millify(absolute)\n",
    "    return \"{:.2f}%\\n({})\".format(pct, temp)\n",
    "\n",
    "\n",
    "wedges, texts, autotexts = ax.pie(data, autopct=lambda pct: func(pct, data),\n",
    "                                  textprops={'color': 'w'}, radius=2)\n",
    "texts[-1].set_fontsize(60)\n",
    "\n",
    "ax.legend(wedges, legends,\n",
    "          loc=\"center left\",\n",
    "          bbox_to_anchor=(1, 0, 0.5, 1))\n",
    "\n",
    "plt.setp(autotexts, size=20, weight=\"bold\")\n",
    "plt.show()\n"
   ]
  },
  {
   "cell_type": "code",
   "execution_count": 13,
   "id": "vietnamese-outside",
   "metadata": {
    "execution": {
     "iopub.execute_input": "2021-08-23T09:15:26.731465Z",
     "iopub.status.busy": "2021-08-23T09:15:26.731465Z",
     "iopub.status.idle": "2021-08-23T09:15:26.735466Z",
     "shell.execute_reply": "2021-08-23T09:15:26.735466Z",
     "shell.execute_reply.started": "2021-08-23T09:15:26.731465Z"
    }
   },
   "outputs": [
    {
     "data": {
      "text/plain": [
       "[Text(-0.463515465572256, 2.1506169843036522, ''),\n",
       " Text(0.4635150628616604, -2.150617071098514, '')]"
      ]
     },
     "execution_count": 13,
     "metadata": {},
     "output_type": "execute_result"
    }
   ],
   "source": [
    "texts"
   ]
  },
  {
   "cell_type": "code",
   "execution_count": 14,
   "id": "alert-portable",
   "metadata": {
    "execution": {
     "iopub.execute_input": "2021-08-23T09:15:26.736465Z",
     "iopub.status.busy": "2021-08-23T09:15:26.736465Z",
     "iopub.status.idle": "2021-08-23T09:15:26.741467Z",
     "shell.execute_reply": "2021-08-23T09:15:26.741467Z",
     "shell.execute_reply.started": "2021-08-23T09:15:26.736465Z"
    }
   },
   "outputs": [
    {
     "data": {
      "text/plain": [
       "4771.0"
      ]
     },
     "execution_count": 14,
     "metadata": {},
     "output_type": "execute_result"
    }
   ],
   "source": [
    "0.05 * 95420"
   ]
  },
  {
   "cell_type": "code",
   "execution_count": 15,
   "id": "spread-yacht",
   "metadata": {
    "execution": {
     "iopub.execute_input": "2021-08-23T09:15:26.742468Z",
     "iopub.status.busy": "2021-08-23T09:15:26.742468Z",
     "iopub.status.idle": "2021-08-23T09:15:27.357606Z",
     "shell.execute_reply": "2021-08-23T09:15:27.357606Z",
     "shell.execute_reply.started": "2021-08-23T09:15:26.742468Z"
    }
   },
   "outputs": [],
   "source": [
    "# Top 5 %\n",
    "topdf = sqldf(\"select username, sales from agg order by 2 desc limit 4771\")\n",
    "topsales = topdf['sales'].sum() "
   ]
  },
  {
   "cell_type": "code",
   "execution_count": 16,
   "id": "smooth-directory",
   "metadata": {
    "execution": {
     "iopub.execute_input": "2021-08-23T09:15:27.358606Z",
     "iopub.status.busy": "2021-08-23T09:15:27.358606Z",
     "iopub.status.idle": "2021-08-23T09:15:27.361608Z",
     "shell.execute_reply": "2021-08-23T09:15:27.361608Z",
     "shell.execute_reply.started": "2021-08-23T09:15:27.358606Z"
    }
   },
   "outputs": [
    {
     "data": {
      "text/plain": [
       "3975460980.0"
      ]
     },
     "execution_count": 16,
     "metadata": {},
     "output_type": "execute_result"
    }
   ],
   "source": [
    "topsales"
   ]
  },
  {
   "cell_type": "code",
   "execution_count": 17,
   "id": "pharmaceutical-sodium",
   "metadata": {
    "execution": {
     "iopub.execute_input": "2021-08-23T09:15:27.362608Z",
     "iopub.status.busy": "2021-08-23T09:15:27.362608Z",
     "iopub.status.idle": "2021-08-23T09:15:27.384612Z",
     "shell.execute_reply": "2021-08-23T09:15:27.384612Z",
     "shell.execute_reply.started": "2021-08-23T09:15:27.362608Z"
    }
   },
   "outputs": [
    {
     "data": {
      "text/html": [
       "<div>\n",
       "<style scoped>\n",
       "    .dataframe tbody tr th:only-of-type {\n",
       "        vertical-align: middle;\n",
       "    }\n",
       "\n",
       "    .dataframe tbody tr th {\n",
       "        vertical-align: top;\n",
       "    }\n",
       "\n",
       "    .dataframe thead th {\n",
       "        text-align: right;\n",
       "    }\n",
       "</style>\n",
       "<table border=\"1\" class=\"dataframe\">\n",
       "  <thead>\n",
       "    <tr style=\"text-align: right;\">\n",
       "      <th></th>\n",
       "      <th>sales</th>\n",
       "    </tr>\n",
       "  </thead>\n",
       "  <tbody>\n",
       "    <tr>\n",
       "      <th>0</th>\n",
       "      <td>3.975461e+09</td>\n",
       "    </tr>\n",
       "    <tr>\n",
       "      <th>1</th>\n",
       "      <td>1.628749e+09</td>\n",
       "    </tr>\n",
       "    <tr>\n",
       "      <th>2</th>\n",
       "      <td>1.172063e+09</td>\n",
       "    </tr>\n",
       "    <tr>\n",
       "      <th>3</th>\n",
       "      <td>9.379461e+08</td>\n",
       "    </tr>\n",
       "    <tr>\n",
       "      <th>4</th>\n",
       "      <td>8.015858e+08</td>\n",
       "    </tr>\n",
       "    <tr>\n",
       "      <th>5</th>\n",
       "      <td>6.988117e+08</td>\n",
       "    </tr>\n",
       "    <tr>\n",
       "      <th>6</th>\n",
       "      <td>6.195963e+08</td>\n",
       "    </tr>\n",
       "    <tr>\n",
       "      <th>7</th>\n",
       "      <td>5.555443e+08</td>\n",
       "    </tr>\n",
       "    <tr>\n",
       "      <th>8</th>\n",
       "      <td>4.943649e+08</td>\n",
       "    </tr>\n",
       "    <tr>\n",
       "      <th>9</th>\n",
       "      <td>4.483573e+08</td>\n",
       "    </tr>\n",
       "    <tr>\n",
       "      <th>10</th>\n",
       "      <td>3.983664e+08</td>\n",
       "    </tr>\n",
       "    <tr>\n",
       "      <th>11</th>\n",
       "      <td>3.496627e+08</td>\n",
       "    </tr>\n",
       "    <tr>\n",
       "      <th>12</th>\n",
       "      <td>3.057079e+08</td>\n",
       "    </tr>\n",
       "    <tr>\n",
       "      <th>13</th>\n",
       "      <td>2.724134e+08</td>\n",
       "    </tr>\n",
       "    <tr>\n",
       "      <th>14</th>\n",
       "      <td>2.379748e+08</td>\n",
       "    </tr>\n",
       "    <tr>\n",
       "      <th>15</th>\n",
       "      <td>2.061705e+08</td>\n",
       "    </tr>\n",
       "    <tr>\n",
       "      <th>16</th>\n",
       "      <td>1.719348e+08</td>\n",
       "    </tr>\n",
       "    <tr>\n",
       "      <th>17</th>\n",
       "      <td>1.389094e+08</td>\n",
       "    </tr>\n",
       "    <tr>\n",
       "      <th>18</th>\n",
       "      <td>1.081066e+08</td>\n",
       "    </tr>\n",
       "    <tr>\n",
       "      <th>19</th>\n",
       "      <td>6.991807e+07</td>\n",
       "    </tr>\n",
       "  </tbody>\n",
       "</table>\n",
       "</div>"
      ],
      "text/plain": [
       "           sales\n",
       "0   3.975461e+09\n",
       "1   1.628749e+09\n",
       "2   1.172063e+09\n",
       "3   9.379461e+08\n",
       "4   8.015858e+08\n",
       "5   6.988117e+08\n",
       "6   6.195963e+08\n",
       "7   5.555443e+08\n",
       "8   4.943649e+08\n",
       "9   4.483573e+08\n",
       "10  3.983664e+08\n",
       "11  3.496627e+08\n",
       "12  3.057079e+08\n",
       "13  2.724134e+08\n",
       "14  2.379748e+08\n",
       "15  2.061705e+08\n",
       "16  1.719348e+08\n",
       "17  1.389094e+08\n",
       "18  1.081066e+08\n",
       "19  6.991807e+07"
      ]
     },
     "execution_count": 17,
     "metadata": {},
     "output_type": "execute_result"
    }
   ],
   "source": [
    "N = 4771\n",
    "bar_data = agg.groupby(agg.index // N).sum()\n",
    "bar_data"
   ]
  },
  {
   "cell_type": "code",
   "execution_count": 18,
   "id": "potential-yorkshire",
   "metadata": {
    "execution": {
     "iopub.execute_input": "2021-08-23T09:15:27.385612Z",
     "iopub.status.busy": "2021-08-23T09:15:27.385612Z",
     "iopub.status.idle": "2021-08-23T09:15:27.695682Z",
     "shell.execute_reply": "2021-08-23T09:15:27.695682Z",
     "shell.execute_reply.started": "2021-08-23T09:15:27.385612Z"
    }
   },
   "outputs": [
    {
     "data": {
      "image/png": "[encoded data removed]",
      "text/plain": [
       "<Figure size 432x288 with 2 Axes>"
      ]
     },
     "metadata": {},
     "output_type": "display_data"
    }
   ],
   "source": [
    "import matplotlib.pyplot as plt\n",
    "from matplotlib.ticker import PercentFormatter\n",
    "from matplotlib.pyplot import figure\n",
    "\n",
    "df = bar_data\n",
    "df.index = ['5%', '10%', '15%', '20%', '25$', '30%', '35%', '40%', '45%','50%','55%','60%','65%','70%','75%','80%','85%','90%','95%','100%']\n",
    "df[\"cumpercentage\"] = df[\"sales\"].cumsum()/df[\"sales\"].sum()*100\n",
    "\n",
    "\n",
    "fig, ax = plt.subplots()\n",
    "ax.bar(df.index, df[\"sales\"], color=\"C0\")\n",
    "ax.set_xlabel(\"% of users\")\n",
    "ax.set_ylabel(\"Sales in Billions\")\n",
    "\n",
    "ax2 = ax.twinx()\n",
    "ax2.plot(df.index, df[\"cumpercentage\"], color=\"C1\", marker=\"D\", ms=7)\n",
    "ax2.yaxis.set_major_formatter(PercentFormatter())\n",
    "ax2.set_ylim([0, 100])\n",
    "ax2.set_ylabel(\"Cumulative Percentage of Sales\")\n",
    "\n",
    "ax.tick_params(axis=\"y\", colors=\"C0\")\n",
    "ax2.tick_params(axis=\"y\", colors=\"C1\")\n",
    "\n",
    "\n",
    "plt.rcParams[\"figure.figsize\"] = (10,10)\n",
    "plt.show()"
   ]
  },
  {
   "cell_type": "code",
   "execution_count": 19,
   "id": "minus-bridge",
   "metadata": {
    "execution": {
     "iopub.execute_input": "2021-08-23T09:15:27.696682Z",
     "iopub.status.busy": "2021-08-23T09:15:27.696682Z",
     "iopub.status.idle": "2021-08-23T09:15:27.924733Z",
     "shell.execute_reply": "2021-08-23T09:15:27.924733Z",
     "shell.execute_reply.started": "2021-08-23T09:15:27.696682Z"
    }
   },
   "outputs": [
    {
     "data": {
      "text/html": [
       "<div>\n",
       "<style scoped>\n",
       "    .dataframe tbody tr th:only-of-type {\n",
       "        vertical-align: middle;\n",
       "    }\n",
       "\n",
       "    .dataframe tbody tr th {\n",
       "        vertical-align: top;\n",
       "    }\n",
       "\n",
       "    .dataframe thead th {\n",
       "        text-align: right;\n",
       "    }\n",
       "</style>\n",
       "<table border=\"1\" class=\"dataframe\">\n",
       "  <thead>\n",
       "    <tr style=\"text-align: right;\">\n",
       "      <th></th>\n",
       "      <th>sales</th>\n",
       "      <th>product_id</th>\n",
       "    </tr>\n",
       "  </thead>\n",
       "  <tbody>\n",
       "    <tr>\n",
       "      <th>0</th>\n",
       "      <td>63885000.0</td>\n",
       "      <td>bb50f2e236e5eea0100680137654686c</td>\n",
       "    </tr>\n",
       "    <tr>\n",
       "      <th>1</th>\n",
       "      <td>54730200.0</td>\n",
       "      <td>6cdd53843498f92890544667809f1595</td>\n",
       "    </tr>\n",
       "    <tr>\n",
       "      <th>2</th>\n",
       "      <td>48899300.0</td>\n",
       "      <td>d6160fb7873f184099d9bc95e30376af</td>\n",
       "    </tr>\n",
       "    <tr>\n",
       "      <th>3</th>\n",
       "      <td>47214600.0</td>\n",
       "      <td>d1c427060a0f73f6b889a5c7c61f2ac4</td>\n",
       "    </tr>\n",
       "    <tr>\n",
       "      <th>4</th>\n",
       "      <td>43025600.0</td>\n",
       "      <td>99a4788cb24856965c36a24e339b6058</td>\n",
       "    </tr>\n",
       "    <tr>\n",
       "      <th>...</th>\n",
       "      <td>...</td>\n",
       "      <td>...</td>\n",
       "    </tr>\n",
       "    <tr>\n",
       "      <th>32946</th>\n",
       "      <td>2990.0</td>\n",
       "      <td>2e8316b31db34314f393806fd7b6e185</td>\n",
       "    </tr>\n",
       "    <tr>\n",
       "      <th>32947</th>\n",
       "      <td>2900.0</td>\n",
       "      <td>680cc8535be7cc69544238c1d6a83fe8</td>\n",
       "    </tr>\n",
       "    <tr>\n",
       "      <th>32948</th>\n",
       "      <td>2550.0</td>\n",
       "      <td>8a3254bee785a526d548a81a9bc3c9be</td>\n",
       "    </tr>\n",
       "    <tr>\n",
       "      <th>32949</th>\n",
       "      <td>2290.0</td>\n",
       "      <td>310dc32058903b6416c71faff132df9e</td>\n",
       "    </tr>\n",
       "    <tr>\n",
       "      <th>32950</th>\n",
       "      <td>2200.0</td>\n",
       "      <td>46fce52cef5caa7cc225a5531c946c8b</td>\n",
       "    </tr>\n",
       "  </tbody>\n",
       "</table>\n",
       "<p>32951 rows × 2 columns</p>\n",
       "</div>"
      ],
      "text/plain": [
       "            sales                        product_id\n",
       "0      63885000.0  bb50f2e236e5eea0100680137654686c\n",
       "1      54730200.0  6cdd53843498f92890544667809f1595\n",
       "2      48899300.0  d6160fb7873f184099d9bc95e30376af\n",
       "3      47214600.0  d1c427060a0f73f6b889a5c7c61f2ac4\n",
       "4      43025600.0  99a4788cb24856965c36a24e339b6058\n",
       "...           ...                               ...\n",
       "32946      2990.0  2e8316b31db34314f393806fd7b6e185\n",
       "32947      2900.0  680cc8535be7cc69544238c1d6a83fe8\n",
       "32948      2550.0  8a3254bee785a526d548a81a9bc3c9be\n",
       "32949      2290.0  310dc32058903b6416c71faff132df9e\n",
       "32950      2200.0  46fce52cef5caa7cc225a5531c946c8b\n",
       "\n",
       "[32951 rows x 2 columns]"
      ]
     },
     "execution_count": 19,
     "metadata": {},
     "output_type": "execute_result"
    }
   ],
   "source": [
    "# Top 20% Product\n",
    "#Example to use put query results into pandas df\n",
    "cur.execute(\"\"\"SELECT sum(sales),product_id FROM datawarehouse.fact_sales fs, datawarehouse.dim_product du where fs.product_key = du.product_key group by 2 order by 1 desc\"\"\")\n",
    "query_results = cur.fetchall()\n",
    "prod = pd.DataFrame (query_results, columns =['sales','product_id'])\n",
    "prod"
   ]
  },
  {
   "cell_type": "code",
   "execution_count": 20,
   "id": "medium-regular",
   "metadata": {
    "execution": {
     "iopub.execute_input": "2021-08-23T09:15:27.925734Z",
     "iopub.status.busy": "2021-08-23T09:15:27.925734Z",
     "iopub.status.idle": "2021-08-23T09:15:27.928735Z",
     "shell.execute_reply": "2021-08-23T09:15:27.928735Z",
     "shell.execute_reply.started": "2021-08-23T09:15:27.925734Z"
    }
   },
   "outputs": [
    {
     "data": {
      "text/plain": [
       "6590.200000000001"
      ]
     },
     "execution_count": 20,
     "metadata": {},
     "output_type": "execute_result"
    }
   ],
   "source": [
    "0.2 * 32951"
   ]
  },
  {
   "cell_type": "code",
   "execution_count": 21,
   "id": "legendary-exhaust",
   "metadata": {
    "execution": {
     "iopub.execute_input": "2021-08-23T09:15:27.929734Z",
     "iopub.status.busy": "2021-08-23T09:15:27.929734Z",
     "iopub.status.idle": "2021-08-23T09:15:27.933736Z",
     "shell.execute_reply": "2021-08-23T09:15:27.933736Z",
     "shell.execute_reply.started": "2021-08-23T09:15:27.929734Z"
    }
   },
   "outputs": [],
   "source": [
    "totalprod = prod['sales'].sum()"
   ]
  },
  {
   "cell_type": "code",
   "execution_count": 22,
   "id": "existing-buddy",
   "metadata": {
    "execution": {
     "iopub.execute_input": "2021-08-23T09:15:27.934735Z",
     "iopub.status.busy": "2021-08-23T09:15:27.934735Z",
     "iopub.status.idle": "2021-08-23T09:15:28.135781Z",
     "shell.execute_reply": "2021-08-23T09:15:28.135781Z",
     "shell.execute_reply.started": "2021-08-23T09:15:27.934735Z"
    }
   },
   "outputs": [
    {
     "data": {
      "text/plain": [
       "0.7483127077856632"
      ]
     },
     "execution_count": 22,
     "metadata": {},
     "output_type": "execute_result"
    }
   ],
   "source": [
    "# Top Prod\n",
    "top20prod = sqldf(\"select product_id, sales from prod order by 2 desc limit 6590\")\n",
    "top20sales_prod = top20prod['sales'].sum() \n",
    "\n",
    "top20sales_prod / totalprod"
   ]
  },
  {
   "cell_type": "code",
   "execution_count": 23,
   "id": "embedded-defeat",
   "metadata": {
    "execution": {
     "iopub.execute_input": "2021-08-23T09:15:28.136781Z",
     "iopub.status.busy": "2021-08-23T09:15:28.136781Z",
     "iopub.status.idle": "2021-08-23T09:15:28.233803Z",
     "shell.execute_reply": "2021-08-23T09:15:28.233803Z",
     "shell.execute_reply.started": "2021-08-23T09:15:28.136781Z"
    }
   },
   "outputs": [
    {
     "data": {
      "image/png": "[encoded data removed]",
      "text/plain": [
       "<Figure size 288x288 with 1 Axes>"
      ]
     },
     "metadata": {},
     "output_type": "display_data"
    }
   ],
   "source": [
    "import numpy as np\n",
    "import matplotlib.pyplot as plt\n",
    "from matplotlib.pyplot import figure\n",
    "import matplotlib as mpl \n",
    "\n",
    "\n",
    "fig, ax = plt.subplots(figsize=(4, 4), subplot_kw=dict(aspect=\"equal\"))\n",
    "\n",
    "data = [top20sales_prod, (totalprod-top20sales_prod)]\n",
    "legends = ['Top 20 % Products',\"Other Products\" ]\n",
    "\n",
    "\n",
    "def func(pct, allvals):\n",
    "    absolute = int(pct/100.*np.sum(allvals))\n",
    "    temp = millify(absolute)\n",
    "    return \"{:.2f}%\\n({})\".format(pct, temp)\n",
    "\n",
    "\n",
    "wedges, texts, autotexts = ax.pie(data, autopct=lambda pct: func(pct, data),\n",
    "                                  textprops={'color': 'w'}, radius=2)\n",
    "texts[-1].set_fontsize(60)\n",
    "\n",
    "ax.legend(wedges, legends,\n",
    "          loc=\"center left\",\n",
    "          bbox_to_anchor=(1, 0, 0.5, 1))\n",
    "\n",
    "plt.setp(autotexts, size=20, weight=\"bold\")\n",
    "plt.show()\n"
   ]
  },
  {
   "cell_type": "code",
   "execution_count": 24,
   "id": "different-quantum",
   "metadata": {
    "execution": {
     "iopub.execute_input": "2021-08-23T09:15:28.234804Z",
     "iopub.status.busy": "2021-08-23T09:15:28.234804Z",
     "iopub.status.idle": "2021-08-23T09:15:28.379836Z",
     "shell.execute_reply": "2021-08-23T09:15:28.379836Z",
     "shell.execute_reply.started": "2021-08-23T09:15:28.234804Z"
    }
   },
   "outputs": [
    {
     "data": {
      "text/html": [
       "<div>\n",
       "<style scoped>\n",
       "    .dataframe tbody tr th:only-of-type {\n",
       "        vertical-align: middle;\n",
       "    }\n",
       "\n",
       "    .dataframe tbody tr th {\n",
       "        vertical-align: top;\n",
       "    }\n",
       "\n",
       "    .dataframe thead th {\n",
       "        text-align: right;\n",
       "    }\n",
       "</style>\n",
       "<table border=\"1\" class=\"dataframe\">\n",
       "  <thead>\n",
       "    <tr style=\"text-align: right;\">\n",
       "      <th></th>\n",
       "      <th>user_name</th>\n",
       "      <th>order_frequency</th>\n",
       "    </tr>\n",
       "  </thead>\n",
       "  <tbody>\n",
       "    <tr>\n",
       "      <th>0</th>\n",
       "      <td>0037eb1ff742ee2e71ba887f65f3c6f3</td>\n",
       "      <td>1</td>\n",
       "    </tr>\n",
       "    <tr>\n",
       "      <th>1</th>\n",
       "      <td>003800162424b7b5b3d75c9cf22a66e7</td>\n",
       "      <td>1</td>\n",
       "    </tr>\n",
       "    <tr>\n",
       "      <th>2</th>\n",
       "      <td>00391594070baf8603f5fdc1d0c6a48c</td>\n",
       "      <td>1</td>\n",
       "    </tr>\n",
       "    <tr>\n",
       "      <th>3</th>\n",
       "      <td>003c457932a554e4df13834237b1ed00</td>\n",
       "      <td>1</td>\n",
       "    </tr>\n",
       "    <tr>\n",
       "      <th>4</th>\n",
       "      <td>003db7adfcdc49857b095a50191b6c9d</td>\n",
       "      <td>1</td>\n",
       "    </tr>\n",
       "    <tr>\n",
       "      <th>...</th>\n",
       "      <td>...</td>\n",
       "      <td>...</td>\n",
       "    </tr>\n",
       "    <tr>\n",
       "      <th>95415</th>\n",
       "      <td>ffe9e41fbd14db4a7361347c56af5447</td>\n",
       "      <td>1</td>\n",
       "    </tr>\n",
       "    <tr>\n",
       "      <th>95416</th>\n",
       "      <td>ffebb6424578e7bb153322da9d65634f</td>\n",
       "      <td>1</td>\n",
       "    </tr>\n",
       "    <tr>\n",
       "      <th>95417</th>\n",
       "      <td>fff3a9369e4b7102fab406a334a678c3</td>\n",
       "      <td>1</td>\n",
       "    </tr>\n",
       "    <tr>\n",
       "      <th>95418</th>\n",
       "      <td>fffcf5a5ff07b0908bd4e2dbc735a684</td>\n",
       "      <td>1</td>\n",
       "    </tr>\n",
       "    <tr>\n",
       "      <th>95419</th>\n",
       "      <td>ffffd2657e2aad2907e67c3e9daecbeb</td>\n",
       "      <td>1</td>\n",
       "    </tr>\n",
       "  </tbody>\n",
       "</table>\n",
       "<p>95420 rows × 2 columns</p>\n",
       "</div>"
      ],
      "text/plain": [
       "                              user_name  order_frequency\n",
       "0      0037eb1ff742ee2e71ba887f65f3c6f3                1\n",
       "1      003800162424b7b5b3d75c9cf22a66e7                1\n",
       "2      00391594070baf8603f5fdc1d0c6a48c                1\n",
       "3      003c457932a554e4df13834237b1ed00                1\n",
       "4      003db7adfcdc49857b095a50191b6c9d                1\n",
       "...                                 ...              ...\n",
       "95415  ffe9e41fbd14db4a7361347c56af5447                1\n",
       "95416  ffebb6424578e7bb153322da9d65634f                1\n",
       "95417  fff3a9369e4b7102fab406a334a678c3                1\n",
       "95418  fffcf5a5ff07b0908bd4e2dbc735a684                1\n",
       "95419  ffffd2657e2aad2907e67c3e9daecbeb                1\n",
       "\n",
       "[95420 rows x 2 columns]"
      ]
     },
     "execution_count": 24,
     "metadata": {},
     "output_type": "execute_result"
    }
   ],
   "source": [
    "#Example to use put query results into pandas df\n",
    "cur.execute(\"\"\"SELECT user_name, order_frequency FROM datamarts.rfm fs\"\"\")\n",
    "query_results = cur.fetchall()\n",
    "df = pd.DataFrame (query_results, columns =['user_name','order_frequency'])\n",
    "df"
   ]
  },
  {
   "cell_type": "code",
   "execution_count": 25,
   "id": "duplicate-julian",
   "metadata": {
    "execution": {
     "iopub.execute_input": "2021-08-23T09:15:28.380836Z",
     "iopub.status.busy": "2021-08-23T09:15:28.380836Z",
     "iopub.status.idle": "2021-08-23T09:15:28.403842Z",
     "shell.execute_reply": "2021-08-23T09:15:28.403842Z",
     "shell.execute_reply.started": "2021-08-23T09:15:28.380836Z"
    }
   },
   "outputs": [
    {
     "data": {
      "text/html": [
       "<div>\n",
       "<style scoped>\n",
       "    .dataframe tbody tr th:only-of-type {\n",
       "        vertical-align: middle;\n",
       "    }\n",
       "\n",
       "    .dataframe tbody tr th {\n",
       "        vertical-align: top;\n",
       "    }\n",
       "\n",
       "    .dataframe thead th {\n",
       "        text-align: right;\n",
       "    }\n",
       "</style>\n",
       "<table border=\"1\" class=\"dataframe\">\n",
       "  <thead>\n",
       "    <tr style=\"text-align: right;\">\n",
       "      <th></th>\n",
       "      <th>user_name</th>\n",
       "      <th>order_frequency</th>\n",
       "    </tr>\n",
       "  </thead>\n",
       "  <tbody>\n",
       "    <tr>\n",
       "      <th>0</th>\n",
       "      <td>012452d40dafae4df401bced74cdb490</td>\n",
       "      <td>2018-05-14</td>\n",
       "    </tr>\n",
       "    <tr>\n",
       "      <th>1</th>\n",
       "      <td>01f2285f85a1c603eb7ef755ad311769</td>\n",
       "      <td>2018-05-31</td>\n",
       "    </tr>\n",
       "    <tr>\n",
       "      <th>2</th>\n",
       "      <td>02b20b7c813efede140142ac610e36dc</td>\n",
       "      <td>2018-03-19</td>\n",
       "    </tr>\n",
       "    <tr>\n",
       "      <th>3</th>\n",
       "      <td>02fbe4db886eb98774c8ba300d39fa79</td>\n",
       "      <td>2018-02-17</td>\n",
       "    </tr>\n",
       "    <tr>\n",
       "      <th>4</th>\n",
       "      <td>035e7cd88b7450fd33efeca817081a53</td>\n",
       "      <td>2018-07-02</td>\n",
       "    </tr>\n",
       "    <tr>\n",
       "      <th>...</th>\n",
       "      <td>...</td>\n",
       "      <td>...</td>\n",
       "    </tr>\n",
       "    <tr>\n",
       "      <th>1738</th>\n",
       "      <td>fc2261ae2c583aa2e68241456a6467c8</td>\n",
       "      <td>2018-05-13</td>\n",
       "    </tr>\n",
       "    <tr>\n",
       "      <th>1739</th>\n",
       "      <td>fc24db02becd484accefaa5af59c18b1</td>\n",
       "      <td>2018-06-25</td>\n",
       "    </tr>\n",
       "    <tr>\n",
       "      <th>1740</th>\n",
       "      <td>fcd0ab79592faab19e2bf386cf69fbcd</td>\n",
       "      <td>2018-04-07</td>\n",
       "    </tr>\n",
       "    <tr>\n",
       "      <th>1741</th>\n",
       "      <td>fde381fe79993303957d1fcf9cd6bf4a</td>\n",
       "      <td>2018-05-03</td>\n",
       "    </tr>\n",
       "    <tr>\n",
       "      <th>1742</th>\n",
       "      <td>fed519569d16e690df6f89cb99d4e682</td>\n",
       "      <td>2018-03-18</td>\n",
       "    </tr>\n",
       "  </tbody>\n",
       "</table>\n",
       "<p>1743 rows × 2 columns</p>\n",
       "</div>"
      ],
      "text/plain": [
       "                             user_name order_frequency\n",
       "0     012452d40dafae4df401bced74cdb490      2018-05-14\n",
       "1     01f2285f85a1c603eb7ef755ad311769      2018-05-31\n",
       "2     02b20b7c813efede140142ac610e36dc      2018-03-19\n",
       "3     02fbe4db886eb98774c8ba300d39fa79      2018-02-17\n",
       "4     035e7cd88b7450fd33efeca817081a53      2018-07-02\n",
       "...                                ...             ...\n",
       "1738  fc2261ae2c583aa2e68241456a6467c8      2018-05-13\n",
       "1739  fc24db02becd484accefaa5af59c18b1      2018-06-25\n",
       "1740  fcd0ab79592faab19e2bf386cf69fbcd      2018-04-07\n",
       "1741  fde381fe79993303957d1fcf9cd6bf4a      2018-05-03\n",
       "1742  fed519569d16e690df6f89cb99d4e682      2018-03-18\n",
       "\n",
       "[1743 rows x 2 columns]"
      ]
     },
     "execution_count": 25,
     "metadata": {},
     "output_type": "execute_result"
    }
   ],
   "source": [
    "cur.execute(\"\"\"SELECT user_name, order_recency FROM datamarts.rfm fs where order_frequency > 1 and order_recency > '2018-01-01'\"\"\")\n",
    "query_results = cur.fetchall()\n",
    "df3 = pd.DataFrame (query_results, columns =['user_name','order_frequency'])\n",
    "df3"
   ]
  },
  {
   "cell_type": "code",
   "execution_count": 26,
   "id": "driven-christianity",
   "metadata": {
    "execution": {
     "iopub.execute_input": "2021-08-23T09:15:28.404841Z",
     "iopub.status.busy": "2021-08-23T09:15:28.404841Z",
     "iopub.status.idle": "2021-08-23T09:15:28.425846Z",
     "shell.execute_reply": "2021-08-23T09:15:28.425846Z",
     "shell.execute_reply.started": "2021-08-23T09:15:28.404841Z"
    }
   },
   "outputs": [
    {
     "data": {
      "text/html": [
       "<div>\n",
       "<style scoped>\n",
       "    .dataframe tbody tr th:only-of-type {\n",
       "        vertical-align: middle;\n",
       "    }\n",
       "\n",
       "    .dataframe tbody tr th {\n",
       "        vertical-align: top;\n",
       "    }\n",
       "\n",
       "    .dataframe thead th {\n",
       "        text-align: right;\n",
       "    }\n",
       "</style>\n",
       "<table border=\"1\" class=\"dataframe\">\n",
       "  <thead>\n",
       "    <tr style=\"text-align: right;\">\n",
       "      <th></th>\n",
       "      <th>user_name</th>\n",
       "      <th>order_frequency</th>\n",
       "    </tr>\n",
       "  </thead>\n",
       "  <tbody>\n",
       "    <tr>\n",
       "      <th>0</th>\n",
       "      <td>012452d40dafae4df401bced74cdb490</td>\n",
       "      <td>2</td>\n",
       "    </tr>\n",
       "    <tr>\n",
       "      <th>1</th>\n",
       "      <td>01f2285f85a1c603eb7ef755ad311769</td>\n",
       "      <td>2</td>\n",
       "    </tr>\n",
       "    <tr>\n",
       "      <th>2</th>\n",
       "      <td>02b20b7c813efede140142ac610e36dc</td>\n",
       "      <td>2</td>\n",
       "    </tr>\n",
       "    <tr>\n",
       "      <th>3</th>\n",
       "      <td>02fbe4db886eb98774c8ba300d39fa79</td>\n",
       "      <td>2</td>\n",
       "    </tr>\n",
       "    <tr>\n",
       "      <th>4</th>\n",
       "      <td>031ea691b99fc101dcad357d1a83573f</td>\n",
       "      <td>2</td>\n",
       "    </tr>\n",
       "    <tr>\n",
       "      <th>...</th>\n",
       "      <td>...</td>\n",
       "      <td>...</td>\n",
       "    </tr>\n",
       "    <tr>\n",
       "      <th>2908</th>\n",
       "      <td>fde381fe79993303957d1fcf9cd6bf4a</td>\n",
       "      <td>2</td>\n",
       "    </tr>\n",
       "    <tr>\n",
       "      <th>2909</th>\n",
       "      <td>fe613188d4d20ea3e3dc1290549c3ad1</td>\n",
       "      <td>2</td>\n",
       "    </tr>\n",
       "    <tr>\n",
       "      <th>2910</th>\n",
       "      <td>fed519569d16e690df6f89cb99d4e682</td>\n",
       "      <td>2</td>\n",
       "    </tr>\n",
       "    <tr>\n",
       "      <th>2911</th>\n",
       "      <td>ff44401d0d8f5b9c54a47374eb48c1b8</td>\n",
       "      <td>2</td>\n",
       "    </tr>\n",
       "    <tr>\n",
       "      <th>2912</th>\n",
       "      <td>ffe254cc039740e17dd15a5305035928</td>\n",
       "      <td>2</td>\n",
       "    </tr>\n",
       "  </tbody>\n",
       "</table>\n",
       "<p>2913 rows × 2 columns</p>\n",
       "</div>"
      ],
      "text/plain": [
       "                             user_name  order_frequency\n",
       "0     012452d40dafae4df401bced74cdb490                2\n",
       "1     01f2285f85a1c603eb7ef755ad311769                2\n",
       "2     02b20b7c813efede140142ac610e36dc                2\n",
       "3     02fbe4db886eb98774c8ba300d39fa79                2\n",
       "4     031ea691b99fc101dcad357d1a83573f                2\n",
       "...                                ...              ...\n",
       "2908  fde381fe79993303957d1fcf9cd6bf4a                2\n",
       "2909  fe613188d4d20ea3e3dc1290549c3ad1                2\n",
       "2910  fed519569d16e690df6f89cb99d4e682                2\n",
       "2911  ff44401d0d8f5b9c54a47374eb48c1b8                2\n",
       "2912  ffe254cc039740e17dd15a5305035928                2\n",
       "\n",
       "[2913 rows x 2 columns]"
      ]
     },
     "execution_count": 26,
     "metadata": {},
     "output_type": "execute_result"
    }
   ],
   "source": [
    "cur.execute(\"\"\"SELECT user_name, order_frequency FROM datamarts.rfm fs where order_frequency > 1\"\"\")\n",
    "query_results = cur.fetchall()\n",
    "df2 = pd.DataFrame (query_results, columns =['user_name','order_frequency'])\n",
    "df2"
   ]
  },
  {
   "cell_type": "code",
   "execution_count": 27,
   "id": "public-marine",
   "metadata": {
    "execution": {
     "iopub.execute_input": "2021-08-23T09:15:28.426846Z",
     "iopub.status.busy": "2021-08-23T09:15:28.426846Z",
     "iopub.status.idle": "2021-08-23T09:15:28.576880Z",
     "shell.execute_reply": "2021-08-23T09:15:28.576880Z",
     "shell.execute_reply.started": "2021-08-23T09:15:28.426846Z"
    }
   },
   "outputs": [
    {
     "data": {
      "image/png": "[encoded data removed]",
      "text/plain": [
       "<Figure size 288x288 with 1 Axes>"
      ]
     },
     "metadata": {},
     "output_type": "display_data"
    }
   ],
   "source": [
    "import numpy as np\n",
    "import matplotlib.pyplot as plt\n",
    "from matplotlib.pyplot import figure\n",
    "import matplotlib as mpl \n",
    "\n",
    "\n",
    "fig, ax = plt.subplots(figsize=(4, 4), subplot_kw=dict(aspect=\"equal\"))\n",
    "\n",
    "data = [2913, 95420 - 2913]\n",
    "legends = ['User with > 1 order',\"User with only 1 order\" ]\n",
    "\n",
    "\n",
    "def func(pct, allvals):\n",
    "    absolute = int(pct/100.*np.sum(allvals))\n",
    "    return \"{:.2f}%\\n({})\".format(pct, absolute)\n",
    "\n",
    "\n",
    "wedges, texts, autotexts = ax.pie(data, autopct=lambda pct: func(pct, data),\n",
    "                                  textprops={'color': 'w'}, radius=2)\n",
    "texts[-1].set_fontsize(60)\n",
    "\n",
    "ax.legend(wedges, legends,\n",
    "          loc=\"best\",\n",
    "          bbox_to_anchor=(1, 0, 0.5, 1))\n",
    "\n",
    "plt.setp(autotexts, size=20, weight=\"bold\")\n",
    "plt.show()\n"
   ]
  },
  {
   "cell_type": "code",
   "execution_count": 30,
   "id": "sealed-cricket",
   "metadata": {
    "execution": {
     "iopub.execute_input": "2021-08-23T09:16:11.072087Z",
     "iopub.status.busy": "2021-08-23T09:16:11.072087Z",
     "iopub.status.idle": "2021-08-23T09:16:11.092091Z",
     "shell.execute_reply": "2021-08-23T09:16:11.092091Z",
     "shell.execute_reply.started": "2021-08-23T09:16:11.072087Z"
    }
   },
   "outputs": [
    {
     "data": {
      "text/html": [
       "<div>\n",
       "<style scoped>\n",
       "    .dataframe tbody tr th:only-of-type {\n",
       "        vertical-align: middle;\n",
       "    }\n",
       "\n",
       "    .dataframe tbody tr th {\n",
       "        vertical-align: top;\n",
       "    }\n",
       "\n",
       "    .dataframe thead th {\n",
       "        text-align: right;\n",
       "    }\n",
       "</style>\n",
       "<table border=\"1\" class=\"dataframe\">\n",
       "  <thead>\n",
       "    <tr style=\"text-align: right;\">\n",
       "      <th></th>\n",
       "      <th>user_name</th>\n",
       "    </tr>\n",
       "  </thead>\n",
       "  <tbody>\n",
       "    <tr>\n",
       "      <th>0</th>\n",
       "      <td>012452d40dafae4df401bced74cdb490</td>\n",
       "    </tr>\n",
       "    <tr>\n",
       "      <th>1</th>\n",
       "      <td>01f2285f85a1c603eb7ef755ad311769</td>\n",
       "    </tr>\n",
       "    <tr>\n",
       "      <th>2</th>\n",
       "      <td>02b20b7c813efede140142ac610e36dc</td>\n",
       "    </tr>\n",
       "    <tr>\n",
       "      <th>3</th>\n",
       "      <td>02fbe4db886eb98774c8ba300d39fa79</td>\n",
       "    </tr>\n",
       "    <tr>\n",
       "      <th>4</th>\n",
       "      <td>031ea691b99fc101dcad357d1a83573f</td>\n",
       "    </tr>\n",
       "    <tr>\n",
       "      <th>...</th>\n",
       "      <td>...</td>\n",
       "    </tr>\n",
       "    <tr>\n",
       "      <th>2908</th>\n",
       "      <td>fde381fe79993303957d1fcf9cd6bf4a</td>\n",
       "    </tr>\n",
       "    <tr>\n",
       "      <th>2909</th>\n",
       "      <td>fe613188d4d20ea3e3dc1290549c3ad1</td>\n",
       "    </tr>\n",
       "    <tr>\n",
       "      <th>2910</th>\n",
       "      <td>fed519569d16e690df6f89cb99d4e682</td>\n",
       "    </tr>\n",
       "    <tr>\n",
       "      <th>2911</th>\n",
       "      <td>ff44401d0d8f5b9c54a47374eb48c1b8</td>\n",
       "    </tr>\n",
       "    <tr>\n",
       "      <th>2912</th>\n",
       "      <td>ffe254cc039740e17dd15a5305035928</td>\n",
       "    </tr>\n",
       "  </tbody>\n",
       "</table>\n",
       "<p>2913 rows × 1 columns</p>\n",
       "</div>"
      ],
      "text/plain": [
       "                             user_name\n",
       "0     012452d40dafae4df401bced74cdb490\n",
       "1     01f2285f85a1c603eb7ef755ad311769\n",
       "2     02b20b7c813efede140142ac610e36dc\n",
       "3     02fbe4db886eb98774c8ba300d39fa79\n",
       "4     031ea691b99fc101dcad357d1a83573f\n",
       "...                                ...\n",
       "2908  fde381fe79993303957d1fcf9cd6bf4a\n",
       "2909  fe613188d4d20ea3e3dc1290549c3ad1\n",
       "2910  fed519569d16e690df6f89cb99d4e682\n",
       "2911  ff44401d0d8f5b9c54a47374eb48c1b8\n",
       "2912  ffe254cc039740e17dd15a5305035928\n",
       "\n",
       "[2913 rows x 1 columns]"
      ]
     },
     "execution_count": 30,
     "metadata": {},
     "output_type": "execute_result"
    }
   ],
   "source": [
    "\n",
    "cur.execute(\"\"\"select user_name from datamarts.rfm r where order_frequency > 1 \"\"\")\n",
    "query_results = cur.fetchall()\n",
    "tempdf = pd.DataFrame (query_results, columns =['user_name'])\n",
    "tempdf"
   ]
  }
 ],
 "metadata": {
  "kernelspec": {
   "display_name": "Python 3",
   "language": "python",
   "name": "python3"
  },
  "language_info": {
   "codemirror_mode": {
    "name": "ipython",
    "version": 3
   },
   "file_extension": ".py",
   "mimetype": "text/x-python",
   "name": "python",
   "nbconvert_exporter": "python",
   "pygments_lexer": "ipython3",
   "version": "3.8.5"
  }
 },
 "nbformat": 4,
 "nbformat_minor": 5
}
